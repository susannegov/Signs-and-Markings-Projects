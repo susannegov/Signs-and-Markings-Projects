{
 "cells": [
  {
   "cell_type": "markdown",
   "metadata": {},
   "source": [
    "# Overhead Signs Work Order Creation\n",
    "--------------------------------------------------\n",
    "The purpose of this script is to create work orders of overhead street name signs. The information for work orders are created from a feature layer of operational maintenance areas intersecting signalized intersections.\n"
   ]
  },
  {
   "cell_type": "markdown",
   "metadata": {},
   "source": [
    "## Imports"
   ]
  },
  {
   "cell_type": "code",
   "execution_count": 20,
   "metadata": {},
   "outputs": [],
   "source": [
    "from arcgis.gis import GIS\n",
    "from arcgis.features import FeatureLayer,GeoAccessor, GeoSeriesAccessor\n",
    "import pandas as pd"
   ]
  },
  {
   "cell_type": "markdown",
   "metadata": {},
   "source": [
    "Access the COA login"
   ]
  },
  {
   "cell_type": "code",
   "execution_count": null,
   "metadata": {},
   "outputs": [],
   "source": [
    "gis = GIS(\"https://austin.maps.arcgis.com/home/index.html\", client_id='CrnxPfTcm7Y7ZGl7')"
   ]
  },
  {
   "cell_type": "markdown",
   "metadata": {},
   "source": [
    "Retrieve locations of signalized intersections intersecting operational maintenance areas to publish into a folder and excel worksheet."
   ]
  },
  {
   "cell_type": "code",
   "execution_count": 22,
   "metadata": {},
   "outputs": [
    {
     "data": {
      "text/html": [
       "<div>\n",
       "<style scoped>\n",
       "    .dataframe tbody tr th:only-of-type {\n",
       "        vertical-align: middle;\n",
       "    }\n",
       "\n",
       "    .dataframe tbody tr th {\n",
       "        vertical-align: top;\n",
       "    }\n",
       "\n",
       "    .dataframe thead th {\n",
       "        text-align: right;\n",
       "    }\n",
       "</style>\n",
       "<table border=\"1\" class=\"dataframe\">\n",
       "  <thead>\n",
       "    <tr style=\"text-align: right;\">\n",
       "      <th></th>\n",
       "      <th>OBJECTID</th>\n",
       "      <th>TILE_NAME</th>\n",
       "      <th>SHAPE</th>\n",
       "    </tr>\n",
       "  </thead>\n",
       "  <tbody>\n",
       "    <tr>\n",
       "      <td>0</td>\n",
       "      <td>1</td>\n",
       "      <td>R52</td>\n",
       "      <td>{\"rings\": [[[3161341.49986032, 10201803.000153...</td>\n",
       "    </tr>\n",
       "    <tr>\n",
       "      <td>1</td>\n",
       "      <td>2</td>\n",
       "      <td>M52</td>\n",
       "      <td>{\"rings\": [[[3135138.25010157, 10201165.000117...</td>\n",
       "    </tr>\n",
       "    <tr>\n",
       "      <td>2</td>\n",
       "      <td>3</td>\n",
       "      <td>J52</td>\n",
       "      <td>{\"rings\": [[[3115485.25003757, 10200699.000065...</td>\n",
       "    </tr>\n",
       "    <tr>\n",
       "      <td>3</td>\n",
       "      <td>4</td>\n",
       "      <td>WS54</td>\n",
       "      <td>{\"rings\": [[[3010493.25004824, 10206922.000086...</td>\n",
       "    </tr>\n",
       "    <tr>\n",
       "      <td>4</td>\n",
       "      <td>5</td>\n",
       "      <td>V53</td>\n",
       "      <td>{\"rings\": [[[3187435.24983807, 10206722.000158...</td>\n",
       "    </tr>\n",
       "  </tbody>\n",
       "</table>\n",
       "</div>"
      ],
      "text/plain": [
       "   OBJECTID TILE_NAME                                              SHAPE\n",
       "0         1       R52  {\"rings\": [[[3161341.49986032, 10201803.000153...\n",
       "1         2       M52  {\"rings\": [[[3135138.25010157, 10201165.000117...\n",
       "2         3       J52  {\"rings\": [[[3115485.25003757, 10200699.000065...\n",
       "3         4      WS54  {\"rings\": [[[3010493.25004824, 10206922.000086...\n",
       "4         5       V53  {\"rings\": [[[3187435.24983807, 10206722.000158..."
      ]
     },
     "metadata": {},
     "output_type": "display_data"
    }
   ],
   "source": [
    "url = r\"https://services.arcgis.com/0L95CJ0VTaxqcmED/arcgis/rest/services/{}/FeatureServer/0\"\n",
    "signals = pd.DataFrame.spatial.from_layer(FeatureLayer(url.format(\"TRANSPORTATION_signals2\")))\n",
    "oma = pd.DataFrame.spatial.from_layer(FeatureLayer(url.format(\"LOCATION_grids_200\"))) #OMA layer will be on AGOL\n",
    "display(oma.head())\n",
    "#overhead = oma.overlay(signals)\n",
    "\n",
    "#overhead = signals.intersect(oma,1)"
   ]
  },
  {
   "cell_type": "code",
   "execution_count": 2,
   "metadata": {},
   "outputs": [],
   "source": [
    "from pptx import Presentation\n",
    "from pptx.util import Inches, Pt\n",
    "from pptx.dml.color import RGBColor\n",
    "from PIL import Image\n",
    "from resizeimage import resizeimage\n",
    "from collections import OrderedDict\n",
    "import csv\n",
    "import pandas as pd\n",
    "import datetime\n",
    "import sys\n",
    "import os\n",
    "import win32com.client\n",
    "from knackpy import Knack"
   ]
  },
  {
   "cell_type": "code",
   "execution_count": 2,
   "metadata": {},
   "outputs": [],
   "source": [
    "# This will create the list of values for each intersection based on signal ID\n",
    "filePath = r\"G:\\ATD\\ATD_GIS\\Signs\\123_Signs_Maintenance_Plan\\Operational_Maintenance_Areas_Sign_Maintenance_Plan\"\n",
    "author = \"Susanne Gov\"\n",
    "\n",
    "df = pd.read_excel(filePath + r\"\\OverheadSigns_FY2019.xlsx\", sheet_name='Signs')  # sheetname is optional\n",
    "df.to_csv(filePath + r'\\OverheadSigns_FY2019_SIGNS.csv', index=False)\n",
    "\n",
    "work_orders = pd.read_excel(filePath + r\"\\OverheadSigns_FY2019.xlsx\", sheet_name='StreetView Link')  # sheetname is optional\n",
    "work_orders.to_csv(filePath + r'\\OverheadSigns_FY2019.csv', index=False)          \n",
    "signalID = []\n",
    "index = 1\n",
    "with open (filePath + r'\\OverheadSigns_FY2019.csv','rU') as csvfile:\n",
    "    orderRow = csv.reader(csvfile, delimiter=',')\n",
    "    for row in orderRow:\n",
    "        values = OrderedDict()\n",
    "        if row[0] != \"SIGNAL_ID\":\n",
    "            values[\"Created Date\"] = row[15]\n",
    "            values[\"Created By\"] = author\n",
    "            values[\"Work Order ID\"] = row[14]\n",
    "            values[\"Signal ID\"] = row[0]\n",
    "            values[\"Intersection ID\"] = row[1]\n",
    "            values[\"Primary Street\"] = row[2]\n",
    "            values[\"Cross Street\"] = row[3]\n",
    "            values[\"Link (N)\"] = row[10]\n",
    "            values[\"Link (S)\"] = row[11]\n",
    "            values[\"Link (E)\"] = row[12]\n",
    "            values[\"Link (W)\"] = row[13]\n",
    "            signalID.append(values)\n",
    "            index +=1\n",
    "    index = 1\n",
    "    csvfile.close()"
   ]
  },
  {
   "cell_type": "code",
   "execution_count": 3,
   "metadata": {},
   "outputs": [],
   "source": [
    "signs = []\n",
    "\n",
    "with open (filePath + r'\\OverheadSigns_FY2019_SIGNS.csv','rU') as csvfile:\n",
    "    csv = csv.reader(csvfile, delimiter=',')\n",
    "    for row in csv:\n",
    "        sign = OrderedDict()\n",
    "        sign[\"Signal ID\"] = row[0]\n",
    "        sign[\"Direction\"] = row[1]\n",
    "        sign[\"Sign Type\"] = row[2] \n",
    "        sign[\"Street Sign\"] = row[3]\n",
    "        sign[\"Bottom Text (Optional)\"] = row[6]\n",
    "        sign[\"Install/Remove\"] = row[7]\n",
    "        signs.append(sign)"
   ]
  },
  {
   "cell_type": "code",
   "execution_count": 4,
   "metadata": {},
   "outputs": [],
   "source": [
    "# Take an existing image of the streetview imagery and will resize the image to fit the work order template\n",
    "def makeImg (sigId, nSlide):\n",
    "    imgname = sigId + \"_\" + direction\n",
    "    imagery = imagePath + \"/\" + imgname + \".png\"\n",
    "    try:\n",
    "        with open(imagery, 'r+b') as f:\n",
    "            with Image.open(f) as image:\n",
    "                cover = resizeimage.resize_contain(image, [560, 280])\n",
    "                cover.save(imagePath + \"Cropped/\" + imgname + \".png\", image.format)\n",
    "        pic = nSlide.add_picture(imagePath + \"Cropped/\" + imgname + \".png\",Inches(0.25),Inches(1.1))\n",
    "        line = pic.line\n",
    "        line.color.rgb = RGBColor(0,0,0)\n",
    "        line.width = Inches(0.05)\n",
    "    except IOError:\n",
    "        return None        "
   ]
  },
  {
   "cell_type": "code",
   "execution_count": 5,
   "metadata": {},
   "outputs": [],
   "source": [
    "# Create a pretty header\n",
    "def makeHead(nSlide):\n",
    "    title = nSlide.add_textbox(Inches(0.25),Inches(0.4),Inches(7.5),Inches(0.75))\n",
    "    tf = title.text_frame\n",
    "    tf.clear()\n",
    "    p = tf.paragraphs[0]\n",
    "    run = p.add_run()\n",
    "    run.text = \"Austin Transportation Department Signs Work Orders\"\n",
    "    font = run.font\n",
    "    font.name = 'Arial'\n",
    "    font.size = Pt(20)\n",
    "    font.bold = True\n",
    "    seal = \"G:/ATD/ATD_GIS/03_RESOURCES/Seals_Logos/cityseal_60_x_60.jpg\"\n",
    "    pic = nSlide.add_picture(seal,Inches(8.5),Inches(0.25))"
   ]
  },
  {
   "cell_type": "code",
   "execution_count": 6,
   "metadata": {},
   "outputs": [],
   "source": [
    "# Create information box for work orders\n",
    "def makeInfo(sigID, nSlide, direction):\n",
    "    info = nSlide.add_textbox(Inches(8.25),Inches(1.15),Inches(1.5),Inches(4.5))\n",
    "    infotext = info.text_frame.paragraphs[0]\n",
    "    info.text_frame.word_wrap = True\n",
    "    for (key,val) in sigID.iteritems():\n",
    "        if \"Link\" not in key or direction in key:\n",
    "            run1 = infotext.add_run()\n",
    "            run1.text = key + \"\\n\"\n",
    "            run1.font.size = Pt(12)\n",
    "            run1.font.bold = True\n",
    "            run1.font.underline = True\n",
    "            run2 = infotext.add_run();\n",
    "            if \"Link\" in key and \"N/A\" not in val:\n",
    "                run2.hyperlink.address = val\n",
    "            run2.text =  val + \"\\n\"\n",
    "            run2.font.size = Pt(12)\n",
    "    run3 = infotext.add_run()\n",
    "    run3.text = \"Cardinal Direction: \"\n",
    "    run3.font.bold = True\n",
    "    run3.font.underline = True  \n",
    "    run3.font.size = Pt(12)\n",
    "    c = infotext.add_run()\n",
    "    if direction is \"N\":\n",
    "        c.text = \"North\"\n",
    "    elif (direction is \"S\"):\n",
    "        c.text = \"South\"\n",
    "    elif (direction is \"E\"):\n",
    "        c.text = \"East\"\n",
    "    elif (direction is \"W\"):\n",
    "        c.text = \"West\"\n",
    "    c.font.size = Pt(12)   "
   ]
  },
  {
   "cell_type": "code",
   "execution_count": 7,
   "metadata": {},
   "outputs": [],
   "source": [
    "# For changing table font sizes\n",
    "def iter_cells(table):\n",
    "    for row in table.rows:\n",
    "        for cell in row.cells:\n",
    "            yield cell\n",
    "# Create list of Sign Overheads\n",
    "def makeSignTable(sigID,nSlide,direction,signs):\n",
    "    # row/column/left/top/width/height\n",
    "    table = nSlide.add_table(6,4,Inches(0.25),Inches(5.2),170,1000).table\n",
    "    table.cell(0,0).text = \"Sign Type\"\n",
    "    table.cell(0,1).text = \"Street Sign\"\n",
    "    table.cell(0,2).text = \"Bottom Text\"\n",
    "    table.cell(0,3).text = \"Install/Remove\"\n",
    "    \n",
    "    table.columns[0].width = Inches(5)\n",
    "    table.columns[1].width = Inches(1.75)\n",
    "    table.columns[2].width = Inches(1.5)\n",
    "    table.columns[3].width = Inches(1.3)\n",
    "    \n",
    "    index = 1\n",
    "    for x in signs:\n",
    "        if x[\"Signal ID\"] == sigID and x[\"Direction\"] == direction:\n",
    "            table.cell(index,0).text = x[\"Sign Type\"]\n",
    "            table.cell(index,1).text = x[\"Street Sign\"]\n",
    "            table.cell(index,2).text = x[\"Bottom Text (Optional)\"]\n",
    "            table.cell(index,3).text = x[\"Install/Remove\"]\n",
    "            index +=1\n",
    "    for cell in iter_cells(table):\n",
    "        for paragraph in cell.text_frame.paragraphs:\n",
    "            for run in paragraph.runs:\n",
    "                run.font.size = Pt(12)"
   ]
  },
  {
   "cell_type": "code",
   "execution_count": 8,
   "metadata": {},
   "outputs": [],
   "source": [
    "# Converts Powerpoint file to PDF file\n",
    "def convertPDF(path,name):\n",
    "    in_file = path + \"/\" + name\n",
    "    out_file = path + \"PDF\\\\\" + name[:-5] + \".pdf\"\n",
    "    powerpoint = win32com.client.Dispatch(\"Powerpoint.Application\")\n",
    "    pdf = powerpoint.Presentations.Open(in_file,WithWindow=False)\n",
    "    pdf.SaveCopyAs(out_file,32)\n",
    "    pdf.Close()\n",
    "    powerpoint.Quit()"
   ]
  },
  {
   "cell_type": "code",
   "execution_count": 9,
   "metadata": {
    "scrolled": true
   },
   "outputs": [],
   "source": [
    "dirs = [\"N\",\"S\",\"E\",\"W\"]\n",
    "path = \"G:\\\\ATD\\\\ATD_GIS\\\\Signs\\\\123_Signs_Maintenance_Plan\\\\Operational_Maintenance_Areas_Sign_Maintenance_Plan\\\\WorkOrderSignsOverheadFY2019\"\n",
    "imagePath = \"G:/ATD/ATD_GIS/Signs/123_Signs_Maintenance_Plan/Operational_Maintenance_Areas_Sign_Maintenance_Plan/SignsFY2019Imagery\"\n",
    "\n",
    "for valueDictionary in signalID:\n",
    "    workOrder = Presentation()\n",
    "    dirindex = 0\n",
    "    for direction in dirs:\n",
    "        if \"N/A\" not in valueDictionary[\"Link (\"+ direction + \")\"]:\n",
    "            blank_slide_layout = workOrder.slide_layouts[6]\n",
    "            slide = workOrder.slides.add_slide(blank_slide_layout)\n",
    "            nSlide = slide.shapes\n",
    "            makeImg(valueDictionary[\"Signal ID\"], nSlide)\n",
    "            makeSignTable(valueDictionary[\"Signal ID\"],nSlide,direction,signs)\n",
    "            makeHead(nSlide)\n",
    "            makeInfo(valueDictionary, nSlide, direction)\n",
    "        dirindex += 1\n",
    "    name = \"ATDSignsWorkOrders_\" + valueDictionary[\"Signal ID\"] + \".pptx\"\n",
    "    workOrder.save(str(path) + \"/\" + name)\n",
    "    convertPDF(path,name)"
   ]
  },
  {
   "cell_type": "code",
   "execution_count": null,
   "metadata": {},
   "outputs": [],
   "source": []
  }
 ],
 "metadata": {
  "kernelspec": {
   "display_name": "Python [conda env:root] *",
   "language": "python",
   "name": "conda-root-py"
  },
  "language_info": {
   "codemirror_mode": {
    "name": "ipython",
    "version": 3
   },
   "file_extension": ".py",
   "mimetype": "text/x-python",
   "name": "python",
   "nbconvert_exporter": "python",
   "pygments_lexer": "ipython3",
   "version": "3.6.9"
  },
  "toc": {
   "base_numbering": 1,
   "nav_menu": {},
   "number_sections": true,
   "sideBar": true,
   "skip_h1_title": false,
   "title_cell": "Table of Contents",
   "title_sidebar": "Contents",
   "toc_cell": false,
   "toc_position": {},
   "toc_section_display": true,
   "toc_window_display": false
  }
 },
 "nbformat": 4,
 "nbformat_minor": 4
}
