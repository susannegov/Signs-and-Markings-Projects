{
 "cells": [
  {
   "cell_type": "markdown",
   "metadata": {
    "toc-hr-collapsed": false
   },
   "source": [
    "# Whereabouts Plans Template\n",
    "This notebook will demonstrate how to create a whereabouts plan automatically.\n",
    "\n",
    "<div style=\"text-align:center\"><img src=\"https://upload.wikimedia.org/wikipedia/commons/thumb/d/d3/Downtown_Austin_%28southward_view%2C_from_the_Capitol_Grounds_on_11th_street%29_%2823_November_2006%29.jpg/640px-Downtown_Austin_%28southward_view%2C_from_the_Capitol_Grounds_on_11th_street%29_%2823_November_2006%29.jpg\" /></div>\n",
    "\n",
    "## Introduction\n",
    "The purpose of this notebook is to create a Street and Bridge Work Order plans based on segment IDs and additional comments on long line. Markings feature layers are published in the City of Austin ArcGIS Portal page available for public view as well. \n",
    "\n",
    "The data should already be available in the folder path as an excel spreadsheet. If the spreadsheet exists, a map document will be configured for spreadsheet use."
   ]
  },
  {
   "cell_type": "markdown",
   "metadata": {},
   "source": [
    "## Imports\n",
    "The packages used for this project are:\n",
    "- [pandas](https://pandas.pydata.org/) to create dataframe of extracted table and transform the data\n",
    "- [pathlib](https://docs.python.org/3/library/pathlib.html) to find path to excel document if it exists\n",
    "- [archook](https://github.com/JamesRamm/archook) to search for arcgis and makes arcpy available to python\n",
    "- [arcpy](https://pro.arcgis.com/en/pro-app/arcpy/get-started/what-is-arcpy-.htm) to create whereabouts markings plans using ESRI ArcMap Desktop software\n",
    "- [openpyxl](https://openpyxl.readthedocs.io/en/stable/) to open excel files of markings and SBO data"
   ]
  },
  {
   "cell_type": "code",
   "execution_count": 80,
   "metadata": {},
   "outputs": [],
   "source": [
    "import pandas as pd\n",
    "from pathlib import Path\n",
    "import datetime\n",
    "import math\n",
    "from functools import reduce\n",
    "\n",
    "import archook \n",
    "archook.get_arcpy()\n",
    "import arcpy\n",
    "\n",
    "from PyPDF2 import PdfFileMerger\n",
    "import img2pdf\n",
    "import openpyxl\n",
    "from PIL import Image \n",
    "import os "
   ]
  },
  {
   "cell_type": "markdown",
   "metadata": {},
   "source": [
    "## Constants\n",
    "\n",
    "The date by month and day constant will determine the file pdf name to use as a dataframe. Folder path will determine where the plans will be created depending on the year. This is set to the top for the purpose of changing these constants as needed.\n",
    "\n",
    "<i>The table below explains the purpose of each constant.</i>\n",
    "\n",
    "| Constant | Description   |\n",
    "|:--------:|----|\n",
    "| <b>MONTH, DAY, YEAR</b> |Date used to find PDF in month-day format and file path based on year|\n",
    "|<b>FOLDER</b>      |File directory used to import SBO whereabouts reports from email|\n",
    "|<b>FILE_NAME</b>   |File directory name used to extact SBO whereabouts reports from file|\n",
    "|<b>MXD</b>   |Map document used to create whereabouts plans template|"
   ]
  },
  {
   "cell_type": "code",
   "execution_count": 81,
   "metadata": {},
   "outputs": [],
   "source": [
    "%store -r MONTH\n",
    "%store -r DAY\n",
    "%store -r YEAR\n",
    "%store -r FOLDER\n",
    "%store -r FILE_NAME\n",
    "MXD = r\"G:\\ATD\\Signs_and_Markings\\MARKINGS\\Whereabouts WORK ORDERS\\template\\Whereabouts_Plan_Template.mxd\"\n",
    "PLAN_PATH = r\"G:\\ATD\\Signs_and_Markings\\MARKINGS\\Whereabouts WORK ORDERS\\{}\".format(YEAR)"
   ]
  },
  {
   "cell_type": "markdown",
   "metadata": {},
   "source": [
    "## Methods\n",
    "These functions will be used to extract and transform the data into a feasible format.\n",
    "\n",
    "<i>The table below explains the purpose of each:</i>\n",
    "\n",
    "| Method | Description   |\n",
    "|:--------:|----|\n",
    "|<b>df_text</b> |Changes element text to the pandas dataframe|\n",
    "|<b>cover_aerial</b> |Zooms to selected features and extent for the dataframe|"
   ]
  },
  {
   "cell_type": "code",
   "execution_count": 82,
   "metadata": {},
   "outputs": [],
   "source": [
    "# Formats element text to match pandas dataframe\n",
    "def df_text(r):\n",
    "    date = datetime.datetime.now()\n",
    "    for e in arcpy.mapping.ListLayoutElements(mxd,'TEXT_ELEMENT'):\n",
    "            if e.name == 'SPECIFICATIONS':\n",
    "                e.text = str(r[\"SPECIFICATIONS\"])\n",
    "            elif e.name == 'CREATED DATE':\n",
    "                e.text =  \"{}/{}/{}\".format(date.month,date.day,date.year)\n",
    "            elif e.name == 'REQUESTOR ID':\n",
    "                e.text = str(r[\"Location ID\"])\n",
    "            elif e.name == 'LOCATION':\n",
    "                e.text = \"{} from {} to {}\".format(r[\"Street\"],r[\"From\"],r[\"To\"])\n",
    "            elif e.name == 'author':\n",
    "                e.text = 'Susanne Gov'\n",
    "            elif e.name == 'WORK GROUPS':\n",
    "                e.text = str(r['WORK GROUPS'])\n",
    "\n",
    "# Refreshes dataframe map aerial                \n",
    "def cover_aerial(mapdoc):\n",
    "    dataframe = arcpy.mapping.ListDataFrames(mapdoc,\"Layers\")[0]\n",
    "    dataframe.zoomToSelectedFeatures()\n",
    "    dataframe.extent = layer.getSelectedExtent()\n",
    "    arcpy.RefreshActiveView()"
   ]
  },
  {
   "cell_type": "markdown",
   "metadata": {},
   "source": [
    "## Import Datasets"
   ]
  },
  {
   "cell_type": "code",
   "execution_count": 83,
   "metadata": {},
   "outputs": [
    {
     "data": {
      "text/html": [
       "<div>\n",
       "<style scoped>\n",
       "    .dataframe tbody tr th:only-of-type {\n",
       "        vertical-align: middle;\n",
       "    }\n",
       "\n",
       "    .dataframe tbody tr th {\n",
       "        vertical-align: top;\n",
       "    }\n",
       "\n",
       "    .dataframe thead th {\n",
       "        text-align: right;\n",
       "    }\n",
       "</style>\n",
       "<table border=\"1\" class=\"dataframe\">\n",
       "  <thead>\n",
       "    <tr style=\"text-align: right;\">\n",
       "      <th></th>\n",
       "      <th>Location ID</th>\n",
       "      <th>SEGMENT_ID</th>\n",
       "      <th>Crosswalk</th>\n",
       "      <th>Stopline</th>\n",
       "      <th>Only word</th>\n",
       "      <th>Left  arrow</th>\n",
       "      <th>Right arrow</th>\n",
       "      <th>Bike arrow</th>\n",
       "      <th>Bicyclist symbol</th>\n",
       "      <th>Diagonal crosshatch</th>\n",
       "      <th>SPECIFICATIONS</th>\n",
       "    </tr>\n",
       "  </thead>\n",
       "  <tbody>\n",
       "    <tr>\n",
       "      <th>0</th>\n",
       "      <td>62870</td>\n",
       "      <td>2026275</td>\n",
       "      <td>NaN</td>\n",
       "      <td>NaN</td>\n",
       "      <td>NaN</td>\n",
       "      <td>NaN</td>\n",
       "      <td>NaN</td>\n",
       "      <td>3.0</td>\n",
       "      <td>NaN</td>\n",
       "      <td>4.0</td>\n",
       "      <td>Install 3 bike arrow, 4 diagonal crosshatch</td>\n",
       "    </tr>\n",
       "    <tr>\n",
       "      <th>1</th>\n",
       "      <td>62870</td>\n",
       "      <td>2038344</td>\n",
       "      <td>NaN</td>\n",
       "      <td>NaN</td>\n",
       "      <td>NaN</td>\n",
       "      <td>NaN</td>\n",
       "      <td>NaN</td>\n",
       "      <td>4.0</td>\n",
       "      <td>1.0</td>\n",
       "      <td>NaN</td>\n",
       "      <td>Install 4 bike arrow, 1 bicyclist symbol</td>\n",
       "    </tr>\n",
       "    <tr>\n",
       "      <th>2</th>\n",
       "      <td>62870</td>\n",
       "      <td>2038345</td>\n",
       "      <td>NaN</td>\n",
       "      <td>NaN</td>\n",
       "      <td>1.0</td>\n",
       "      <td>NaN</td>\n",
       "      <td>1.0</td>\n",
       "      <td>1.0</td>\n",
       "      <td>2.0</td>\n",
       "      <td>NaN</td>\n",
       "      <td>Install 1 only word, 1 right arrow, 1 bike arr...</td>\n",
       "    </tr>\n",
       "    <tr>\n",
       "      <th>3</th>\n",
       "      <td>62870</td>\n",
       "      <td>2043055</td>\n",
       "      <td>NaN</td>\n",
       "      <td>NaN</td>\n",
       "      <td>NaN</td>\n",
       "      <td>NaN</td>\n",
       "      <td>NaN</td>\n",
       "      <td>4.0</td>\n",
       "      <td>1.0</td>\n",
       "      <td>NaN</td>\n",
       "      <td>Install 4 bike arrow, 1 bicyclist symbol</td>\n",
       "    </tr>\n",
       "    <tr>\n",
       "      <th>4</th>\n",
       "      <td>62870</td>\n",
       "      <td>3259330</td>\n",
       "      <td>1.0</td>\n",
       "      <td>1.0</td>\n",
       "      <td>NaN</td>\n",
       "      <td>NaN</td>\n",
       "      <td>NaN</td>\n",
       "      <td>3.0</td>\n",
       "      <td>1.0</td>\n",
       "      <td>5.0</td>\n",
       "      <td>Install 1 crosswalk, 1 stopline, 3 bike arrow,...</td>\n",
       "    </tr>\n",
       "    <tr>\n",
       "      <th>5</th>\n",
       "      <td>62870</td>\n",
       "      <td>3259331</td>\n",
       "      <td>NaN</td>\n",
       "      <td>NaN</td>\n",
       "      <td>NaN</td>\n",
       "      <td>NaN</td>\n",
       "      <td>NaN</td>\n",
       "      <td>2.0</td>\n",
       "      <td>1.0</td>\n",
       "      <td>NaN</td>\n",
       "      <td>Install 2 bike arrow, 1 bicyclist symbol</td>\n",
       "    </tr>\n",
       "    <tr>\n",
       "      <th>6</th>\n",
       "      <td>62870</td>\n",
       "      <td>3259334</td>\n",
       "      <td>NaN</td>\n",
       "      <td>NaN</td>\n",
       "      <td>NaN</td>\n",
       "      <td>NaN</td>\n",
       "      <td>NaN</td>\n",
       "      <td>2.0</td>\n",
       "      <td>1.0</td>\n",
       "      <td>1.0</td>\n",
       "      <td>Install 2 bike arrow, 1 bicyclist symbol, 1 di...</td>\n",
       "    </tr>\n",
       "    <tr>\n",
       "      <th>7</th>\n",
       "      <td>62870</td>\n",
       "      <td>3259335</td>\n",
       "      <td>NaN</td>\n",
       "      <td>1.0</td>\n",
       "      <td>NaN</td>\n",
       "      <td>NaN</td>\n",
       "      <td>NaN</td>\n",
       "      <td>2.0</td>\n",
       "      <td>1.0</td>\n",
       "      <td>NaN</td>\n",
       "      <td>Install 1 stopline, 2 bike arrow, 1 bicyclist ...</td>\n",
       "    </tr>\n",
       "    <tr>\n",
       "      <th>8</th>\n",
       "      <td>74361</td>\n",
       "      <td>2040261</td>\n",
       "      <td>2.0</td>\n",
       "      <td>2.0</td>\n",
       "      <td>1.0</td>\n",
       "      <td>4.0</td>\n",
       "      <td>2.0</td>\n",
       "      <td>NaN</td>\n",
       "      <td>NaN</td>\n",
       "      <td>13.0</td>\n",
       "      <td>Install 2 crosswalk, 2 stopline, 1 only word, ...</td>\n",
       "    </tr>\n",
       "  </tbody>\n",
       "</table>\n",
       "</div>"
      ],
      "text/plain": [
       "   Location ID  SEGMENT_ID  Crosswalk  Stopline  Only word  Left  arrow  \\\n",
       "0        62870     2026275        NaN       NaN        NaN          NaN   \n",
       "1        62870     2038344        NaN       NaN        NaN          NaN   \n",
       "2        62870     2038345        NaN       NaN        1.0          NaN   \n",
       "3        62870     2043055        NaN       NaN        NaN          NaN   \n",
       "4        62870     3259330        1.0       1.0        NaN          NaN   \n",
       "5        62870     3259331        NaN       NaN        NaN          NaN   \n",
       "6        62870     3259334        NaN       NaN        NaN          NaN   \n",
       "7        62870     3259335        NaN       1.0        NaN          NaN   \n",
       "8        74361     2040261        2.0       2.0        1.0          4.0   \n",
       "\n",
       "   Right arrow  Bike arrow  Bicyclist symbol  Diagonal crosshatch   \\\n",
       "0          NaN         3.0               NaN                   4.0   \n",
       "1          NaN         4.0               1.0                   NaN   \n",
       "2          1.0         1.0               2.0                   NaN   \n",
       "3          NaN         4.0               1.0                   NaN   \n",
       "4          NaN         3.0               1.0                   5.0   \n",
       "5          NaN         2.0               1.0                   NaN   \n",
       "6          NaN         2.0               1.0                   1.0   \n",
       "7          NaN         2.0               1.0                   NaN   \n",
       "8          2.0         NaN               NaN                  13.0   \n",
       "\n",
       "                                      SPECIFICATIONS  \n",
       "0       Install 3 bike arrow, 4 diagonal crosshatch   \n",
       "1           Install 4 bike arrow, 1 bicyclist symbol  \n",
       "2  Install 1 only word, 1 right arrow, 1 bike arr...  \n",
       "3           Install 4 bike arrow, 1 bicyclist symbol  \n",
       "4  Install 1 crosswalk, 1 stopline, 3 bike arrow,...  \n",
       "5           Install 2 bike arrow, 1 bicyclist symbol  \n",
       "6  Install 2 bike arrow, 1 bicyclist symbol, 1 di...  \n",
       "7  Install 1 stopline, 2 bike arrow, 1 bicyclist ...  \n",
       "8  Install 2 crosswalk, 2 stopline, 1 only word, ...  "
      ]
     },
     "metadata": {},
     "output_type": "display_data"
    }
   ],
   "source": [
    "if Path(FILE_NAME + '.xlsx').exists():\n",
    "    df = pd.read_excel(FILE_NAME + '.xlsx','Cover', index_col=0).reset_index()\n",
    "    df1 = pd.read_excel(FILE_NAME + '.xlsx','Pages', index_col=0).reset_index()\n",
    "    display(df1)"
   ]
  },
  {
   "cell_type": "markdown",
   "metadata": {},
   "source": [
    "## Setting up Cover Document\n",
    "A database connection to GISDM is needed to access the markings asset layers and the markings assets layers. We can open up a map document of the cover work orders and another map document of the pages work orders."
   ]
  },
  {
   "cell_type": "code",
   "execution_count": 84,
   "metadata": {},
   "outputs": [],
   "source": [
    "mxd = arcpy.mapping.MapDocument(MXD)\n",
    "sde_path = r\"Database Connections\\GISDM.sde\"\n",
    "\n",
    "# Create Database connection \n",
    "arcpy.env.workspace = sde_path\n",
    "if arcpy.Exists(sde_path) == False:\n",
    "    arcpy.CreateDatabaseConnection_management(\"Database Connections\",\"GISDM.sde\", \"ORACLE\", \n",
    "                                              \"sde:oracle11g:gisdm\", \"DATABASE_AUTH\")"
   ]
  },
  {
   "cell_type": "code",
   "execution_count": 85,
   "metadata": {},
   "outputs": [
    {
     "name": "stdout",
     "output_type": "stream",
     "text": [
      "PDF file created Cover 62870.pdf\n",
      "PDF file created Cover 74361.pdf\n"
     ]
    }
   ],
   "source": [
    "layer = arcpy.mapping.ListLayers(mxd,\"TRANSPORTATION.street_segment\")[0]\n",
    "for index,row in df.iterrows():\n",
    "    segments = str(row[\"Segment IDs\"]).split(',')\n",
    "    sql = 'SEGMENT_ID IN({})'.format(str(segments)[1:-1])\n",
    "    arcpy.SelectLayerByAttribute_management(layer,\"NEW_SELECTION\",sql) \n",
    "    for l in arcpy.mapping.ListLayers(mxd,'TRANSPORTATION.markings*'):\n",
    "        arcpy.SelectLayerByAttribute_management(l,\"NEW_SELECTION\",sql) \n",
    "    df_text(row)\n",
    "    cover_aerial(mxd)\n",
    "    arcpy.mapping.ExportToPDF(mxd, PLAN_PATH + \"\\\\ATD_Whereabouts_Cover_{}.pdf\".format(row[\"Location ID\"]))\n",
    "    arcpy.SelectLayerByAttribute_management(layer,\"CLEAR_SELECTION\")\n",
    "    print \"PDF file created Cover {}.pdf\".format(row[\"Location ID\"])"
   ]
  },
  {
   "cell_type": "markdown",
   "metadata": {},
   "source": [
    "# Setting up Pages"
   ]
  },
  {
   "cell_type": "code",
   "execution_count": null,
   "metadata": {},
   "outputs": [],
   "source": []
  },
  {
   "cell_type": "code",
   "execution_count": 48,
   "metadata": {},
   "outputs": [
    {
     "data": {
      "text/html": [
       "<div>\n",
       "<style scoped>\n",
       "    .dataframe tbody tr th:only-of-type {\n",
       "        vertical-align: middle;\n",
       "    }\n",
       "\n",
       "    .dataframe tbody tr th {\n",
       "        vertical-align: top;\n",
       "    }\n",
       "\n",
       "    .dataframe thead th {\n",
       "        text-align: right;\n",
       "    }\n",
       "</style>\n",
       "<table border=\"1\" class=\"dataframe\">\n",
       "  <thead>\n",
       "    <tr style=\"text-align: right;\">\n",
       "      <th></th>\n",
       "      <th>Location ID</th>\n",
       "      <th>SEGMENT_ID</th>\n",
       "      <th>SHORT_LINE_TYPE</th>\n",
       "      <th>COUNT</th>\n",
       "      <th>id</th>\n",
       "    </tr>\n",
       "  </thead>\n",
       "  <tbody>\n",
       "    <tr>\n",
       "      <th>0</th>\n",
       "      <td>62870</td>\n",
       "      <td>3259330</td>\n",
       "      <td>CROSSWALK</td>\n",
       "      <td>1</td>\n",
       "      <td>62870_3259330</td>\n",
       "    </tr>\n",
       "    <tr>\n",
       "      <th>1</th>\n",
       "      <td>62870</td>\n",
       "      <td>3259330</td>\n",
       "      <td>STOP_LINE</td>\n",
       "      <td>1</td>\n",
       "      <td>62870_3259330</td>\n",
       "    </tr>\n",
       "    <tr>\n",
       "      <th>2</th>\n",
       "      <td>62870</td>\n",
       "      <td>3259335</td>\n",
       "      <td>STOP_LINE</td>\n",
       "      <td>1</td>\n",
       "      <td>62870_3259335</td>\n",
       "    </tr>\n",
       "    <tr>\n",
       "      <th>3</th>\n",
       "      <td>74361</td>\n",
       "      <td>2040261</td>\n",
       "      <td>CROSSWALK</td>\n",
       "      <td>2</td>\n",
       "      <td>74361_2040261</td>\n",
       "    </tr>\n",
       "    <tr>\n",
       "      <th>4</th>\n",
       "      <td>74361</td>\n",
       "      <td>2040261</td>\n",
       "      <td>STOP_LINE</td>\n",
       "      <td>2</td>\n",
       "      <td>74361_2040261</td>\n",
       "    </tr>\n",
       "  </tbody>\n",
       "</table>\n",
       "</div>"
      ],
      "text/plain": [
       "   Location ID  SEGMENT_ID SHORT_LINE_TYPE  COUNT             id\n",
       "0        62870     3259330       CROSSWALK      1  62870_3259330\n",
       "1        62870     3259330       STOP_LINE      1  62870_3259330\n",
       "2        62870     3259335       STOP_LINE      1  62870_3259335\n",
       "3        74361     2040261       CROSSWALK      2  74361_2040261\n",
       "4        74361     2040261       STOP_LINE      2  74361_2040261"
      ]
     },
     "metadata": {},
     "output_type": "display_data"
    },
    {
     "name": "stdout",
     "output_type": "stream",
     "text": [
      "PDF file created Page_62870_3259330.pdf\n",
      "PDF file created Page_62870_3259330.pdf\n",
      "PDF file created Page_62870_3259335.pdf\n",
      "PDF file created Page_74361_2040261.pdf\n",
      "PDF file created Page_74361_2040261.pdf\n"
     ]
    }
   ],
   "source": [
    "layer = arcpy.mapping.ListLayers(mxd,'TRANSPORTATION.markings_short_line')[0]\n",
    "arcpy.SelectLayerByAttribute_management(arcpy.mapping.ListLayers(mxd,\"TRANSPORTATION.street_segment\")[0],\"CLEAR_SELECTION\")\n",
    "for index,row in pages.iterrows():\n",
    "    segment = int(row[\"SEGMENT_ID\"])\n",
    "    q = 'SEGMENT_ID = {}'.format(segment)\n",
    "    arcpy.SelectLayerByAttribute_management(layer, \"NEW_SELECTION\", q)\n",
    "    for e in arcpy.mapping.ListLayoutElements(mxd,'TEXT_ELEMENT'):\n",
    "        if e.name == 'SPECIFICATIONS':\n",
    "            e.text = \"Install {} {}s\".format(row['COUNT'],row['SHORT_LINE_TYPE'].lower().replace(\"_\",\" \"))\n",
    "        elif e.name == 'REQUESTOR ID':\n",
    "            e.text = str(row[\"Location ID\"])\n",
    "        elif e.name == 'row1':\n",
    "            e.text = 'SEGMENT ID'\n",
    "        elif e.name == 'LOCATION':\n",
    "            e.text = str(row[\"SEGMENT_ID\"])\n",
    "    dataframe = arcpy.mapping.ListDataFrames(mxd,\"Layers\")[0]\n",
    "    dataframe.zoomToSelectedFeatures()\n",
    "    dataframe.extent = layer.getSelectedExtent()\n",
    "    dataframe.scale = 1000\n",
    "    arcpy.RefreshActiveView()\n",
    "    arcpy.mapping.ExportToPDF(mxd, PLAN_PATH + \"\\\\ATD_Whereabouts_Page_{}.pdf\".format(row[\"id\"]))\n",
    "    print \"PDF file created Page_{}.pdf\".format(row[\"id\"])"
   ]
  },
  {
   "cell_type": "code",
   "execution_count": null,
   "metadata": {},
   "outputs": [],
   "source": []
  },
  {
   "cell_type": "code",
   "execution_count": 37,
   "metadata": {},
   "outputs": [
    {
     "ename": "NameError",
     "evalue": "name 'pages' is not defined",
     "output_type": "error",
     "traceback": [
      "\u001b[1;31m\u001b[0m",
      "\u001b[1;31mNameError\u001b[0mTraceback (most recent call last)",
      "\u001b[1;32m<ipython-input-37-2ba83e95262f>\u001b[0m in \u001b[0;36m<module>\u001b[1;34m()\u001b[0m\n\u001b[0;32m      5\u001b[0m     \u001b[0mpdf\u001b[0m \u001b[1;33m=\u001b[0m \u001b[1;34m\"{}{}_{}.pdf\"\u001b[0m\u001b[1;33m.\u001b[0m\u001b[0mformat\u001b[0m\u001b[1;33m(\u001b[0m\u001b[0ma\u001b[0m\u001b[1;33m,\u001b[0m\u001b[1;34m'Cover'\u001b[0m\u001b[1;33m,\u001b[0m\u001b[0mr\u001b[0m\u001b[1;33m[\u001b[0m\u001b[1;34m'Location ID'\u001b[0m\u001b[1;33m]\u001b[0m\u001b[1;33m)\u001b[0m\u001b[1;33m\u001b[0m\u001b[0m\n\u001b[0;32m      6\u001b[0m     \u001b[0mmerger\u001b[0m\u001b[1;33m.\u001b[0m\u001b[0mappend\u001b[0m\u001b[1;33m(\u001b[0m\u001b[0mpdf\u001b[0m\u001b[1;33m)\u001b[0m\u001b[1;33m\u001b[0m\u001b[0m\n\u001b[1;32m----> 7\u001b[1;33m     \u001b[1;32mfor\u001b[0m \u001b[0mindex\u001b[0m\u001b[1;33m,\u001b[0m\u001b[0mrow\u001b[0m \u001b[1;32min\u001b[0m \u001b[0mpages\u001b[0m\u001b[1;33m.\u001b[0m\u001b[0miterrows\u001b[0m\u001b[1;33m(\u001b[0m\u001b[1;33m)\u001b[0m\u001b[1;33m:\u001b[0m\u001b[1;33m\u001b[0m\u001b[0m\n\u001b[0m\u001b[0;32m      8\u001b[0m         \u001b[1;32mif\u001b[0m \u001b[0mr\u001b[0m\u001b[1;33m[\u001b[0m\u001b[1;34m'Location ID'\u001b[0m\u001b[1;33m]\u001b[0m \u001b[1;33m==\u001b[0m \u001b[0mrow\u001b[0m\u001b[1;33m[\u001b[0m\u001b[1;34m'LOCATION ID'\u001b[0m\u001b[1;33m]\u001b[0m\u001b[1;33m:\u001b[0m\u001b[1;33m\u001b[0m\u001b[0m\n\u001b[0;32m      9\u001b[0m             \u001b[0mpng\u001b[0m \u001b[1;33m=\u001b[0m \u001b[1;34m\"{}{}_{}_{}.png\"\u001b[0m\u001b[1;33m.\u001b[0m\u001b[0mformat\u001b[0m\u001b[1;33m(\u001b[0m\u001b[0ma\u001b[0m\u001b[1;33m,\u001b[0m\u001b[1;34m'Page'\u001b[0m\u001b[1;33m,\u001b[0m\u001b[0mrow\u001b[0m\u001b[1;33m[\u001b[0m\u001b[1;34m'LOCATION ID'\u001b[0m\u001b[1;33m]\u001b[0m\u001b[1;33m,\u001b[0m\u001b[0mrow\u001b[0m\u001b[1;33m[\u001b[0m\u001b[1;34m'SEGMENT_ID'\u001b[0m\u001b[1;33m]\u001b[0m\u001b[1;33m)\u001b[0m\u001b[1;33m\u001b[0m\u001b[0m\n",
      "\u001b[1;31mNameError\u001b[0m: name 'pages' is not defined"
     ]
    }
   ],
   "source": [
    "a = PLAN_PATH + \"\\\\ATD_Whereabouts_\"\n",
    "\n",
    "for i,r in df.iterrows():\n",
    "    merger = PdfFileMerger()\n",
    "    pdf = \"{}{}_{}.pdf\".format(a,'Cover',r['Location ID'])\n",
    "    merger.append(pdf)\n",
    "    for index,row in pages.iterrows():\n",
    "        if r['Location ID'] == row['LOCATION ID']:\n",
    "            png = \"{}{}_{}_{}.png\".format(a,'Page',row['LOCATION ID'],row['SEGMENT_ID'])\n",
    "            rgba = Image.open(png)\n",
    "            rgb = Image.new('RGB', rgba.size, (255, 255, 255))  # white background\n",
    "            rgb.paste(rgba, mask=rgba.split()[3])               # paste using alpha channel as mask\n",
    "            rgb.save(PDF_FILE, 'PDF', resoultion=100.0)\n",
    "            pdf = \"{}{}_{}_{}.pdf\".format(a,'Page',row['LOCATION ID'],row['SEGMENT_ID'])\n",
    "            merger.append(pdf)\n",
    "    merger.write(a + \"{}_Final.pdf\".format(r['Location ID']))\n",
    "    merger.close()"
   ]
  },
  {
   "cell_type": "code",
   "execution_count": 63,
   "metadata": {},
   "outputs": [],
   "source": []
  },
  {
   "cell_type": "code",
   "execution_count": null,
   "metadata": {},
   "outputs": [],
   "source": []
  }
 ],
 "metadata": {
  "kernelspec": {
   "display_name": "Python [conda env:arc104_py2]",
   "language": "python",
   "name": "conda-env-arc104_py2-py"
  },
  "language_info": {
   "codemirror_mode": {
    "name": "ipython",
    "version": 2
   },
   "file_extension": ".py",
   "mimetype": "text/x-python",
   "name": "python",
   "nbconvert_exporter": "python",
   "pygments_lexer": "ipython2",
   "version": "2.7.16"
  },
  "toc": {
   "base_numbering": 1,
   "nav_menu": {},
   "number_sections": true,
   "sideBar": true,
   "skip_h1_title": false,
   "title_cell": "Table of Contents",
   "title_sidebar": "Contents",
   "toc_cell": false,
   "toc_position": {},
   "toc_section_display": true,
   "toc_window_display": false
  },
  "toc-showtags": false,
  "widgets": {
   "state": {
    "020ac404c494444a9447e4f87889e5ce": {
     "views": [
      {
       "cell_index": 0
      }
     ]
    }
   },
   "version": "1.2.0"
  }
 },
 "nbformat": 4,
 "nbformat_minor": 4
}
