{
 "cells": [
  {
   "cell_type": "markdown",
   "metadata": {
    "toc-hr-collapsed": false
   },
   "source": [
    "# Whereabouts Plans Template\n",
    "This notebook will demonstrate how to create a whereabouts plan automatically.\n",
    "\n",
    "<div style=\"text-align:center\"><img src=\"https://upload.wikimedia.org/wikipedia/commons/thumb/d/d3/Downtown_Austin_%28southward_view%2C_from_the_Capitol_Grounds_on_11th_street%29_%2823_November_2006%29.jpg/640px-Downtown_Austin_%28southward_view%2C_from_the_Capitol_Grounds_on_11th_street%29_%2823_November_2006%29.jpg\" /></div>\n",
    "\n",
    "## Introduction\n",
    "The purpose of this notebook is to create a Street and Bridge Work Order plans based on segment IDs and additional comments on long line. Markings feature layers are published in the City of Austin ArcGIS Portal page available for public view as well. \n",
    "\n",
    "The data should already be available in the folder path as an excel spreadsheet. If the spreadsheet exists, a map document will be configured for spreadsheet use."
   ]
  },
  {
   "cell_type": "markdown",
   "metadata": {},
   "source": [
    "## Imports\n",
    "The packages used for this project are:\n",
    "- [pandas](https://pandas.pydata.org/) to create dataframe of extracted table and transform the data\n",
    "- [pathlib](https://docs.python.org/3/library/pathlib.html) to find path to excel document if it exists\n",
    "- [PyPDF2](https://pythonhosted.org/PyPDF2/) to merge PDFs for cover and pages in order\n",
    "- [archook](https://github.com/JamesRamm/archook) to search for arcgis and makes arcpy available to python \n",
    "- [arcpy](https://pro.arcgis.com/en/pro-app/arcpy/get-started/what-is-arcpy-.htm) to create whereabouts markings plans using ESRI ArcMap Desktop software"
   ]
  },
  {
   "cell_type": "code",
   "execution_count": 20,
   "metadata": {},
   "outputs": [],
   "source": [
    "import pandas as pd\n",
    "from pathlib import Path\n",
    "import PyPDF2\n",
    "\n",
    "import archook \n",
    "archook.get_arcpy()\n",
    "import arcpy\n",
    "\n",
    "import datetime"
   ]
  },
  {
   "cell_type": "markdown",
   "metadata": {},
   "source": [
    "## Constants\n",
    "\n",
    "The date by month and day constant will determine the file pdf name to use as a dataframe. Folder path will determine where the plans will be created depending on the year. This is set to the top for the purpose of changing these constants as needed.\n",
    "\n",
    "<i>The table below explains the purpose of each constant.</i>\n",
    "\n",
    "| Constant | Description   |\n",
    "|:--------:|----|\n",
    "|<b>FOLDER</b>      |File directory used to import SBO whereabouts reports from email|\n",
    "|<b>EXCEL_FILE</b>   |File directory name used to extact SBO whereabouts reports from file|\n",
    "|<b>MXD</b>   |Map document used to create whereabouts plans template|\n",
    "|<b>PDF_FILE</b>   |File directory name used to export pdf files|"
   ]
  },
  {
   "cell_type": "code",
   "execution_count": 21,
   "metadata": {},
   "outputs": [],
   "source": [
    "%store -r FOLDER\n",
    "%store -r EXCEL_FILE\n",
    "MXD = arcpy.mapping.MapDocument(r\"C:\\Users\\Govs\\Projects\\Whereabouts\\Whereabouts_Template.mxd\")\n",
    "PDF_FILE = FOLDER[:-20] + r\"\\ATD_Whereabouts_\""
   ]
  },
  {
   "cell_type": "markdown",
   "metadata": {},
   "source": [
    "## Methods\n",
    "These functions will be used to extract and transform the data into a feasible format.\n",
    "\n",
    "<i>The table below explains the purpose of each:</i>\n",
    "\n",
    "| Method | Description   |\n",
    "|:--------:|----|\n",
    "|<b>df_text</b> |Changes element text to the pandas dataframe|\n",
    "|<b>cover_aerial</b> |Zooms to selected features and extent for the dataframe|"
   ]
  },
  {
   "cell_type": "code",
   "execution_count": 22,
   "metadata": {},
   "outputs": [],
   "source": [
    "# Formats element text to match pandas dataframe for cover\n",
    "def df_text(r,row1,location,wg):\n",
    "    date = datetime.datetime.now()\n",
    "    for e in arcpy.mapping.ListLayoutElements(MXD,'TEXT_ELEMENT'):\n",
    "            if e.name == 'SPECIFICATIONS':\n",
    "                e.text = str(r[\"SPECIFICATIONS\"])\n",
    "            elif e.name == 'CREATED DATE':\n",
    "                e.text =  \"{}/{}/{}\".format(date.month,date.day,date.year)\n",
    "            elif e.name == 'REQUESTOR ID':\n",
    "                e.text = str(r[\"Location ID\"])\n",
    "            elif e.name == 'row1':\n",
    "                e.text = row1\n",
    "            elif e.name == 'LOCATION':\n",
    "                e.text = location\n",
    "            elif e.name == 'author':\n",
    "                e.text = 'Susanne Gov'\n",
    "            elif e.name == 'WORK GROUPS':\n",
    "                e.text = wg\n",
    "            elif e.name == 'PAGE':\n",
    "                e.text = str(r['PAGE'])\n",
    "                \n",
    "# Refreshes dataframe map aerial                \n",
    "def aerial(layer,scale,select):\n",
    "    dataframe = arcpy.mapping.ListDataFrames(MXD,\"Layers\")[0]\n",
    "    dataframe.zoomToSelectedFeatures()\n",
    "    dataframe.extent = layer.getSelectedExtent()\n",
    "    dataframe.scale = dataframe.scale * scale\n",
    "    if select == True:\n",
    "        arcpy.SelectLayerByAttribute_management(layer,\"CLEAR_SELECTION\")\n",
    "    arcpy.RefreshActiveView()\n",
    "\n",
    "# Goes through mxd layers and allows selection/deselection based on query\n",
    "def select_layers(q,dq,option):\n",
    "    for l in arcpy.mapping.ListLayers(MXD,'TRANSPORTATION.markings*'):\n",
    "        arcpy.SelectLayerByAttribute_management(l,option,q)\n",
    "        l.definitionQuery = dq\n",
    "\n",
    "# Creates pdf of MXD based on dataframe type\n",
    "def create_pdf(df,scale,select):\n",
    "    for index,row in df.iterrows():\n",
    "        if 'Segment IDs' in df.columns:\n",
    "            q = 'SEGMENT_ID IN({})'.format(str(str(row[\"Segment IDs\"]).split(','))[1:-1])\n",
    "            text1 = 'LOCATION'\n",
    "            text2 = \"{} from {} to {}\".format(row[\"Street\"],row[\"From\"],row[\"To\"])\n",
    "            text3 = str(row['WORK GROUPS'])\n",
    "            name = PDF_FILE + \"Cover_{}.pdf\".format(row[\"Location ID\"])\n",
    "        else:\n",
    "            q = 'SEGMENT_ID = {}'.format(int(row[\"SEGMENT_ID\"]))\n",
    "            text1 = 'SEGMENT ID'\n",
    "            text2 = str(row['SEGMENT_ID'])\n",
    "            text3 = 'Markings'\n",
    "            name = PDF_FILE + 'Page_{}_{}_{}.pdf'.format(row[\"Location ID\"],row['SEGMENT_ID'],row['PAGE'])\n",
    "        select_layers(q,q,'NEW_SELECTION')\n",
    "        arcpy.SelectLayerByAttribute_management(layer,\"NEW_SELECTION\",q) \n",
    "        df_text(row,text1,text2,text3)\n",
    "        select_layers(q,q,'CLEAR_SELECTION')\n",
    "        aerial(layer,scale,select)\n",
    "        arcpy.mapping.ExportToPDF(MXD,name,'PAGE_LAYOUT',640,480,200,'NORMAL','RGB',True,'DEFLATE','VECTORIZE_BITMAP')\n",
    "        select_layers(q,'',\"CLEAR_SELECTION\")"
   ]
  },
  {
   "cell_type": "markdown",
   "metadata": {},
   "source": [
    "## Import Datasets"
   ]
  },
  {
   "cell_type": "code",
   "execution_count": 23,
   "metadata": {},
   "outputs": [
    {
     "data": {
      "text/html": [
       "<div>\n",
       "<style scoped>\n",
       "    .dataframe tbody tr th:only-of-type {\n",
       "        vertical-align: middle;\n",
       "    }\n",
       "\n",
       "    .dataframe tbody tr th {\n",
       "        vertical-align: top;\n",
       "    }\n",
       "\n",
       "    .dataframe thead th {\n",
       "        text-align: right;\n",
       "    }\n",
       "</style>\n",
       "<table border=\"1\" class=\"dataframe\">\n",
       "  <thead>\n",
       "    <tr style=\"text-align: right;\">\n",
       "      <th></th>\n",
       "      <th>Location ID</th>\n",
       "      <th>SEGMENT_ID</th>\n",
       "      <th>Comments</th>\n",
       "      <th>CROSSWALK</th>\n",
       "      <th>STOP_LINE</th>\n",
       "      <th>Bicyclist symbol</th>\n",
       "      <th>Bike arrow</th>\n",
       "      <th>Left arrow</th>\n",
       "      <th>Only word</th>\n",
       "      <th>Right arrow</th>\n",
       "      <th>SPECIFICATIONS</th>\n",
       "      <th>PAGE</th>\n",
       "    </tr>\n",
       "  </thead>\n",
       "  <tbody>\n",
       "    <tr>\n",
       "      <th>0</th>\n",
       "      <td>43285</td>\n",
       "      <td>2015452</td>\n",
       "      <td>double yellow centerline, turn bays, bike lanes</td>\n",
       "      <td>1.0</td>\n",
       "      <td>1.0</td>\n",
       "      <td>NaN</td>\n",
       "      <td>NaN</td>\n",
       "      <td>NaN</td>\n",
       "      <td>1.0</td>\n",
       "      <td>2.0</td>\n",
       "      <td>Install double yellow centerline, turn bays, b...</td>\n",
       "      <td>2</td>\n",
       "    </tr>\n",
       "    <tr>\n",
       "      <th>1</th>\n",
       "      <td>43285</td>\n",
       "      <td>2015380</td>\n",
       "      <td>double yellow centerline, turn bays, bike lanes</td>\n",
       "      <td>NaN</td>\n",
       "      <td>NaN</td>\n",
       "      <td>NaN</td>\n",
       "      <td>NaN</td>\n",
       "      <td>NaN</td>\n",
       "      <td>NaN</td>\n",
       "      <td>NaN</td>\n",
       "      <td>NaN</td>\n",
       "      <td>3</td>\n",
       "    </tr>\n",
       "    <tr>\n",
       "      <th>2</th>\n",
       "      <td>43285</td>\n",
       "      <td>2015368</td>\n",
       "      <td>double yellow centerline, turn bays, bike lanes</td>\n",
       "      <td>NaN</td>\n",
       "      <td>NaN</td>\n",
       "      <td>NaN</td>\n",
       "      <td>NaN</td>\n",
       "      <td>NaN</td>\n",
       "      <td>NaN</td>\n",
       "      <td>NaN</td>\n",
       "      <td>NaN</td>\n",
       "      <td>4</td>\n",
       "    </tr>\n",
       "    <tr>\n",
       "      <th>3</th>\n",
       "      <td>43351</td>\n",
       "      <td>2019871</td>\n",
       "      <td>double yellow centerline, turn bays, lane line...</td>\n",
       "      <td>1.0</td>\n",
       "      <td>1.0</td>\n",
       "      <td>2.0</td>\n",
       "      <td>6.0</td>\n",
       "      <td>3.0</td>\n",
       "      <td>4.0</td>\n",
       "      <td>3.0</td>\n",
       "      <td>Install double yellow centerline, turn bays, l...</td>\n",
       "      <td>2</td>\n",
       "    </tr>\n",
       "    <tr>\n",
       "      <th>4</th>\n",
       "      <td>43351</td>\n",
       "      <td>2015960</td>\n",
       "      <td>double yellow centerline, turn bays, lane line...</td>\n",
       "      <td>NaN</td>\n",
       "      <td>NaN</td>\n",
       "      <td>NaN</td>\n",
       "      <td>NaN</td>\n",
       "      <td>NaN</td>\n",
       "      <td>NaN</td>\n",
       "      <td>NaN</td>\n",
       "      <td>NaN</td>\n",
       "      <td>3</td>\n",
       "    </tr>\n",
       "    <tr>\n",
       "      <th>5</th>\n",
       "      <td>43351</td>\n",
       "      <td>2015881</td>\n",
       "      <td>double yellow centerline, turn bays, lane line...</td>\n",
       "      <td>NaN</td>\n",
       "      <td>NaN</td>\n",
       "      <td>NaN</td>\n",
       "      <td>NaN</td>\n",
       "      <td>NaN</td>\n",
       "      <td>NaN</td>\n",
       "      <td>NaN</td>\n",
       "      <td>NaN</td>\n",
       "      <td>4</td>\n",
       "    </tr>\n",
       "    <tr>\n",
       "      <th>6</th>\n",
       "      <td>43351</td>\n",
       "      <td>2040580</td>\n",
       "      <td>double yellow centerline, turn bays, lane line...</td>\n",
       "      <td>1.0</td>\n",
       "      <td>1.0</td>\n",
       "      <td>NaN</td>\n",
       "      <td>NaN</td>\n",
       "      <td>NaN</td>\n",
       "      <td>NaN</td>\n",
       "      <td>2.0</td>\n",
       "      <td>Install double yellow centerline, turn bays, l...</td>\n",
       "      <td>5</td>\n",
       "    </tr>\n",
       "  </tbody>\n",
       "</table>\n",
       "</div>"
      ],
      "text/plain": [
       "   Location ID  SEGMENT_ID                                           Comments  \\\n",
       "0        43285     2015452    double yellow centerline, turn bays, bike lanes   \n",
       "1        43285     2015380    double yellow centerline, turn bays, bike lanes   \n",
       "2        43285     2015368    double yellow centerline, turn bays, bike lanes   \n",
       "3        43351     2019871  double yellow centerline, turn bays, lane line...   \n",
       "4        43351     2015960  double yellow centerline, turn bays, lane line...   \n",
       "5        43351     2015881  double yellow centerline, turn bays, lane line...   \n",
       "6        43351     2040580  double yellow centerline, turn bays, lane line...   \n",
       "\n",
       "   CROSSWALK  STOP_LINE  Bicyclist symbol  Bike arrow  Left arrow  Only word  \\\n",
       "0        1.0        1.0               NaN         NaN         NaN        1.0   \n",
       "1        NaN        NaN               NaN         NaN         NaN        NaN   \n",
       "2        NaN        NaN               NaN         NaN         NaN        NaN   \n",
       "3        1.0        1.0               2.0         6.0         3.0        4.0   \n",
       "4        NaN        NaN               NaN         NaN         NaN        NaN   \n",
       "5        NaN        NaN               NaN         NaN         NaN        NaN   \n",
       "6        1.0        1.0               NaN         NaN         NaN        NaN   \n",
       "\n",
       "   Right arrow                                     SPECIFICATIONS  PAGE  \n",
       "0          2.0  Install double yellow centerline, turn bays, b...     2  \n",
       "1          NaN                                                NaN     3  \n",
       "2          NaN                                                NaN     4  \n",
       "3          3.0  Install double yellow centerline, turn bays, l...     2  \n",
       "4          NaN                                                NaN     3  \n",
       "5          NaN                                                NaN     4  \n",
       "6          2.0  Install double yellow centerline, turn bays, l...     5  "
      ]
     },
     "metadata": {},
     "output_type": "display_data"
    }
   ],
   "source": [
    "if Path(EXCEL_FILE).exists():\n",
    "    df = pd.read_excel(EXCEL_FILE,'Cover', index_col=0).reset_index()\n",
    "    df1 = pd.read_excel(EXCEL_FILE,'Pages', index_col=0).reset_index()\n",
    "    display(df1)"
   ]
  },
  {
   "cell_type": "markdown",
   "metadata": {},
   "source": [
    "# Creating the Map\n",
    "A database connection to GISDM is needed to access the markings asset layers and the markings assets layers. We can open up a map document of the cover work orders and another map document of the pages work orders."
   ]
  },
  {
   "cell_type": "code",
   "execution_count": 24,
   "metadata": {},
   "outputs": [],
   "source": [
    "sde_path = r\"Database Connections\\GISDM.sde\"\n",
    "\n",
    "# Create Database connection \n",
    "arcpy.env.workspace = sde_path\n",
    "if arcpy.Exists(sde_path) == False:\n",
    "    arcpy.CreateDatabaseConnection_management(\"Database Connections\",\"GISDM.sde\", \"ORACLE\", \n",
    "                                              \"sde:oracle11g:gisdm\", \"DATABASE_AUTH\")\n",
    "\n",
    "# Create street layer\n",
    "layer = arcpy.mapping.ListLayers(MXD,\"TRANSPORTATION.street_segment\")[0]"
   ]
  },
  {
   "cell_type": "markdown",
   "metadata": {},
   "source": [
    "## Creating Cover and Page PDFs"
   ]
  },
  {
   "cell_type": "code",
   "execution_count": 25,
   "metadata": {},
   "outputs": [],
   "source": [
    "create_pdf(df,1,False)\n",
    "create_pdf(df1,1.05,True)"
   ]
  },
  {
   "cell_type": "markdown",
   "metadata": {},
   "source": [
    "## Merging Cover and Pages"
   ]
  },
  {
   "cell_type": "code",
   "execution_count": 26,
   "metadata": {},
   "outputs": [],
   "source": [
    "for index,r in df.iterrows():\n",
    "    pdf = PDF_FILE + \"{}_Final.pdf\".format(r['Location ID'])\n",
    "    merger = PyPDF2.PdfFileMerger()\n",
    "    merger.append(\"{}{}_{}.pdf\".format(PDF_FILE,'Cover',r['Location ID']))\n",
    "    for index,row in df1.iterrows():\n",
    "        if r['Location ID'] == row['Location ID']:\n",
    "            merger.append(\"{}{}_{}_{}_{}.pdf\".format(PDF_FILE,'Page',row['Location ID'],row['SEGMENT_ID'],row['PAGE']))\n",
    "    merger.write(pdf)\n",
    "    merger.close()"
   ]
  },
  {
   "cell_type": "code",
   "execution_count": null,
   "metadata": {},
   "outputs": [],
   "source": []
  }
 ],
 "metadata": {
  "kernelspec": {
   "display_name": "Python [conda env:arc104_py2]",
   "language": "python",
   "name": "conda-env-arc104_py2-py"
  },
  "language_info": {
   "codemirror_mode": {
    "name": "ipython",
    "version": 2
   },
   "file_extension": ".py",
   "mimetype": "text/x-python",
   "name": "python",
   "nbconvert_exporter": "python",
   "pygments_lexer": "ipython2",
   "version": "2.7.16"
  },
  "toc": {
   "base_numbering": 1,
   "nav_menu": {},
   "number_sections": true,
   "sideBar": true,
   "skip_h1_title": false,
   "title_cell": "Table of Contents",
   "title_sidebar": "Contents",
   "toc_cell": false,
   "toc_position": {},
   "toc_section_display": true,
   "toc_window_display": false
  },
  "toc-showtags": false,
  "widgets": {
   "state": {
    "020ac404c494444a9447e4f87889e5ce": {
     "views": [
      {
       "cell_index": 0
      }
     ]
    }
   },
   "version": "1.2.0"
  }
 },
 "nbformat": 4,
 "nbformat_minor": 4
}
