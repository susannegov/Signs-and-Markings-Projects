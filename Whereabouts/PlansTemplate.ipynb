{
 "cells": [
  {
   "cell_type": "markdown",
   "metadata": {
    "toc-hr-collapsed": false
   },
   "source": [
    "# Whereabouts Plans Template\n",
    "This notebook will demonstrate how to create a whereabouts plan automatically.\n",
    "\n",
    "<div style=\"text-align:center\"><img src=\"https://upload.wikimedia.org/wikipedia/commons/thumb/d/d3/Downtown_Austin_%28southward_view%2C_from_the_Capitol_Grounds_on_11th_street%29_%2823_November_2006%29.jpg/640px-Downtown_Austin_%28southward_view%2C_from_the_Capitol_Grounds_on_11th_street%29_%2823_November_2006%29.jpg\" /></div>\n",
    "\n",
    "## Introduction\n",
    "The purpose of this notebook is to create a Street and Bridge Work Order plans based on segment IDs and additional comments on long line. Markings feature layers are published in the City of Austin ArcGIS Portal page available for public view as well. \n",
    "\n",
    "The data should already be available in the folder path as an excel spreadsheet. If the spreadsheet exists, a map document will be configured for spreadsheet use."
   ]
  },
  {
   "cell_type": "markdown",
   "metadata": {},
   "source": [
    "## Imports\n",
    "The packages used for this project are:\n",
    "- [pandas](https://pandas.pydata.org/) to create dataframe of extracted table and transform the data\n",
    "- [pathlib](https://docs.python.org/3/library/pathlib.html) to find path to excel document if it exists\n",
    "- [archook](https://github.com/JamesRamm/archook) to search for arcgis and makes arcpy available to python\n",
    "- [arcpy](https://pro.arcgis.com/en/pro-app/arcpy/get-started/what-is-arcpy-.htm) to create whereabouts markings plans using ESRI ArcMap Desktop software\n",
    "- [openpyxl](https://openpyxl.readthedocs.io/en/stable/) to open excel files of markings and SBO data"
   ]
  },
  {
   "cell_type": "code",
   "execution_count": 9,
   "metadata": {},
   "outputs": [],
   "source": [
    "import pandas as pd\n",
    "from pathlib import Path\n",
    "import datetime\n",
    "import math\n",
    "from functools import reduce\n",
    "\n",
    "import archook \n",
    "archook.get_arcpy()\n",
    "import arcpy\n",
    "\n",
    "from PyPDF2 import PdfFileMerger\n",
    "import img2pdf\n",
    "import openpyxl\n",
    "from PIL import Image \n",
    "import os "
   ]
  },
  {
   "cell_type": "markdown",
   "metadata": {},
   "source": [
    "## Constants\n",
    "\n",
    "The date by month and day constant will determine the file pdf name to use as a dataframe. Folder path will determine where the plans will be created depending on the year. This is set to the top for the purpose of changing these constants as needed.\n",
    "\n",
    "<i>The table below explains the purpose of each constant.</i>\n",
    "\n",
    "| Constant | Description   |\n",
    "|:--------:|----|\n",
    "| <b>MONTH, DAY, YEAR</b> |Date used to find PDF in month-day format and file path based on year|\n",
    "|<b>FOLDER</b>      |File directory used to import SBO whereabouts reports from email|\n",
    "|<b>FILE_NAME</b>   |File directory name used to extact SBO whereabouts reports from file|\n",
    "|<b>MXD</b>   |Map document used to create whereabouts plans template|"
   ]
  },
  {
   "cell_type": "code",
   "execution_count": 23,
   "metadata": {},
   "outputs": [],
   "source": [
    "%store -r MONTH\n",
    "%store -r DAY\n",
    "%store -r YEAR\n",
    "%store -r FOLDER\n",
    "%store -r FILE_NAME\n",
    "MXD = r\"G:\\ATD\\Signs_and_Markings\\MARKINGS\\Whereabouts WORK ORDERS\\template\\Whereabouts_Cover_Template.mxd\"\n",
    "PLAN_PATH = r\"G:\\ATD\\Signs_and_Markings\\MARKINGS\\Whereabouts WORK ORDERS\\{}\".format(YEAR)"
   ]
  },
  {
   "cell_type": "markdown",
   "metadata": {},
   "source": [
    "## Methods\n",
    "These functions will be used to extract and transform the data into a feasible format.\n",
    "\n",
    "<i>The table below explains the purpose of each:</i>\n",
    "\n",
    "| Method | Description   |\n",
    "|:--------:|----|\n",
    "|<b>df_text</b> |Changes element text to the pandas dataframe|\n",
    "|<b>cover_aerial</b> |Zooms to selected features and extent for the dataframe|"
   ]
  },
  {
   "cell_type": "code",
   "execution_count": 17,
   "metadata": {},
   "outputs": [],
   "source": [
    "# Formats element text to match pandas dataframe\n",
    "def df_text(r):\n",
    "    date = datetime.datetime.now()\n",
    "    for e in arcpy.mapping.ListLayoutElements(mxd,'TEXT_ELEMENT'):\n",
    "            if e.name == 'SPECIFICATIONS':\n",
    "                e.text = str(r[\"Specifications\"])\n",
    "            elif e.name == 'CREATED DATE':\n",
    "                e.text =  \"{}/{}/{}\".format(date.month,date.day,date.year)\n",
    "            elif e.name == 'REQUESTOR ID':\n",
    "                e.text = str(r[\"Location ID\"])\n",
    "            elif e.name == 'LOCATION':\n",
    "                e.text = \"{} from {} to {}\".format(r[\"Street\"],r[\"From\"],r[\"To\"])\n",
    "            elif e.name == 'author':\n",
    "                e.text = 'Susanne Gov'\n",
    "            elif e.name == 'WORK GROUPS':\n",
    "                e.text = str(r['WORK GROUPS'])\n",
    "\n",
    "# Refreshes dataframe map aerial                \n",
    "def cover_aerial(mapdoc):\n",
    "    dataframe = arcpy.mapping.ListDataFrames(mapdoc,\"Layers\")[0]\n",
    "    dataframe.zoomToSelectedFeatures()\n",
    "    dataframe.extent = layer.getSelectedExtent()\n",
    "    arcpy.RefreshActiveView()"
   ]
  },
  {
   "cell_type": "markdown",
   "metadata": {},
   "source": [
    "## Import Datasets"
   ]
  },
  {
   "cell_type": "code",
   "execution_count": 25,
   "metadata": {},
   "outputs": [
    {
     "data": {
      "text/html": [
       "<div>\n",
       "<style scoped>\n",
       "    .dataframe tbody tr th:only-of-type {\n",
       "        vertical-align: middle;\n",
       "    }\n",
       "\n",
       "    .dataframe tbody tr th {\n",
       "        vertical-align: top;\n",
       "    }\n",
       "\n",
       "    .dataframe thead th {\n",
       "        text-align: right;\n",
       "    }\n",
       "</style>\n",
       "<table border=\"1\" class=\"dataframe\">\n",
       "  <thead>\n",
       "    <tr style=\"text-align: right;\">\n",
       "      <th></th>\n",
       "      <th>Location ID</th>\n",
       "      <th>Street</th>\n",
       "      <th>From</th>\n",
       "      <th>To</th>\n",
       "      <th>Segment IDs</th>\n",
       "      <th>Comments</th>\n",
       "      <th>Crosswalk</th>\n",
       "      <th>Stopline</th>\n",
       "      <th>Only word</th>\n",
       "      <th>Left  arrow</th>\n",
       "      <th>Right arrow</th>\n",
       "      <th>Bike arrow</th>\n",
       "      <th>Bicyclist symbol</th>\n",
       "      <th>Diagonal crosshatch</th>\n",
       "      <th>WORK GROUPS</th>\n",
       "      <th>Specifications</th>\n",
       "    </tr>\n",
       "  </thead>\n",
       "  <tbody>\n",
       "    <tr>\n",
       "      <th>0</th>\n",
       "      <td>62870</td>\n",
       "      <td>DAVIS LN</td>\n",
       "      <td>4304</td>\n",
       "      <td>Mo-Pac Svc Rd Nb</td>\n",
       "      <td>2026275,2038344,2038345,2043055,3259330,325933...</td>\n",
       "      <td>lane lines, bike lanes, turn bay</td>\n",
       "      <td>1.0</td>\n",
       "      <td>2.0</td>\n",
       "      <td>1.0</td>\n",
       "      <td>NaN</td>\n",
       "      <td>1.0</td>\n",
       "      <td>21.0</td>\n",
       "      <td>8.0</td>\n",
       "      <td>10.0</td>\n",
       "      <td>['SHORT LINE', 'LONGLINE', 'SPECIALTY MARKINGS']</td>\n",
       "      <td>Install lane lines, bike lanes, turn bay1 cros...</td>\n",
       "    </tr>\n",
       "    <tr>\n",
       "      <th>1</th>\n",
       "      <td>62872</td>\n",
       "      <td>DEER LN</td>\n",
       "      <td>4000</td>\n",
       "      <td>4313</td>\n",
       "      <td>NaN</td>\n",
       "      <td>NaN</td>\n",
       "      <td>NaN</td>\n",
       "      <td>NaN</td>\n",
       "      <td>NaN</td>\n",
       "      <td>NaN</td>\n",
       "      <td>NaN</td>\n",
       "      <td>NaN</td>\n",
       "      <td>NaN</td>\n",
       "      <td>NaN</td>\n",
       "      <td>[]</td>\n",
       "      <td>Install N/A</td>\n",
       "    </tr>\n",
       "    <tr>\n",
       "      <th>2</th>\n",
       "      <td>Lakeshore</td>\n",
       "      <td>Royal Crest</td>\n",
       "      <td>0.5 LM</td>\n",
       "      <td>NaN</td>\n",
       "      <td>NaN</td>\n",
       "      <td>NaN</td>\n",
       "      <td>NaN</td>\n",
       "      <td>NaN</td>\n",
       "      <td>NaN</td>\n",
       "      <td>NaN</td>\n",
       "      <td>NaN</td>\n",
       "      <td>NaN</td>\n",
       "      <td>NaN</td>\n",
       "      <td>NaN</td>\n",
       "      <td>[]</td>\n",
       "      <td>Install N/A</td>\n",
       "    </tr>\n",
       "    <tr>\n",
       "      <th>3</th>\n",
       "      <td>WALL ST</td>\n",
       "      <td>Cross Park Dr</td>\n",
       "      <td>Ferguson Ln</td>\n",
       "      <td>3.89</td>\n",
       "      <td>2040261</td>\n",
       "      <td>turn bay, lane lines, double yellow dashed sol...</td>\n",
       "      <td>2.0</td>\n",
       "      <td>2.0</td>\n",
       "      <td>1.0</td>\n",
       "      <td>4.0</td>\n",
       "      <td>2.0</td>\n",
       "      <td>NaN</td>\n",
       "      <td>NaN</td>\n",
       "      <td>13.0</td>\n",
       "      <td>['SHORT LINE', 'LONGLINE', 'SPECIALTY MARKINGS']</td>\n",
       "      <td>Install turn bay, lane lines, double yellow da...</td>\n",
       "    </tr>\n",
       "  </tbody>\n",
       "</table>\n",
       "</div>"
      ],
      "text/plain": [
       "  Location ID         Street         From                To  \\\n",
       "0       62870       DAVIS LN         4304  Mo-Pac Svc Rd Nb   \n",
       "1       62872        DEER LN         4000              4313   \n",
       "2   Lakeshore    Royal Crest       0.5 LM               NaN   \n",
       "3     WALL ST  Cross Park Dr  Ferguson Ln              3.89   \n",
       "\n",
       "                                         Segment IDs  \\\n",
       "0  2026275,2038344,2038345,2043055,3259330,325933...   \n",
       "1                                                NaN   \n",
       "2                                                NaN   \n",
       "3                                            2040261   \n",
       "\n",
       "                                            Comments  Crosswalk  Stopline  \\\n",
       "0                   lane lines, bike lanes, turn bay        1.0       2.0   \n",
       "1                                                NaN        NaN       NaN   \n",
       "2                                                NaN        NaN       NaN   \n",
       "3  turn bay, lane lines, double yellow dashed sol...        2.0       2.0   \n",
       "\n",
       "   Only word  Left  arrow  Right arrow  Bike arrow  Bicyclist symbol  \\\n",
       "0        1.0          NaN          1.0        21.0               8.0   \n",
       "1        NaN          NaN          NaN         NaN               NaN   \n",
       "2        NaN          NaN          NaN         NaN               NaN   \n",
       "3        1.0          4.0          2.0         NaN               NaN   \n",
       "\n",
       "   Diagonal crosshatch                                        WORK GROUPS  \\\n",
       "0                  10.0  ['SHORT LINE', 'LONGLINE', 'SPECIALTY MARKINGS']   \n",
       "1                   NaN                                                []   \n",
       "2                   NaN                                                []   \n",
       "3                  13.0  ['SHORT LINE', 'LONGLINE', 'SPECIALTY MARKINGS']   \n",
       "\n",
       "                                      Specifications  \n",
       "0  Install lane lines, bike lanes, turn bay1 cros...  \n",
       "1                                        Install N/A  \n",
       "2                                        Install N/A  \n",
       "3  Install turn bay, lane lines, double yellow da...  "
      ]
     },
     "metadata": {},
     "output_type": "display_data"
    }
   ],
   "source": [
    "if Path(FILE_NAME + '.xlsx').exists():\n",
    "    df = pd.read_excel(FILE_NAME + '.xlsx','markings list', index_col=0).reset_index()\n",
    "    display(df)"
   ]
  },
  {
   "cell_type": "markdown",
   "metadata": {},
   "source": [
    "## Setting up Cover Document\n",
    "A database connection to GISDM is needed to access the markings asset layers and the markings assets layers. We can open up a map document of the cover work orders and another map document of the pages work orders."
   ]
  },
  {
   "cell_type": "code",
   "execution_count": 26,
   "metadata": {},
   "outputs": [],
   "source": [
    "mxd = arcpy.mapping.MapDocument(MXD)\n",
    "sde_path = r\"Database Connections\\GISDM.sde\"\n",
    "\n",
    "# Create Database connection \n",
    "arcpy.env.workspace = sde_path\n",
    "if arcpy.Exists(sde_path) == False:\n",
    "    arcpy.CreateDatabaseConnection_management(\"Database Connections\",\"GISDM.sde\", \"ORACLE\", \n",
    "                                          \"sde:oracle11g:gisdm\", \"DATABASE_AUTH\")"
   ]
  },
  {
   "cell_type": "code",
   "execution_count": 27,
   "metadata": {},
   "outputs": [
    {
     "name": "stdout",
     "output_type": "stream",
     "text": [
      "SEGMENT_ID IN('2026275', '2038344', '2038345', '2043055', '3259330', '3259331', '3259334', '3259335')\n",
      "PDF file created Cover 62870.pdf\n",
      "SEGMENT_ID IN('nan')\n"
     ]
    },
    {
     "ename": "ExecuteError",
     "evalue": "ERROR 000358: Invalid expression\nFailed to execute (SelectLayerByAttribute).\n",
     "output_type": "error",
     "traceback": [
      "\u001b[1;31m\u001b[0m",
      "\u001b[1;31mExecuteError\u001b[0mTraceback (most recent call last)",
      "\u001b[1;32m<ipython-input-27-956db9e10be4>\u001b[0m in \u001b[0;36m<module>\u001b[1;34m()\u001b[0m\n\u001b[0;32m      8\u001b[0m     \u001b[0msql\u001b[0m \u001b[1;33m=\u001b[0m \u001b[1;34m'SEGMENT_ID IN({})'\u001b[0m\u001b[1;33m.\u001b[0m\u001b[0mformat\u001b[0m\u001b[1;33m(\u001b[0m\u001b[0mstr\u001b[0m\u001b[1;33m(\u001b[0m\u001b[0msegments\u001b[0m\u001b[1;33m)\u001b[0m\u001b[1;33m[\u001b[0m\u001b[1;36m1\u001b[0m\u001b[1;33m:\u001b[0m\u001b[1;33m-\u001b[0m\u001b[1;36m1\u001b[0m\u001b[1;33m]\u001b[0m\u001b[1;33m)\u001b[0m\u001b[1;33m\u001b[0m\u001b[0m\n\u001b[0;32m      9\u001b[0m     \u001b[1;32mprint\u001b[0m \u001b[0msql\u001b[0m\u001b[1;33m\u001b[0m\u001b[0m\n\u001b[1;32m---> 10\u001b[1;33m     \u001b[0marcpy\u001b[0m\u001b[1;33m.\u001b[0m\u001b[0mSelectLayerByAttribute_management\u001b[0m\u001b[1;33m(\u001b[0m\u001b[0mlayer\u001b[0m\u001b[1;33m,\u001b[0m\u001b[1;34m\"NEW_SELECTION\"\u001b[0m\u001b[1;33m,\u001b[0m\u001b[0msql\u001b[0m\u001b[1;33m)\u001b[0m\u001b[1;33m\u001b[0m\u001b[0m\n\u001b[0m\u001b[0;32m     11\u001b[0m     \u001b[1;32mfor\u001b[0m \u001b[0ml\u001b[0m \u001b[1;32min\u001b[0m \u001b[0marcpy\u001b[0m\u001b[1;33m.\u001b[0m\u001b[0mmapping\u001b[0m\u001b[1;33m.\u001b[0m\u001b[0mListLayers\u001b[0m\u001b[1;33m(\u001b[0m\u001b[0mmxd\u001b[0m\u001b[1;33m,\u001b[0m\u001b[1;34m'TRANSPORTATION.markings*'\u001b[0m\u001b[1;33m)\u001b[0m\u001b[1;33m:\u001b[0m\u001b[1;33m\u001b[0m\u001b[0m\n\u001b[0;32m     12\u001b[0m         \u001b[1;31m#arcpy.SelectLayerByAttribute_management(l,\"NEW_SELECTION\",sql)\u001b[0m\u001b[1;33m\u001b[0m\u001b[1;33m\u001b[0m\u001b[0m\n",
      "\u001b[1;32mC:\\Program Files (x86)\\ArcGIS\\Desktop10.5\\arcpy\\arcpy\\management.py\u001b[0m in \u001b[0;36mSelectLayerByAttribute\u001b[1;34m(in_layer_or_view, selection_type, where_clause)\u001b[0m\n\u001b[0;32m   7742\u001b[0m         \u001b[1;32mreturn\u001b[0m \u001b[0mretval\u001b[0m\u001b[1;33m\u001b[0m\u001b[0m\n\u001b[0;32m   7743\u001b[0m     \u001b[1;32mexcept\u001b[0m \u001b[0mException\u001b[0m \u001b[1;32mas\u001b[0m \u001b[0me\u001b[0m\u001b[1;33m:\u001b[0m\u001b[1;33m\u001b[0m\u001b[0m\n\u001b[1;32m-> 7744\u001b[1;33m         \u001b[1;32mraise\u001b[0m \u001b[0me\u001b[0m\u001b[1;33m\u001b[0m\u001b[0m\n\u001b[0m\u001b[0;32m   7745\u001b[0m \u001b[1;33m\u001b[0m\u001b[0m\n\u001b[0;32m   7746\u001b[0m \u001b[1;33m@\u001b[0m\u001b[0mgptooldoc\u001b[0m\u001b[1;33m(\u001b[0m\u001b[1;34m'SelectLayerByLocation_management'\u001b[0m\u001b[1;33m,\u001b[0m \u001b[0mNone\u001b[0m\u001b[1;33m)\u001b[0m\u001b[1;33m\u001b[0m\u001b[0m\n",
      "\u001b[1;31mExecuteError\u001b[0m: ERROR 000358: Invalid expression\nFailed to execute (SelectLayerByAttribute).\n"
     ]
    }
   ],
   "source": [
    "arcpy.env.workspace = sde_path\n",
    "if arcpy.Exists(sde_path) == False:\n",
    "    arcpy.CreateDatabaseConnection_management(\"Database Connections\",\"GISDM.sde\", \"ORACLE\", \n",
    "                                          \"sde:oracle11g:gisdm\", \"DATABASE_AUTH\")\n",
    "layer = arcpy.mapping.ListLayers(mxd,\"TRANSPORTATION.street_segment\")[0]\n",
    "for index,row in df.iterrows():\n",
    "    segments = str(row[\"Segment IDs\"]).split(',')\n",
    "    sql = 'SEGMENT_ID IN({})'.format(str(segments)[1:-1])\n",
    "    print sql\n",
    "    arcpy.SelectLayerByAttribute_management(layer,\"NEW_SELECTION\",sql) \n",
    "    for l in arcpy.mapping.ListLayers(mxd,'TRANSPORTATION.markings*'):\n",
    "        #arcpy.SelectLayerByAttribute_management(l,\"NEW_SELECTION\",sql) \n",
    "        pass\n",
    "    df_text(row)\n",
    "    cover_aerial(mxd)\n",
    "    arcpy.mapping.ExportToPDF(mxd, PLAN_PATH + \"\\\\ATD_Whereabouts_Cover_{}.pdf\".format(row[\"Location ID\"]))\n",
    "    arcpy.SelectLayerByAttribute_management(layer,\"CLEAR_SELECTION\")\n",
    "    print \"PDF file created Cover {}.pdf\".format(row[\"Location ID\"])"
   ]
  },
  {
   "cell_type": "markdown",
   "metadata": {},
   "source": [
    "# Setting up Pages"
   ]
  },
  {
   "cell_type": "code",
   "execution_count": 91,
   "metadata": {},
   "outputs": [
    {
     "name": "stdout",
     "output_type": "stream",
     "text": [
      "SEGMENT_ID IN(2010547)\n"
     ]
    },
    {
     "ename": "ExecuteError",
     "evalue": "ERROR 000358: Invalid expression\nFailed to execute (SelectLayerByAttribute).\n",
     "output_type": "error",
     "traceback": [
      "\u001b[1;31m\u001b[0m",
      "\u001b[1;31mExecuteError\u001b[0mTraceback (most recent call last)",
      "\u001b[1;32m<ipython-input-91-85cc3597ec3a>\u001b[0m in \u001b[0;36m<module>\u001b[1;34m()\u001b[0m\n\u001b[0;32m     16\u001b[0m     \u001b[0mq\u001b[0m \u001b[1;33m=\u001b[0m \u001b[1;34m'SEGMENT_ID IN({})'\u001b[0m\u001b[1;33m.\u001b[0m\u001b[0mformat\u001b[0m\u001b[1;33m(\u001b[0m\u001b[0msegment\u001b[0m\u001b[1;33m)\u001b[0m\u001b[1;33m\u001b[0m\u001b[0m\n\u001b[0;32m     17\u001b[0m     \u001b[1;32mprint\u001b[0m \u001b[0mq\u001b[0m\u001b[1;33m\u001b[0m\u001b[0m\n\u001b[1;32m---> 18\u001b[1;33m     \u001b[0marcpy\u001b[0m\u001b[1;33m.\u001b[0m\u001b[0mSelectLayerByAttribute_management\u001b[0m\u001b[1;33m(\u001b[0m\u001b[0mlayer\u001b[0m\u001b[1;33m,\u001b[0m \u001b[1;34m\"NEW_SELECTION\"\u001b[0m\u001b[1;33m,\u001b[0m \u001b[0mq\u001b[0m\u001b[1;33m)\u001b[0m\u001b[1;33m\u001b[0m\u001b[0m\n\u001b[0m\u001b[0;32m     19\u001b[0m     \u001b[1;32mfor\u001b[0m \u001b[0me\u001b[0m \u001b[1;32min\u001b[0m \u001b[0marcpy\u001b[0m\u001b[1;33m.\u001b[0m\u001b[0mmapping\u001b[0m\u001b[1;33m.\u001b[0m\u001b[0mListLayoutElements\u001b[0m\u001b[1;33m(\u001b[0m\u001b[0mmxd\u001b[0m\u001b[1;33m,\u001b[0m\u001b[1;34m'TEXT_ELEMENT'\u001b[0m\u001b[1;33m)\u001b[0m\u001b[1;33m:\u001b[0m\u001b[1;33m\u001b[0m\u001b[0m\n\u001b[0;32m     20\u001b[0m             \u001b[1;32mif\u001b[0m \u001b[0me\u001b[0m\u001b[1;33m.\u001b[0m\u001b[0mname\u001b[0m \u001b[1;33m==\u001b[0m \u001b[1;34m'SPECIFICATIONS'\u001b[0m\u001b[1;33m:\u001b[0m\u001b[1;33m\u001b[0m\u001b[0m\n",
      "\u001b[1;32mC:\\Program Files (x86)\\ArcGIS\\Desktop10.5\\arcpy\\arcpy\\management.py\u001b[0m in \u001b[0;36mSelectLayerByAttribute\u001b[1;34m(in_layer_or_view, selection_type, where_clause)\u001b[0m\n\u001b[0;32m   7742\u001b[0m         \u001b[1;32mreturn\u001b[0m \u001b[0mretval\u001b[0m\u001b[1;33m\u001b[0m\u001b[0m\n\u001b[0;32m   7743\u001b[0m     \u001b[1;32mexcept\u001b[0m \u001b[0mException\u001b[0m \u001b[1;32mas\u001b[0m \u001b[0me\u001b[0m\u001b[1;33m:\u001b[0m\u001b[1;33m\u001b[0m\u001b[0m\n\u001b[1;32m-> 7744\u001b[1;33m         \u001b[1;32mraise\u001b[0m \u001b[0me\u001b[0m\u001b[1;33m\u001b[0m\u001b[0m\n\u001b[0m\u001b[0;32m   7745\u001b[0m \u001b[1;33m\u001b[0m\u001b[0m\n\u001b[0;32m   7746\u001b[0m \u001b[1;33m@\u001b[0m\u001b[0mgptooldoc\u001b[0m\u001b[1;33m(\u001b[0m\u001b[1;34m'SelectLayerByLocation_management'\u001b[0m\u001b[1;33m,\u001b[0m \u001b[0mNone\u001b[0m\u001b[1;33m)\u001b[0m\u001b[1;33m\u001b[0m\u001b[0m\n",
      "\u001b[1;31mExecuteError\u001b[0m: ERROR 000358: Invalid expression\nFailed to execute (SelectLayerByAttribute).\n"
     ]
    }
   ],
   "source": [
    "layer = arcpy.mapping.ListLayers(mxd,'TRANSPORTATION.markings_short_line')[0]\n",
    "arcpy.SelectLayerByAttribute_management(arcpy.mapping.ListLayers(mxd,\"TRANSPORTATION.street_segment\")[0],\"CLEAR_SELECTION\")\n",
    "df1['COUNT'] = 1\n",
    "pages_sl = df1.groupby(['LOCATION ID',\"SEGMENT ID\",\"SHORTLINE TYPE\"]).count()[['COUNT']].reset_index()\n",
    "pages_sl['id'] = pages_sl['LOCATION ID'].astype(int).astype(str) + '_' + pages_sl['SEGMENT ID'].astype(int).astype(str)\n",
    "\n",
    "pages_sp = df1.groupby(['LOCATION ID',\"SEGMENT ID\",'SPECIALTY TYPE','SPECIALTY SUBTYPE']).count()[['COUNT']].reset_index()\n",
    "pages_sp['SPECIALTY'] = pages_sp['SPECIALTY TYPE'].astype(int).astype(str) + ',' + pages_sp['SPECIALTY SUBTYPE'].astype(int).astype(str)\n",
    "pages_sp = pages_sp.drop(columns=['SPECIALTY TYPE','SPECIALTY SUBTYPE'])\n",
    "pages_sp['id'] = pages_sp['LOCATION ID'].astype(int).astype(str) + '_' + pages_sp['SEGMENT ID'].astype(int).astype(str)\n",
    "\n",
    "pages = pd.merge(pages_sp,pages_sl, on='id',how='outer')\n",
    "\n",
    "for index,row in pages.iterrows():\n",
    "    segment = int(row[\"SEGMENT ID_x\"])\n",
    "    q = 'SEGMENT_ID {}'.format(segment)\n",
    "    print q\n",
    "    arcpy.SelectLayerByAttribute_management(layer, \"NEW_SELECTION\", q)\n",
    "    for e in arcpy.mapping.ListLayoutElements(mxd,'TEXT_ELEMENT'):\n",
    "            if e.name == 'SPECIFICATIONS':\n",
    "                e.text = \"Install {} {}s\".format(row['COUNTS'],row['SHORTLINE TYPE'].lower().replace(\"_\",\" \"))\n",
    "            elif e.name == 'REQUESTOR ID':\n",
    "                e.text = str(row[\"LOCATION ID\"])\n",
    "            elif e.name == 'row1':\n",
    "                e.text = 'SEGMENT ID'\n",
    "            elif e.name == 'LOCATION':\n",
    "                e.text = str(row[\"SEGMENT_ID\"])\n",
    "    dataframe = arcpy.mapping.ListDataFrames(mxd,\"Layers\")[0]\n",
    "    dataframe.zoomToSelectedFeatures()\n",
    "    dataframe.extent = layer.getSelectedExtent()\n",
    "    dataframe.scale = 1000\n",
    "    arcpy.RefreshActiveView()\n",
    "    arcpy.mapping.ExportToPDF(mxd, PLAN_PATH + \"\\\\ATD_Whereabouts_Page_{}.pdf\".format(row[\"id\"]))\n",
    "    print \"PDF file created Page_{}.pdf\".format(row[\"id\"])"
   ]
  },
  {
   "cell_type": "code",
   "execution_count": 93,
   "metadata": {},
   "outputs": [
    {
     "name": "stdout",
     "output_type": "stream",
     "text": [
      "TRANSPORTATION.markings_specialty_point\n",
      "TRANSPORTATION.markings_specialty_line\n",
      "TRANSPORTATION.markings_short_line\n"
     ]
    }
   ],
   "source": [
    "for l in arcpy.mapping.ListLayers(mxd,'TRANSPORTATION.markings*'):\n",
    "    #if arcpy.Exists(l) == False:\n",
    "    #    print 'why'\n",
    "    print l"
   ]
  },
  {
   "cell_type": "code",
   "execution_count": null,
   "metadata": {},
   "outputs": [],
   "source": [
    "a = PLAN_PATH + \"\\\\ATD_Whereabouts_\"\n",
    "\n",
    "for i,r in df.iterrows():\n",
    "    merger = PdfFileMerger()\n",
    "    pdf = \"{}{}_{}.pdf\".format(a,'Cover',r['Location ID'])\n",
    "    merger.append(pdf)\n",
    "    for index,row in pages.iterrows():\n",
    "        if r['Location ID'] == row['LOCATION ID']:\n",
    "            png = \"{}{}_{}_{}.png\".format(a,'Page',row['LOCATION ID'],row['SEGMENT_ID'])\n",
    "            rgba = Image.open(png)\n",
    "            rgb = Image.new('RGB', rgba.size, (255, 255, 255))  # white background\n",
    "            rgb.paste(rgba, mask=rgba.split()[3])               # paste using alpha channel as mask\n",
    "            rgb.save(PDF_FILE, 'PDF', resoultion=100.0)\n",
    "            pdf = \"{}{}_{}_{}.pdf\".format(a,'Page',row['LOCATION ID'],row['SEGMENT_ID'])\n",
    "            merger.append(pdf)\n",
    "    merger.write(a + \"{}_Final.pdf\".format(r['Location ID']))\n",
    "    merger.close()"
   ]
  },
  {
   "cell_type": "code",
   "execution_count": 8,
   "metadata": {},
   "outputs": [
    {
     "name": "stdout",
     "output_type": "stream",
     "text": [
      "Install turn bays, lane line 2 crosswalk, 2 stopline, 1 only word, 3 left  arrow, 2 right arrow, 3 bike arrow, 1 bicyclist symbol\n"
     ]
    }
   ],
   "source": [
    "print df.Specifications[6]"
   ]
  },
  {
   "cell_type": "code",
   "execution_count": null,
   "metadata": {},
   "outputs": [],
   "source": []
  },
  {
   "cell_type": "code",
   "execution_count": null,
   "metadata": {},
   "outputs": [],
   "source": []
  }
 ],
 "metadata": {
  "kernelspec": {
   "display_name": "Python [conda env:arc104_py2]",
   "language": "python",
   "name": "conda-env-arc104_py2-py"
  },
  "language_info": {
   "codemirror_mode": {
    "name": "ipython",
    "version": 2
   },
   "file_extension": ".py",
   "mimetype": "text/x-python",
   "name": "python",
   "nbconvert_exporter": "python",
   "pygments_lexer": "ipython2",
   "version": "2.7.16"
  },
  "toc": {
   "base_numbering": 1,
   "nav_menu": {},
   "number_sections": true,
   "sideBar": true,
   "skip_h1_title": false,
   "title_cell": "Table of Contents",
   "title_sidebar": "Contents",
   "toc_cell": false,
   "toc_position": {},
   "toc_section_display": true,
   "toc_window_display": false
  },
  "toc-showtags": false,
  "widgets": {
   "state": {
    "020ac404c494444a9447e4f87889e5ce": {
     "views": [
      {
       "cell_index": 0
      }
     ]
    }
   },
   "version": "1.2.0"
  }
 },
 "nbformat": 4,
 "nbformat_minor": 4
}
