{
 "cells": [
  {
   "cell_type": "markdown",
   "metadata": {
    "toc-hr-collapsed": false
   },
   "source": [
    "# Whereabouts Plans Template\n",
    "This notebook will demonstrate how to create a whereabouts plan automatically.\n",
    "\n",
    "<div style=\"text-align:center\"><img src=\"https://upload.wikimedia.org/wikipedia/commons/thumb/d/d3/Downtown_Austin_%28southward_view%2C_from_the_Capitol_Grounds_on_11th_street%29_%2823_November_2006%29.jpg/640px-Downtown_Austin_%28southward_view%2C_from_the_Capitol_Grounds_on_11th_street%29_%2823_November_2006%29.jpg\" /></div>\n",
    "\n",
    "## Introduction\n",
    "The purpose of this notebook is to create a Street and Bridge Work Order plans based on segment IDs and additional comments on long line. Markings feature layers are published in the City of Austin ArcGIS Portal page available for public view as well. \n",
    "\n",
    "The data should already be available in the folder path as an excel spreadsheet. If the spreadsheet exists, a map document will be configured for spreadsheet use."
   ]
  },
  {
   "cell_type": "markdown",
   "metadata": {},
   "source": [
    "## Imports\n",
    "The packages used for this project are:\n",
    "- [pandas](https://pandas.pydata.org/) to create dataframe of extracted table and transform the data\n",
    "- [pathlib](https://docs.python.org/3/library/pathlib.html) to find path to excel document if it exists\n",
    "- [PyPDF2](https://pythonhosted.org/PyPDF2/) to merge PDFs for cover and pages in order\n",
    "- [archook](https://github.com/JamesRamm/archook) to search for arcgis and makes arcpy available to python \n",
    "- [arcpy](https://pro.arcgis.com/en/pro-app/arcpy/get-started/what-is-arcpy-.htm) to create whereabouts markings plans using ESRI ArcMap Desktop software"
   ]
  },
  {
   "cell_type": "code",
   "execution_count": 1,
   "metadata": {},
   "outputs": [],
   "source": [
    "import pandas as pd\n",
    "from pathlib import Path\n",
    "from PyPDF2 import PdfFileMerger\n",
    "\n",
    "import archook \n",
    "archook.get_arcpy()\n",
    "import arcpy\n",
    "\n",
    "import datetime\n",
    "import os "
   ]
  },
  {
   "cell_type": "markdown",
   "metadata": {},
   "source": [
    "## Constants\n",
    "\n",
    "The date by month and day constant will determine the file pdf name to use as a dataframe. Folder path will determine where the plans will be created depending on the year. This is set to the top for the purpose of changing these constants as needed.\n",
    "\n",
    "<i>The table below explains the purpose of each constant.</i>\n",
    "\n",
    "| Constant | Description   |\n",
    "|:--------:|----|\n",
    "| <b>MONTH, DAY, YEAR</b> |Date used to find PDF in month-day format and file path based on year|\n",
    "|<b>FOLDER</b>      |File directory used to import SBO whereabouts reports from email|\n",
    "|<b>FILE_NAME</b>   |File directory name used to extact SBO whereabouts reports from file|\n",
    "|<b>MXD</b>   |Map document used to create whereabouts plans template|"
   ]
  },
  {
   "cell_type": "code",
   "execution_count": 2,
   "metadata": {},
   "outputs": [],
   "source": [
    "%store -r MONTH\n",
    "%store -r DAY\n",
    "%store -r YEAR\n",
    "%store -r FOLDER\n",
    "%store -r FILE_NAME\n",
    "MXD = arcpy.mapping.MapDocument(r\"C:\\Users\\Govs\\Projects\\Whereabouts\\Whereabouts_Template.mxd\")\n",
    "PLAN_PATH = r\"G:\\ATD\\Signs_and_Markings\\MARKINGS\\Whereabouts WORK ORDERS\\{}\".format(YEAR)"
   ]
  },
  {
   "cell_type": "markdown",
   "metadata": {},
   "source": [
    "## Methods\n",
    "These functions will be used to extract and transform the data into a feasible format.\n",
    "\n",
    "<i>The table below explains the purpose of each:</i>\n",
    "\n",
    "| Method | Description   |\n",
    "|:--------:|----|\n",
    "|<b>df_text</b> |Changes element text to the pandas dataframe|\n",
    "|<b>cover_aerial</b> |Zooms to selected features and extent for the dataframe|"
   ]
  },
  {
   "cell_type": "code",
   "execution_count": 19,
   "metadata": {},
   "outputs": [],
   "source": [
    "# Formats element text to match pandas dataframe for cover\n",
    "def df_text(r,row1,location,wg):\n",
    "    date = datetime.datetime.now()\n",
    "    for e in arcpy.mapping.ListLayoutElements(MXD,'TEXT_ELEMENT'):\n",
    "            if e.name == 'SPECIFICATIONS':\n",
    "                e.text = str(r[\"SPECIFICATIONS\"])\n",
    "            elif e.name == 'CREATED DATE':\n",
    "                e.text =  \"{}/{}/{}\".format(date.month,date.day,date.year)\n",
    "            elif e.name == 'REQUESTOR ID':\n",
    "                e.text = str(r[\"Location ID\"])\n",
    "            elif e.name == 'row1':\n",
    "                e.text = row1\n",
    "            elif e.name == 'LOCATION':\n",
    "                e.text = location\n",
    "            elif e.name == 'author':\n",
    "                e.text = 'Susanne Gov'\n",
    "            elif e.name == 'WORK GROUPS':\n",
    "                e.text = wg\n",
    "            elif e.name == 'PAGE':\n",
    "                e.text = str(r['PAGE'])\n",
    "                \n",
    "# Refreshes dataframe map aerial                \n",
    "def aerial(layer,scale,select):\n",
    "    dataframe = arcpy.mapping.ListDataFrames(MXD,\"Layers\")[0]\n",
    "    dataframe.zoomToSelectedFeatures()\n",
    "    dataframe.extent = layer.getSelectedExtent()\n",
    "    dataframe.scale = dataframe.scale * scale\n",
    "    if select == True:\n",
    "        arcpy.SelectLayerByAttribute_management(layer,\"CLEAR_SELECTION\")\n",
    "    arcpy.RefreshActiveView()\n",
    "\n",
    "# Goes through mxd layers and allows selection/deselection based on query\n",
    "# On to do list: do definition query instead for markings\n",
    "def select_layers(q,dq,option):\n",
    "    for l in arcpy.mapping.ListLayers(MXD,'TRANSPORTATION.markings*'):\n",
    "        arcpy.SelectLayerByAttribute_management(l,option,q)\n",
    "        l.definitionQuery = dq"
   ]
  },
  {
   "cell_type": "markdown",
   "metadata": {},
   "source": [
    "## Import Datasets"
   ]
  },
  {
   "cell_type": "code",
   "execution_count": 17,
   "metadata": {},
   "outputs": [
    {
     "data": {
      "text/html": [
       "<div>\n",
       "<style scoped>\n",
       "    .dataframe tbody tr th:only-of-type {\n",
       "        vertical-align: middle;\n",
       "    }\n",
       "\n",
       "    .dataframe tbody tr th {\n",
       "        vertical-align: top;\n",
       "    }\n",
       "\n",
       "    .dataframe thead th {\n",
       "        text-align: right;\n",
       "    }\n",
       "</style>\n",
       "<table border=\"1\" class=\"dataframe\">\n",
       "  <thead>\n",
       "    <tr style=\"text-align: right;\">\n",
       "      <th></th>\n",
       "      <th>PAGE</th>\n",
       "      <th>Location ID</th>\n",
       "      <th>SEGMENT_ID</th>\n",
       "      <th>BLOCK</th>\n",
       "      <th>CROSSWALK</th>\n",
       "      <th>STOP_LINE</th>\n",
       "      <th>Bicyclist symbol</th>\n",
       "      <th>Bike arrow</th>\n",
       "      <th>Diagonal crosshatch</th>\n",
       "      <th>Left arrow</th>\n",
       "      <th>Only word</th>\n",
       "      <th>Right arrow</th>\n",
       "      <th>SPECIFICATIONS</th>\n",
       "    </tr>\n",
       "  </thead>\n",
       "  <tbody>\n",
       "    <tr>\n",
       "      <th>0</th>\n",
       "      <td>9</td>\n",
       "      <td>62870</td>\n",
       "      <td>2026275</td>\n",
       "      <td>4901</td>\n",
       "      <td>NaN</td>\n",
       "      <td>NaN</td>\n",
       "      <td>NaN</td>\n",
       "      <td>3.0</td>\n",
       "      <td>4.0</td>\n",
       "      <td>NaN</td>\n",
       "      <td>NaN</td>\n",
       "      <td>NaN</td>\n",
       "      <td>Install 3 bike arrow, 4 diagonal crosshatch</td>\n",
       "    </tr>\n",
       "    <tr>\n",
       "      <th>1</th>\n",
       "      <td>2</td>\n",
       "      <td>62870</td>\n",
       "      <td>2038344</td>\n",
       "      <td>4310</td>\n",
       "      <td>NaN</td>\n",
       "      <td>NaN</td>\n",
       "      <td>1.0</td>\n",
       "      <td>4.0</td>\n",
       "      <td>NaN</td>\n",
       "      <td>NaN</td>\n",
       "      <td>NaN</td>\n",
       "      <td>NaN</td>\n",
       "      <td>Install 1 bicyclist symbol, 4 bike arrow</td>\n",
       "    </tr>\n",
       "    <tr>\n",
       "      <th>2</th>\n",
       "      <td>8</td>\n",
       "      <td>62870</td>\n",
       "      <td>2038345</td>\n",
       "      <td>4900</td>\n",
       "      <td>NaN</td>\n",
       "      <td>NaN</td>\n",
       "      <td>2.0</td>\n",
       "      <td>1.0</td>\n",
       "      <td>NaN</td>\n",
       "      <td>NaN</td>\n",
       "      <td>1.0</td>\n",
       "      <td>1.0</td>\n",
       "      <td>Install 2 bicyclist symbol, 1 bike arrow, 1 on...</td>\n",
       "    </tr>\n",
       "    <tr>\n",
       "      <th>3</th>\n",
       "      <td>10</td>\n",
       "      <td>74361</td>\n",
       "      <td>2040261</td>\n",
       "      <td>8401</td>\n",
       "      <td>2.0</td>\n",
       "      <td>2.0</td>\n",
       "      <td>NaN</td>\n",
       "      <td>NaN</td>\n",
       "      <td>13.0</td>\n",
       "      <td>4.0</td>\n",
       "      <td>1.0</td>\n",
       "      <td>2.0</td>\n",
       "      <td>Install 2 crosswalk, 2 stop_line, 13 diagonal ...</td>\n",
       "    </tr>\n",
       "    <tr>\n",
       "      <th>4</th>\n",
       "      <td>3</td>\n",
       "      <td>62870</td>\n",
       "      <td>2043055</td>\n",
       "      <td>4311</td>\n",
       "      <td>NaN</td>\n",
       "      <td>NaN</td>\n",
       "      <td>1.0</td>\n",
       "      <td>4.0</td>\n",
       "      <td>NaN</td>\n",
       "      <td>NaN</td>\n",
       "      <td>NaN</td>\n",
       "      <td>NaN</td>\n",
       "      <td>Install 1 bicyclist symbol, 4 bike arrow</td>\n",
       "    </tr>\n",
       "    <tr>\n",
       "      <th>5</th>\n",
       "      <td>4</td>\n",
       "      <td>62870</td>\n",
       "      <td>3259330</td>\n",
       "      <td>4600</td>\n",
       "      <td>1.0</td>\n",
       "      <td>1.0</td>\n",
       "      <td>1.0</td>\n",
       "      <td>3.0</td>\n",
       "      <td>5.0</td>\n",
       "      <td>NaN</td>\n",
       "      <td>NaN</td>\n",
       "      <td>NaN</td>\n",
       "      <td>Install 1 crosswalk, 1 stop_line, 1 bicyclist ...</td>\n",
       "    </tr>\n",
       "    <tr>\n",
       "      <th>6</th>\n",
       "      <td>6</td>\n",
       "      <td>62870</td>\n",
       "      <td>3259331</td>\n",
       "      <td>4718</td>\n",
       "      <td>NaN</td>\n",
       "      <td>NaN</td>\n",
       "      <td>1.0</td>\n",
       "      <td>2.0</td>\n",
       "      <td>NaN</td>\n",
       "      <td>NaN</td>\n",
       "      <td>NaN</td>\n",
       "      <td>NaN</td>\n",
       "      <td>Install 1 bicyclist symbol, 2 bike arrow</td>\n",
       "    </tr>\n",
       "    <tr>\n",
       "      <th>7</th>\n",
       "      <td>5</td>\n",
       "      <td>62870</td>\n",
       "      <td>3259334</td>\n",
       "      <td>4601</td>\n",
       "      <td>NaN</td>\n",
       "      <td>NaN</td>\n",
       "      <td>1.0</td>\n",
       "      <td>2.0</td>\n",
       "      <td>1.0</td>\n",
       "      <td>NaN</td>\n",
       "      <td>NaN</td>\n",
       "      <td>NaN</td>\n",
       "      <td>Install 1 bicyclist symbol, 2 bike arrow, 1 di...</td>\n",
       "    </tr>\n",
       "    <tr>\n",
       "      <th>8</th>\n",
       "      <td>7</td>\n",
       "      <td>62870</td>\n",
       "      <td>3259335</td>\n",
       "      <td>4719</td>\n",
       "      <td>NaN</td>\n",
       "      <td>1.0</td>\n",
       "      <td>1.0</td>\n",
       "      <td>2.0</td>\n",
       "      <td>NaN</td>\n",
       "      <td>NaN</td>\n",
       "      <td>NaN</td>\n",
       "      <td>NaN</td>\n",
       "      <td>Install 1 stop_line, 1 bicyclist symbol, 2 bik...</td>\n",
       "    </tr>\n",
       "  </tbody>\n",
       "</table>\n",
       "</div>"
      ],
      "text/plain": [
       "   PAGE  Location ID  SEGMENT_ID  BLOCK  CROSSWALK  STOP_LINE  \\\n",
       "0     9        62870     2026275   4901        NaN        NaN   \n",
       "1     2        62870     2038344   4310        NaN        NaN   \n",
       "2     8        62870     2038345   4900        NaN        NaN   \n",
       "3    10        74361     2040261   8401        2.0        2.0   \n",
       "4     3        62870     2043055   4311        NaN        NaN   \n",
       "5     4        62870     3259330   4600        1.0        1.0   \n",
       "6     6        62870     3259331   4718        NaN        NaN   \n",
       "7     5        62870     3259334   4601        NaN        NaN   \n",
       "8     7        62870     3259335   4719        NaN        1.0   \n",
       "\n",
       "   Bicyclist symbol  Bike arrow  Diagonal crosshatch   Left arrow  Only word  \\\n",
       "0               NaN         3.0                   4.0         NaN        NaN   \n",
       "1               1.0         4.0                   NaN         NaN        NaN   \n",
       "2               2.0         1.0                   NaN         NaN        1.0   \n",
       "3               NaN         NaN                  13.0         4.0        1.0   \n",
       "4               1.0         4.0                   NaN         NaN        NaN   \n",
       "5               1.0         3.0                   5.0         NaN        NaN   \n",
       "6               1.0         2.0                   NaN         NaN        NaN   \n",
       "7               1.0         2.0                   1.0         NaN        NaN   \n",
       "8               1.0         2.0                   NaN         NaN        NaN   \n",
       "\n",
       "   Right arrow                                     SPECIFICATIONS  \n",
       "0          NaN       Install 3 bike arrow, 4 diagonal crosshatch   \n",
       "1          NaN           Install 1 bicyclist symbol, 4 bike arrow  \n",
       "2          1.0  Install 2 bicyclist symbol, 1 bike arrow, 1 on...  \n",
       "3          2.0  Install 2 crosswalk, 2 stop_line, 13 diagonal ...  \n",
       "4          NaN           Install 1 bicyclist symbol, 4 bike arrow  \n",
       "5          NaN  Install 1 crosswalk, 1 stop_line, 1 bicyclist ...  \n",
       "6          NaN           Install 1 bicyclist symbol, 2 bike arrow  \n",
       "7          NaN  Install 1 bicyclist symbol, 2 bike arrow, 1 di...  \n",
       "8          NaN  Install 1 stop_line, 1 bicyclist symbol, 2 bik...  "
      ]
     },
     "metadata": {},
     "output_type": "display_data"
    }
   ],
   "source": [
    "if Path(FILE_NAME + '.xlsx').exists():\n",
    "    df = pd.read_excel(FILE_NAME + '.xlsx','Cover', index_col=0).reset_index()\n",
    "    df1 = pd.read_excel(FILE_NAME + '.xlsx','Pages', index_col=0).reset_index()\n",
    "    display(df1)"
   ]
  },
  {
   "cell_type": "markdown",
   "metadata": {},
   "source": [
    "# Creating the Map"
   ]
  },
  {
   "cell_type": "code",
   "execution_count": 18,
   "metadata": {},
   "outputs": [],
   "source": [
    "sde_path = r\"Database Connections\\GISDM.sde\"\n",
    "pdf_file = PLAN_PATH + \"\\\\ATD_Whereabouts_\"\n",
    "\n",
    "# Create Database connection \n",
    "arcpy.env.workspace = sde_path\n",
    "if arcpy.Exists(sde_path) == False:\n",
    "    arcpy.CreateDatabaseConnection_management(\"Database Connections\",\"GISDM.sde\", \"ORACLE\", \n",
    "                                              \"sde:oracle11g:gisdm\", \"DATABASE_AUTH\")\n",
    "\n",
    "# Create layers\n",
    "layer = arcpy.mapping.ListLayers(MXD,\"TRANSPORTATION.street_segment\")[0]\n",
    "sl = arcpy.mapping.ListLayers(MXD,'TRANSPORTATION.markings_short_line')[0]\n",
    "sp = arcpy.mapping.ListLayers(MXD,'TRANSPORTATION.markings_specialty_point')[0]"
   ]
  },
  {
   "cell_type": "markdown",
   "metadata": {},
   "source": [
    "## Setting up Cover Document\n",
    "A database connection to GISDM is needed to access the markings asset layers and the markings assets layers. We can open up a map document of the cover work orders and another map document of the pages work orders."
   ]
  },
  {
   "cell_type": "code",
   "execution_count": 27,
   "metadata": {},
   "outputs": [],
   "source": [
    "for index,row in df.iterrows():\n",
    "    q = 'SEGMENT_ID IN({})'.format(str(str(row[\"Segment IDs\"]).split(','))[1:-1])\n",
    "    select_layers(q,q,'NEW_SELECTION')\n",
    "    arcpy.SelectLayerByAttribute_management(layer,\"NEW_SELECTION\",q) \n",
    "    df_text(row,'LOCATION',\"{} from {} to {}\".format(row[\"Street\"],row[\"From\"],row[\"To\"]),str(row['WORK GROUPS']))\n",
    "    select_layers(q,q,'CLEAR_SELECTION')\n",
    "    aerial(layer,1,False)\n",
    "    arcpy.mapping.ExportToPDF(MXD, pdf_file + \"Cover_{}.pdf\".format(row[\"Location ID\"]))\n",
    "    select_layers(q,'',\"CLEAR_SELECTION\")"
   ]
  },
  {
   "cell_type": "markdown",
   "metadata": {},
   "source": [
    "## Setting up Pages"
   ]
  },
  {
   "cell_type": "code",
   "execution_count": 28,
   "metadata": {},
   "outputs": [],
   "source": [
    "for index,row in df1.iterrows():\n",
    "    q = 'SEGMENT_ID = {}'.format(int(row[\"SEGMENT_ID\"]))\n",
    "    select_layers(q,q,\"NEW_SELECTION\")\n",
    "    arcpy.SelectLayerByAttribute_management(layer,\"NEW_SELECTION\",q) \n",
    "    df_text(row,'SEGMENT ID',str(row['SEGMENT_ID']),'Markings')\n",
    "    select_layers(q,q,'CLEAR_SELECTION')\n",
    "    aerial(layer,1.05,True)\n",
    "    arcpy.mapping.ExportToPDF(MXD, pdf_file + 'Page_{}_{}_{}.pdf'.format(row[\"Location ID\"],row['SEGMENT_ID'],row['PAGE']))\n",
    "    select_layers(q,'',\"CLEAR_SELECTION\")"
   ]
  },
  {
   "cell_type": "markdown",
   "metadata": {},
   "source": [
    "## Merging Cover and Pages"
   ]
  },
  {
   "cell_type": "code",
   "execution_count": 9,
   "metadata": {},
   "outputs": [],
   "source": [
    "# merge these in order of pdf\n",
    "for i,r in df.iterrows():\n",
    "    merger = PdfFileMerger()\n",
    "    pdf = \"{}{}_{}.pdf\".format(a,'Cover',r['Location ID'])\n",
    "    merger.append(pdf)\n",
    "    for index,row in df1.iterrows():\n",
    "        if r['Location ID'] == row['Location ID']:\n",
    "            pdf = \"{}{}_{}_{}.pdf\".format(a,'Page',row['Location ID'],row['SEGMENT_ID'])\n",
    "            merger.append(pdf)\n",
    "    merger.write(a + \"{}_Final.pdf\".format(r['Location ID']))\n",
    "    merger.close()"
   ]
  },
  {
   "cell_type": "markdown",
   "metadata": {},
   "source": [
    "Complete!"
   ]
  },
  {
   "cell_type": "markdown",
   "metadata": {},
   "source": [
    "## Kill ArcMap Desktop"
   ]
  },
  {
   "cell_type": "code",
   "execution_count": 24,
   "metadata": {},
   "outputs": [
    {
     "data": {
      "text/plain": [
       "128"
      ]
     },
     "execution_count": 24,
     "metadata": {},
     "output_type": "execute_result"
    }
   ],
   "source": [
    "import os  \n",
    "os.system(\"TASKKILL /F /IM ArcMap.exe\")  "
   ]
  }
 ],
 "metadata": {
  "kernelspec": {
   "display_name": "Python [conda env:arc104_py2]",
   "language": "python",
   "name": "conda-env-arc104_py2-py"
  },
  "language_info": {
   "codemirror_mode": {
    "name": "ipython",
    "version": 2
   },
   "file_extension": ".py",
   "mimetype": "text/x-python",
   "name": "python",
   "nbconvert_exporter": "python",
   "pygments_lexer": "ipython2",
   "version": "2.7.16"
  },
  "toc": {
   "base_numbering": 1,
   "nav_menu": {},
   "number_sections": true,
   "sideBar": true,
   "skip_h1_title": false,
   "title_cell": "Table of Contents",
   "title_sidebar": "Contents",
   "toc_cell": false,
   "toc_position": {},
   "toc_section_display": true,
   "toc_window_display": false
  },
  "toc-showtags": false,
  "widgets": {
   "state": {
    "020ac404c494444a9447e4f87889e5ce": {
     "views": [
      {
       "cell_index": 0
      }
     ]
    }
   },
   "version": "1.2.0"
  }
 },
 "nbformat": 4,
 "nbformat_minor": 4
}
