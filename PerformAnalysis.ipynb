{
 "cells": [
  {
   "cell_type": "code",
   "execution_count": 11,
   "metadata": {},
   "outputs": [],
   "source": [
    "from arcgis.gis import GIS\n",
    "from IPython.display import display\n",
    "from arcgis.features.analyze_patterns import find_hot_spots\n",
    "import pandas as pd\n",
    "from arcgis.features import GeoAccessor, GeoSeriesAccessor"
   ]
  },
  {
   "cell_type": "code",
   "execution_count": 8,
   "metadata": {},
   "outputs": [],
   "source": [
    "gis = GIS(\"http://austin.maps.arcgis.com/\")"
   ]
  },
  {
   "cell_type": "code",
   "execution_count": 12,
   "metadata": {},
   "outputs": [
    {
     "name": "stdout",
     "output_type": "stream",
     "text": [
      "You need to be signed in to use spatial analysis.\n"
     ]
    },
    {
     "ename": "AttributeError",
     "evalue": "'NoneType' object has no attribute 'find_hot_spots'",
     "output_type": "error",
     "traceback": [
      "\u001b[1;31m---------------------------------------------------------------------------\u001b[0m",
      "\u001b[1;31mAttributeError\u001b[0m                            Traceback (most recent call last)",
      "\u001b[1;32m<ipython-input-12-3578480c6f66>\u001b[0m in \u001b[0;36m<module>\u001b[1;34m()\u001b[0m\n\u001b[0;32m      6\u001b[0m \u001b[0mmap1\u001b[0m\u001b[1;33m.\u001b[0m\u001b[0mbasemap\u001b[0m \u001b[1;33m=\u001b[0m \u001b[1;34m\"streets\"\u001b[0m\u001b[1;33m\u001b[0m\u001b[0m\n\u001b[0;32m      7\u001b[0m \u001b[0mmap1\u001b[0m\u001b[1;33m.\u001b[0m\u001b[0madd_layer\u001b[0m\u001b[1;33m(\u001b[0m\u001b[0mincidents_feature_layer\u001b[0m\u001b[1;33m)\u001b[0m\u001b[1;33m\u001b[0m\u001b[0m\n\u001b[1;32m----> 8\u001b[1;33m \u001b[0mfind_hot_spots\u001b[0m\u001b[1;33m(\u001b[0m\u001b[0mincidents_feature_layer\u001b[0m\u001b[1;33m,\u001b[0m \u001b[0moutput_name\u001b[0m\u001b[1;33m=\u001b[0m\u001b[1;34m'Puget Sound Traffic Stops'\u001b[0m\u001b[1;33m,\u001b[0m \u001b[0mgis\u001b[0m\u001b[1;33m=\u001b[0m\u001b[0mgis\u001b[0m\u001b[1;33m)\u001b[0m\u001b[1;33m\u001b[0m\u001b[0m\n\u001b[0m\u001b[0;32m      9\u001b[0m \u001b[0mhotspot_results\u001b[0m \u001b[1;33m=\u001b[0m \u001b[0mgis\u001b[0m\u001b[1;33m.\u001b[0m\u001b[0mcontent\u001b[0m\u001b[1;33m.\u001b[0m\u001b[0msearch\u001b[0m\u001b[1;33m(\u001b[0m\u001b[1;34m\"title:Puget Sound Traffic Stops\"\u001b[0m\u001b[1;33m,\u001b[0m \u001b[0mitem_type\u001b[0m\u001b[1;33m=\u001b[0m\u001b[1;34m\"Feature Service\"\u001b[0m\u001b[1;33m)\u001b[0m\u001b[1;33m\u001b[0m\u001b[0m\n\u001b[0;32m     10\u001b[0m \u001b[0mhotspot_feature_layer_collection\u001b[0m \u001b[1;33m=\u001b[0m \u001b[0mhotspot_results\u001b[0m\u001b[1;33m[\u001b[0m\u001b[1;36m0\u001b[0m\u001b[1;33m]\u001b[0m\u001b[1;33m\u001b[0m\u001b[0m\n",
      "\u001b[1;32m~\\Miniconda\\envs\\arc104\\lib\\site-packages\\arcgis\\features\\analyze_patterns.py\u001b[0m in \u001b[0;36mfind_hot_spots\u001b[1;34m(analysis_layer, analysis_field, divided_by_field, bounding_polygon_layer, aggregation_polygon_layer, output_name, context, gis)\u001b[0m\n\u001b[0;32m    253\u001b[0m \u001b[1;33m\u001b[0m\u001b[0m\n\u001b[0;32m    254\u001b[0m     \u001b[0mgis\u001b[0m \u001b[1;33m=\u001b[0m \u001b[0m_arcgis\u001b[0m\u001b[1;33m.\u001b[0m\u001b[0menv\u001b[0m\u001b[1;33m.\u001b[0m\u001b[0mactive_gis\u001b[0m \u001b[1;32mif\u001b[0m \u001b[0mgis\u001b[0m \u001b[1;32mis\u001b[0m \u001b[1;32mNone\u001b[0m \u001b[1;32melse\u001b[0m \u001b[0mgis\u001b[0m\u001b[1;33m\u001b[0m\u001b[0m\n\u001b[1;32m--> 255\u001b[1;33m     return gis._tools.featureanalysis.find_hot_spots(\n\u001b[0m\u001b[0;32m    256\u001b[0m         \u001b[0manalysis_layer\u001b[0m\u001b[1;33m,\u001b[0m\u001b[1;33m\u001b[0m\u001b[0m\n\u001b[0;32m    257\u001b[0m         \u001b[0manalysis_field\u001b[0m\u001b[1;33m,\u001b[0m\u001b[1;33m\u001b[0m\u001b[0m\n",
      "\u001b[1;31mAttributeError\u001b[0m: 'NoneType' object has no attribute 'find_hot_spots'"
     ]
    }
   ],
   "source": [
    "search_results = gis.content.search(\"title:Puget Sound Traffic Incidents\", \n",
    "                                    item_type=\"Feature Service\", outside_org=True)\n",
    "incidents_feature_layer_collection = search_results[0]\n",
    "incidents_feature_layer = incidents_feature_layer_collection.layers[0] \n",
    "map1 = gis.map(\"Seattle, WA\")\n",
    "map1.basemap = \"streets\"\n",
    "map1.add_layer(incidents_feature_layer)\n",
    "find_hot_spots(incidents_feature_layer, output_name='Puget Sound Traffic Stops', gis=gis)\n",
    "hotspot_results = gis.content.search(\"title:Puget Sound Traffic Stops\", item_type=\"Feature Service\")\n",
    "hotspot_feature_layer_collection = hotspot_results[0]\n",
    "hotspot_feature_layer = hotspot_feature_layer_collection.layers[0]\n",
    "sdf = pd.DataFrame.spatial.from_layer(hotspot_feature_layer)\n",
    "map1.remove_layers([incidents_feature_layer])\n"
   ]
  },
  {
   "cell_type": "code",
   "execution_count": null,
   "metadata": {},
   "outputs": [],
   "source": []
  },
  {
   "cell_type": "code",
   "execution_count": null,
   "metadata": {},
   "outputs": [],
   "source": []
  }
 ],
 "metadata": {
  "kernelspec": {
   "display_name": "Python 3",
   "language": "python",
   "name": "python3"
  },
  "language_info": {
   "codemirror_mode": {
    "name": "ipython",
    "version": 3
   },
   "file_extension": ".py",
   "mimetype": "text/x-python",
   "name": "python",
   "nbconvert_exporter": "python",
   "pygments_lexer": "ipython3",
   "version": "3.5.6"
  }
 },
 "nbformat": 4,
 "nbformat_minor": 2
}
