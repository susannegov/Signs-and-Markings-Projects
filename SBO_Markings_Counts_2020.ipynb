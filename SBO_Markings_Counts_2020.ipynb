{
 "cells": [
  {
   "cell_type": "markdown",
   "metadata": {},
   "source": [
    "# SBO Markings Counts (2020)\n",
    "This notebook will demonstrate how to access attribute table from shapefiles in order to create a markings asset counts for each street segment\n",
    "\n",
    "<div style=\"text-align:center\"><img src='https://upload.wikimedia.org/wikipedia/commons/thumb/4/47/Road_resurfacing.jpg/1280px-Road_resurfacing.jpg'></div>\n",
    "\n",
    "## Introduction\n",
    "The purpose of this notebook is to estimate the total pavement markings asset counts over the next 5 years from ficscal year 2020 to 2024 using the markings asset feature layers from ArcGIS Online.\n",
    "\n",
    "<i><b>Disclaimer:</b> This product is for informational purposes and may not have been prepared for or be suitable for legal, engineering, or surveying purposes. No warranty is made by the City of Austin regarding specific accuracy or completeness.</i>"
   ]
  },
  {
   "cell_type": "markdown",
   "metadata": {},
   "source": [
    "## Imports\n",
    "The packages used for this project are:\n",
    "- [pandas](https://pandas.pydata.org/) to create dataframe of extracted table and transform the data\n",
    "- [geopandas](http://geopandas.org/mapping.html) to access attribute table of 5 year selected segments for SBO\n",
    "- [arcgis](https://esri.github.io/arcgis-python-api/apidoc/html/) to search for markings feature layer dataset"
   ]
  },
  {
   "cell_type": "code",
   "execution_count": 62,
   "metadata": {},
   "outputs": [],
   "source": [
    "import pandas as pd\n",
    "import geopandas\n",
    "\n",
    "from arcgis.gis import GIS\n",
    "from arcgis.features import FeatureLayer\n",
    "\n",
    "%run C:\\Users\\Govs\\Projects/FeatureLayerDataFrame.py"
   ]
  },
  {
   "cell_type": "markdown",
   "metadata": {},
   "source": [
    "## Constants\n"
   ]
  },
  {
   "cell_type": "code",
   "execution_count": 6,
   "metadata": {},
   "outputs": [
    {
     "name": "stdout",
     "output_type": "stream",
     "text": [
      "Please sign in to your GIS and paste the code that is obtained below.\n",
      "If a web browser does not automatically open, please navigate to the URL below yourself instead.\n",
      "Opening web browser to navigate to: https://austin.maps.arcgis.com/sharing/rest/oauth2/authorize?client_id=CrnxPfTcm7Y7ZGl7&response_type=code&expiration=-1&redirect_uri=urn%3Aietf%3Awg%3Aoauth%3A2.0%3Aoob\n"
     ]
    },
    {
     "name": "stdin",
     "output_type": "stream",
     "text": [
      "Enter code obtained on signing in using SAML:  ············································································································································································································································\n"
     ]
    }
   ],
   "source": [
    "gis = GIS(\"https://austin.maps.arcgis.com/home/index.html\", client_id='CrnxPfTcm7Y7ZGl7')"
   ]
  },
  {
   "cell_type": "code",
   "execution_count": 7,
   "metadata": {},
   "outputs": [],
   "source": [
    "FOLDER = r'G:\\ATD\\Signs_and_Markings\\MARKINGS\\Whereabouts WORK ORDERS\\SBO_2020-2024_Service_Plan'\n",
    "SHP = FOLDER + r'\\SBO_FiveYear_Service_Plan_09.shp'"
   ]
  },
  {
   "cell_type": "markdown",
   "metadata": {},
   "source": [
    "## Import Dataset\n",
    "Looking into the 2020 SBO Plans to extract Segment IDs"
   ]
  },
  {
   "cell_type": "code",
   "execution_count": 8,
   "metadata": {},
   "outputs": [],
   "source": [
    "austin = geopandas.read_file(SHP).query('YR == 2020').filter(['SEGMENT_ID']).reset_index(drop=True)\n",
    "segments = list(austin.SEGMENT_ID)"
   ]
  },
  {
   "cell_type": "markdown",
   "metadata": {},
   "source": [
    "Create spatial dataframes of Markings Feature layers."
   ]
  },
  {
   "cell_type": "code",
   "execution_count": 96,
   "metadata": {},
   "outputs": [],
   "source": [
    "sp = FeatureLayerDataFrame('markings_specialty_point').query_segments(segments)\n",
    "sl = FeatureLayerDataFrame('markings_short_line').query_segments(segments)\n",
    "lines = FeatureLayerDataFrame('atd_maintained_streets').query_segments(segments)\n",
    "sp['SUM'] = sl['SUM'] = 1"
   ]
  },
  {
   "cell_type": "markdown",
   "metadata": {},
   "source": [
    "## Group and Append Datasets\n",
    "For specialty points and short line, the sum is calculated by counting the number of rows grouped by markings type. For longline, the sum is calculated by adding the total linear miles where longline exists."
   ]
  },
  {
   "cell_type": "code",
   "execution_count": 97,
   "metadata": {},
   "outputs": [],
   "source": [
    "# Variables\n",
    "repl = ['CROSSWALK','SCHOOL_ZONE_LINE','STOP_LINE','YIELD_LINE','Y']\n",
    "val = ['Crosswalk','School Zone Line','Stop Line','Yield Line', 'Longline Miles']\n",
    "\n",
    "# Data Analysis\n",
    "sp_counts = sp.groupby('SPECIALTY_POINT_TYPE').count()[['SUM']].reset_index(drop=False).rename(columns={'SPECIALTY_POINT_TYPE':'MARKINGS TYPE'})\n",
    "sl_counts = sl.groupby('SHORT_LINE_TYPE').count()[['SUM']].reset_index(drop=False).rename(columns={'SHORT_LINE_TYPE':'MARKINGS TYPE'})\n",
    "lines_counts = lines.groupby('LONGLINE').sum()[['LINEAR_MILES']].reset_index(drop=False).query(\"LONGLINE == 'Y'\").rename(columns={'LONGLINE':'MARKINGS TYPE','LINEAR_MILES':'SUM'})\n",
    "sp_counts['WORK TYPE'] = 'SPECIALTY MARKINGS'\n",
    "sl_counts['WORK TYPE'] = 'SHORT LINE'\n",
    "lines_counts['WORK TYPE'] = 'LONG LINE'\n",
    "\n",
    "# Appending\n",
    "df = lines_counts.append([sp_counts,sl_counts],sort=True).replace(repl,val).set_index('MARKINGS TYPE')\n",
    "df['SUM'] = df['SUM'].apply(int)"
   ]
  },
  {
   "cell_type": "markdown",
   "metadata": {},
   "source": [
    "## Display Markings Count Table"
   ]
  },
  {
   "cell_type": "code",
   "execution_count": 98,
   "metadata": {},
   "outputs": [
    {
     "data": {
      "text/html": [
       "<div>\n",
       "<style scoped>\n",
       "    .dataframe tbody tr th:only-of-type {\n",
       "        vertical-align: middle;\n",
       "    }\n",
       "\n",
       "    .dataframe tbody tr th {\n",
       "        vertical-align: top;\n",
       "    }\n",
       "\n",
       "    .dataframe thead th {\n",
       "        text-align: right;\n",
       "    }\n",
       "</style>\n",
       "<table border=\"1\" class=\"dataframe\">\n",
       "  <thead>\n",
       "    <tr style=\"text-align: right;\">\n",
       "      <th></th>\n",
       "      <th>SUM</th>\n",
       "      <th>WORK TYPE</th>\n",
       "    </tr>\n",
       "    <tr>\n",
       "      <th>MARKINGS TYPE</th>\n",
       "      <th></th>\n",
       "      <th></th>\n",
       "    </tr>\n",
       "  </thead>\n",
       "  <tbody>\n",
       "    <tr>\n",
       "      <th>Longline Miles</th>\n",
       "      <td>140</td>\n",
       "      <td>LONG LINE</td>\n",
       "    </tr>\n",
       "    <tr>\n",
       "      <th>Ahead word</th>\n",
       "      <td>1</td>\n",
       "      <td>SPECIALTY MARKINGS</td>\n",
       "    </tr>\n",
       "    <tr>\n",
       "      <th>Bicyclist symbol</th>\n",
       "      <td>319</td>\n",
       "      <td>SPECIALTY MARKINGS</td>\n",
       "    </tr>\n",
       "    <tr>\n",
       "      <th>Bike arrow</th>\n",
       "      <td>662</td>\n",
       "      <td>SPECIALTY MARKINGS</td>\n",
       "    </tr>\n",
       "    <tr>\n",
       "      <th>Blue RPM</th>\n",
       "      <td>2</td>\n",
       "      <td>SPECIALTY MARKINGS</td>\n",
       "    </tr>\n",
       "    <tr>\n",
       "      <th>Chevron crosshatch</th>\n",
       "      <td>11</td>\n",
       "      <td>SPECIALTY MARKINGS</td>\n",
       "    </tr>\n",
       "    <tr>\n",
       "      <th>Chevron symbol</th>\n",
       "      <td>235</td>\n",
       "      <td>SPECIALTY MARKINGS</td>\n",
       "    </tr>\n",
       "    <tr>\n",
       "      <th>Diagonal crosshatch</th>\n",
       "      <td>517</td>\n",
       "      <td>SPECIALTY MARKINGS</td>\n",
       "    </tr>\n",
       "    <tr>\n",
       "      <th>Diamond symbol</th>\n",
       "      <td>1</td>\n",
       "      <td>SPECIALTY MARKINGS</td>\n",
       "    </tr>\n",
       "    <tr>\n",
       "      <th>Green launch pad</th>\n",
       "      <td>10</td>\n",
       "      <td>SPECIALTY MARKINGS</td>\n",
       "    </tr>\n",
       "    <tr>\n",
       "      <th>Green pad</th>\n",
       "      <td>157</td>\n",
       "      <td>SPECIALTY MARKINGS</td>\n",
       "    </tr>\n",
       "    <tr>\n",
       "      <th>Keep Clear word</th>\n",
       "      <td>1</td>\n",
       "      <td>SPECIALTY MARKINGS</td>\n",
       "    </tr>\n",
       "    <tr>\n",
       "      <th>Lane reduction arrow</th>\n",
       "      <td>5</td>\n",
       "      <td>SPECIALTY MARKINGS</td>\n",
       "    </tr>\n",
       "    <tr>\n",
       "      <th>Left arrow</th>\n",
       "      <td>320</td>\n",
       "      <td>SPECIALTY MARKINGS</td>\n",
       "    </tr>\n",
       "    <tr>\n",
       "      <th>Left/Right arrow</th>\n",
       "      <td>1</td>\n",
       "      <td>SPECIALTY MARKINGS</td>\n",
       "    </tr>\n",
       "    <tr>\n",
       "      <th>Left/Right/Through arrow</th>\n",
       "      <td>2</td>\n",
       "      <td>SPECIALTY MARKINGS</td>\n",
       "    </tr>\n",
       "    <tr>\n",
       "      <th>Left/Through arrow</th>\n",
       "      <td>18</td>\n",
       "      <td>SPECIALTY MARKINGS</td>\n",
       "    </tr>\n",
       "    <tr>\n",
       "      <th>Merge word</th>\n",
       "      <td>1</td>\n",
       "      <td>SPECIALTY MARKINGS</td>\n",
       "    </tr>\n",
       "    <tr>\n",
       "      <th>Only word</th>\n",
       "      <td>157</td>\n",
       "      <td>SPECIALTY MARKINGS</td>\n",
       "    </tr>\n",
       "    <tr>\n",
       "      <th>Parking 'L'</th>\n",
       "      <td>16</td>\n",
       "      <td>SPECIALTY MARKINGS</td>\n",
       "    </tr>\n",
       "    <tr>\n",
       "      <th>Parking 'T'</th>\n",
       "      <td>80</td>\n",
       "      <td>SPECIALTY MARKINGS</td>\n",
       "    </tr>\n",
       "    <tr>\n",
       "      <th>Railroad Crossing (RxR) symbol</th>\n",
       "      <td>18</td>\n",
       "      <td>SPECIALTY MARKINGS</td>\n",
       "    </tr>\n",
       "    <tr>\n",
       "      <th>Right arrow</th>\n",
       "      <td>98</td>\n",
       "      <td>SPECIALTY MARKINGS</td>\n",
       "    </tr>\n",
       "    <tr>\n",
       "      <th>Right/Through arrow</th>\n",
       "      <td>28</td>\n",
       "      <td>SPECIALTY MARKINGS</td>\n",
       "    </tr>\n",
       "    <tr>\n",
       "      <th>Shared lane (Sharrow) symbol</th>\n",
       "      <td>59</td>\n",
       "      <td>SPECIALTY MARKINGS</td>\n",
       "    </tr>\n",
       "    <tr>\n",
       "      <th>Speed hump marking</th>\n",
       "      <td>282</td>\n",
       "      <td>SPECIALTY MARKINGS</td>\n",
       "    </tr>\n",
       "    <tr>\n",
       "      <th>Stop word</th>\n",
       "      <td>2</td>\n",
       "      <td>SPECIALTY MARKINGS</td>\n",
       "    </tr>\n",
       "    <tr>\n",
       "      <th>Through arrow</th>\n",
       "      <td>29</td>\n",
       "      <td>SPECIALTY MARKINGS</td>\n",
       "    </tr>\n",
       "    <tr>\n",
       "      <th>Yield word</th>\n",
       "      <td>3</td>\n",
       "      <td>SPECIALTY MARKINGS</td>\n",
       "    </tr>\n",
       "    <tr>\n",
       "      <th>Crosswalk</th>\n",
       "      <td>561</td>\n",
       "      <td>SHORT LINE</td>\n",
       "    </tr>\n",
       "    <tr>\n",
       "      <th>School Zone Line</th>\n",
       "      <td>4</td>\n",
       "      <td>SHORT LINE</td>\n",
       "    </tr>\n",
       "    <tr>\n",
       "      <th>Stop Line</th>\n",
       "      <td>843</td>\n",
       "      <td>SHORT LINE</td>\n",
       "    </tr>\n",
       "    <tr>\n",
       "      <th>Yield Line</th>\n",
       "      <td>37</td>\n",
       "      <td>SHORT LINE</td>\n",
       "    </tr>\n",
       "  </tbody>\n",
       "</table>\n",
       "</div>"
      ],
      "text/plain": [
       "                                SUM           WORK TYPE\n",
       "MARKINGS TYPE                                          \n",
       "Longline Miles                  140           LONG LINE\n",
       "Ahead word                        1  SPECIALTY MARKINGS\n",
       "Bicyclist symbol                319  SPECIALTY MARKINGS\n",
       "Bike arrow                      662  SPECIALTY MARKINGS\n",
       "Blue RPM                          2  SPECIALTY MARKINGS\n",
       "Chevron crosshatch               11  SPECIALTY MARKINGS\n",
       "Chevron symbol                  235  SPECIALTY MARKINGS\n",
       "Diagonal crosshatch             517  SPECIALTY MARKINGS\n",
       "Diamond symbol                    1  SPECIALTY MARKINGS\n",
       "Green launch pad                 10  SPECIALTY MARKINGS\n",
       "Green pad                       157  SPECIALTY MARKINGS\n",
       "Keep Clear word                   1  SPECIALTY MARKINGS\n",
       "Lane reduction arrow              5  SPECIALTY MARKINGS\n",
       "Left arrow                      320  SPECIALTY MARKINGS\n",
       "Left/Right arrow                  1  SPECIALTY MARKINGS\n",
       "Left/Right/Through arrow          2  SPECIALTY MARKINGS\n",
       "Left/Through arrow               18  SPECIALTY MARKINGS\n",
       "Merge word                        1  SPECIALTY MARKINGS\n",
       "Only word                       157  SPECIALTY MARKINGS\n",
       "Parking 'L'                      16  SPECIALTY MARKINGS\n",
       "Parking 'T'                      80  SPECIALTY MARKINGS\n",
       "Railroad Crossing (RxR) symbol   18  SPECIALTY MARKINGS\n",
       "Right arrow                      98  SPECIALTY MARKINGS\n",
       "Right/Through arrow              28  SPECIALTY MARKINGS\n",
       "Shared lane (Sharrow) symbol     59  SPECIALTY MARKINGS\n",
       "Speed hump marking              282  SPECIALTY MARKINGS\n",
       "Stop word                         2  SPECIALTY MARKINGS\n",
       "Through arrow                    29  SPECIALTY MARKINGS\n",
       "Yield word                        3  SPECIALTY MARKINGS\n",
       "Crosswalk                       561          SHORT LINE\n",
       "School Zone Line                  4          SHORT LINE\n",
       "Stop Line                       843          SHORT LINE\n",
       "Yield Line                       37          SHORT LINE"
      ]
     },
     "metadata": {},
     "output_type": "display_data"
    }
   ],
   "source": [
    "display(df)"
   ]
  },
  {
   "cell_type": "markdown",
   "metadata": {},
   "source": [
    "## Export to Excel"
   ]
  },
  {
   "cell_type": "code",
   "execution_count": 95,
   "metadata": {},
   "outputs": [],
   "source": [
    "writer = pd.ExcelWriter(FOLDER +r'\\2020_Markings_Counts.xlsx', engine='xlsxwriter')\n",
    "df.to_excel(writer, sheet_name = 'Markings Counts')\n",
    "wb = writer.book\n",
    "ws = writer.sheets['Markings Counts']\n",
    "ws.set_column('A:C',29)\n",
    "writer.save()"
   ]
  }
 ],
 "metadata": {
  "kernelspec": {
   "display_name": "Python [conda env:root] *",
   "language": "python",
   "name": "conda-root-py"
  },
  "language_info": {
   "codemirror_mode": {
    "name": "ipython",
    "version": 3
   },
   "file_extension": ".py",
   "mimetype": "text/x-python",
   "name": "python",
   "nbconvert_exporter": "python",
   "pygments_lexer": "ipython3",
   "version": "3.6.9"
  },
  "toc-showcode": false,
  "toc-showmarkdowntxt": false,
  "toc-showtags": false,
  "widgets": {
   "state": {
    "00c70a52936743e798d010a833ed05e2": {
     "views": [
      {
       "cell_index": 3
      }
     ]
    }
   },
   "version": "1.2.0"
  }
 },
 "nbformat": 4,
 "nbformat_minor": 4
}
