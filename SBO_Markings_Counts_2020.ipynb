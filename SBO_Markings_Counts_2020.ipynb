{
 "cells": [
  {
   "cell_type": "markdown",
   "metadata": {},
   "source": [
    "# SBO Markings Counts (2020)\n",
    "This notebook will demonstrate how to access attribute table from shapefiles in order to create a markings asset counts for each street segment\n",
    "\n",
    "<div style=\"text-align:center\"><img src='https://upload.wikimedia.org/wikipedia/commons/thumb/4/47/Road_resurfacing.jpg/1280px-Road_resurfacing.jpg'></div>\n",
    "\n",
    "## Introduction\n",
    "The purpose of this notebook is to estimate the total pavement markings asset counts over the next 5 years from ficscal year 2020 to 2024 using the markings asset feature layers from ArcGIS Online.\n",
    "\n",
    "<i><b>Disclaimer:</b> This product is for informational purposes and may not have been prepared for or be suitable for legal, engineering, or surveying purposes. No warranty is made by the City of Austin regarding specific accuracy or completeness.</i>"
   ]
  },
  {
   "cell_type": "markdown",
   "metadata": {},
   "source": [
    "## Imports\n",
    "The packages used for this project are:\n",
    "- [pandas](https://pandas.pydata.org/) to create dataframe of extracted table and transform the data\n",
    "- [geopandas](http://geopandas.org/mapping.html) to access attribute table of 5 year selected segments for SBO\n",
    "- [arcgis](https://esri.github.io/arcgis-python-api/apidoc/html/) to search for markings feature layer dataset"
   ]
  },
  {
   "cell_type": "code",
   "execution_count": 1,
   "metadata": {},
   "outputs": [],
   "source": [
    "import pandas as pd\n",
    "import geopandas\n",
    "\n",
    "from arcgis.gis import GIS\n",
    "from arcgis.features import FeatureLayer\n",
    "\n",
    "%run C:\\Users\\Govs\\Projects/FeatureLayerDataFrame.py"
   ]
  },
  {
   "cell_type": "markdown",
   "metadata": {},
   "source": [
    "## Constants\n"
   ]
  },
  {
   "cell_type": "code",
   "execution_count": 2,
   "metadata": {},
   "outputs": [
    {
     "name": "stdout",
     "output_type": "stream",
     "text": [
      "Please sign in to your GIS and paste the code that is obtained below.\n",
      "If a web browser does not automatically open, please navigate to the URL below yourself instead.\n",
      "Opening web browser to navigate to: https://austin.maps.arcgis.com/sharing/rest/oauth2/authorize?client_id=CrnxPfTcm7Y7ZGl7&response_type=code&expiration=-1&redirect_uri=urn%3Aietf%3Awg%3Aoauth%3A2.0%3Aoob\n"
     ]
    },
    {
     "name": "stdin",
     "output_type": "stream",
     "text": [
      "Enter code obtained on signing in using SAML:  ············································································································································································································································\n"
     ]
    }
   ],
   "source": [
    "gis = GIS(\"https://austin.maps.arcgis.com/home/index.html\", client_id='CrnxPfTcm7Y7ZGl7')"
   ]
  },
  {
   "cell_type": "code",
   "execution_count": 3,
   "metadata": {},
   "outputs": [],
   "source": [
    "FOLDER = r'G:\\ATD\\Signs_and_Markings\\MARKINGS\\Whereabouts WORK ORDERS\\SBO_2020-2024_Service_Plan'\n",
    "SHP = FOLDER + r'\\SBO_FiveYear_Service_Plan_09.shp'"
   ]
  },
  {
   "cell_type": "markdown",
   "metadata": {},
   "source": [
    "## Import Dataset\n",
    "Looking into the 2020 SBO Plans to extract Segment IDs and create list of segment IDs between bike projects and all streets"
   ]
  },
  {
   "cell_type": "code",
   "execution_count": 22,
   "metadata": {},
   "outputs": [],
   "source": [
    "austin = geopandas.read_file(SHP).query('YR == 2020').filter(['SEGMENT_ID']).reset_index(drop=True)\n",
    "segments = list(austin.SEGMENT_ID)\n",
    "# sql no filter for existing facility on bikes variable instead of \"\" blank parameter\n",
    "# \"AND EXISTING_FACILITY LIKE 'BIKELN%'\"\n",
    "bikes = FeatureLayerDataFrame('bicycle_facilities').query_segments('STREET_SEGMENT_ID',segments,\"\")\n",
    "bike_segments = list(bikes.STREET_SEGMENT_ID)"
   ]
  },
  {
   "cell_type": "markdown",
   "metadata": {},
   "source": [
    "Here it will print the number of bike lane segments affected for 2020"
   ]
  },
  {
   "cell_type": "code",
   "execution_count": 25,
   "metadata": {},
   "outputs": [
    {
     "name": "stdout",
     "output_type": "stream",
     "text": [
      "3095\n"
     ]
    }
   ],
   "source": [
    "print(len(segments))\n",
    "#print(len(bike_segments))\n",
    "bike_df = pd.DataFrame(bike_segments)\n",
    "#print(bike_segments)\n",
    "#writer = pd.ExcelWriter(FOLDER +r'\\bike_segments.xlsx', engine='xlsxwriter')\n",
    "#bike_df.to_excel(FOLDER +r'\\bike_segments.xlsx', sheet_name = 'Markings Counts')"
   ]
  },
  {
   "cell_type": "markdown",
   "metadata": {},
   "source": [
    "## Group and Append Datasets\n",
    "For specialty markings and short line, the sum is calculated by counting the number of rows grouped by markings type. For longline, the sum is calculated by adding the total linear miles where longline exists."
   ]
  },
  {
   "cell_type": "code",
   "execution_count": 144,
   "metadata": {},
   "outputs": [],
   "source": [
    "# Method to select segments\n",
    "def select_segments(seg_list,col_name):\n",
    "    sp = FeatureLayerDataFrame('markings_specialty_point').query_segments('SEGMENT_ID',seg_list,'')\n",
    "    sl = FeatureLayerDataFrame('markings_short_line').query_segments('SEGMENT_ID',seg_list,'')\n",
    "    sp_l = FeatureLayerDataFrame('markings_specialty_line').query_segments('SEGMENT_ID',seg_list,'')\n",
    "    lines = FeatureLayerDataFrame('atd_maintained_streets').query_segments('SEGMENT_ID',seg_list,'')\n",
    "    sp[col_name] = sl[col_name] = sp_l[col_name] = 1\n",
    "    \n",
    "    # Variables\n",
    "    repl = ['CROSSWALK','SCHOOL_ZONE_LINE','STOP_LINE','YIELD_LINE','Y','CURBS','DELINEATORS']\n",
    "    val = ['Crosswalk','School Zone Line','Stop Line','Yield Line', 'Longline Miles','Curbs','Delineators']\n",
    "\n",
    "    # Data Analysis\n",
    "    sp_counts = sp.groupby('SPECIALTY_POINT_TYPE').count()[[col_name]].reset_index(drop=False).rename(\n",
    "        columns={'SPECIALTY_POINT_TYPE':'MARKINGS TYPE'})\n",
    "    sl_counts = sl.groupby('SHORT_LINE_TYPE').count()[[col_name]].reset_index(drop=False).rename(\n",
    "        columns={'SHORT_LINE_TYPE':'MARKINGS TYPE'})\n",
    "    sp_l_counts = sp_l.groupby('SPECIALTY_LINE_TYPE').count()[[col_name]].reset_index(drop=False).rename(\n",
    "        columns={'SPECIALTY_LINE_TYPE':'MARKINGS TYPE'})\n",
    "    lines_counts = lines.groupby('LONGLINE').sum()[['LINEAR_MILES']].reset_index(drop=False).query(\"LONGLINE == 'Y'\").rename(\n",
    "        columns={'LONGLINE':'MARKINGS TYPE','LINEAR_MILES':col_name})\n",
    "\n",
    "    # Appending\n",
    "    df = lines_counts.append([sp_counts,sl_counts,sp_l_counts],sort=True).replace(repl,val).set_index('MARKINGS TYPE')\n",
    "    df[col_name] = df[col_name].apply(int)\n",
    "    return df"
   ]
  },
  {
   "cell_type": "markdown",
   "metadata": {},
   "source": [
    "Here we create two columns. One including all streets, and another that only includes bike lanes."
   ]
  },
  {
   "cell_type": "code",
   "execution_count": 145,
   "metadata": {},
   "outputs": [],
   "source": [
    "df = select_segments(segments,'Sum of All')\n",
    "df_bikes = select_segments(bike_segments,'Sum of Bike Lane')"
   ]
  },
  {
   "cell_type": "markdown",
   "metadata": {},
   "source": [
    "## Display Markings Count Table\n",
    "The final dataset will include sum of all, sum of bike lanes, and sum without bike lanes. This is to notify Active Transportation of any operations from SBO that would require them to make plans"
   ]
  },
  {
   "cell_type": "code",
   "execution_count": 151,
   "metadata": {},
   "outputs": [],
   "source": [
    "df_final = df.merge(df_bikes,on='MARKINGS TYPE')\n",
    "df_final['Sum without Bike Lanes'] = df_final[\"Sum of All\"] - df_final[\"Sum of Bike Lane\"]"
   ]
  },
  {
   "cell_type": "code",
   "execution_count": 152,
   "metadata": {},
   "outputs": [
    {
     "data": {
      "text/html": [
       "<div>\n",
       "<style scoped>\n",
       "    .dataframe tbody tr th:only-of-type {\n",
       "        vertical-align: middle;\n",
       "    }\n",
       "\n",
       "    .dataframe tbody tr th {\n",
       "        vertical-align: top;\n",
       "    }\n",
       "\n",
       "    .dataframe thead th {\n",
       "        text-align: right;\n",
       "    }\n",
       "</style>\n",
       "<table border=\"1\" class=\"dataframe\">\n",
       "  <thead>\n",
       "    <tr style=\"text-align: right;\">\n",
       "      <th></th>\n",
       "      <th>Sum of All</th>\n",
       "      <th>Sum of Bike Lane</th>\n",
       "      <th>Sum without Bike Lanes</th>\n",
       "    </tr>\n",
       "    <tr>\n",
       "      <th>MARKINGS TYPE</th>\n",
       "      <th></th>\n",
       "      <th></th>\n",
       "      <th></th>\n",
       "    </tr>\n",
       "  </thead>\n",
       "  <tbody>\n",
       "    <tr>\n",
       "      <td>Longline Miles</td>\n",
       "      <td>140</td>\n",
       "      <td>17</td>\n",
       "      <td>123</td>\n",
       "    </tr>\n",
       "    <tr>\n",
       "      <td>Bicyclist symbol</td>\n",
       "      <td>319</td>\n",
       "      <td>190</td>\n",
       "      <td>129</td>\n",
       "    </tr>\n",
       "    <tr>\n",
       "      <td>Bike arrow</td>\n",
       "      <td>662</td>\n",
       "      <td>384</td>\n",
       "      <td>278</td>\n",
       "    </tr>\n",
       "    <tr>\n",
       "      <td>Chevron symbol</td>\n",
       "      <td>239</td>\n",
       "      <td>88</td>\n",
       "      <td>151</td>\n",
       "    </tr>\n",
       "    <tr>\n",
       "      <td>Diagonal crosshatch</td>\n",
       "      <td>522</td>\n",
       "      <td>313</td>\n",
       "      <td>209</td>\n",
       "    </tr>\n",
       "    <tr>\n",
       "      <td>Green launch pad</td>\n",
       "      <td>10</td>\n",
       "      <td>1</td>\n",
       "      <td>9</td>\n",
       "    </tr>\n",
       "    <tr>\n",
       "      <td>Green pad</td>\n",
       "      <td>157</td>\n",
       "      <td>37</td>\n",
       "      <td>120</td>\n",
       "    </tr>\n",
       "    <tr>\n",
       "      <td>Lane reduction arrow</td>\n",
       "      <td>5</td>\n",
       "      <td>5</td>\n",
       "      <td>0</td>\n",
       "    </tr>\n",
       "    <tr>\n",
       "      <td>Left arrow</td>\n",
       "      <td>318</td>\n",
       "      <td>101</td>\n",
       "      <td>217</td>\n",
       "    </tr>\n",
       "    <tr>\n",
       "      <td>Left/Through arrow</td>\n",
       "      <td>18</td>\n",
       "      <td>3</td>\n",
       "      <td>15</td>\n",
       "    </tr>\n",
       "    <tr>\n",
       "      <td>Merge word</td>\n",
       "      <td>1</td>\n",
       "      <td>1</td>\n",
       "      <td>0</td>\n",
       "    </tr>\n",
       "    <tr>\n",
       "      <td>Only word</td>\n",
       "      <td>157</td>\n",
       "      <td>47</td>\n",
       "      <td>110</td>\n",
       "    </tr>\n",
       "    <tr>\n",
       "      <td>Railroad Crossing (RxR) symbol</td>\n",
       "      <td>18</td>\n",
       "      <td>5</td>\n",
       "      <td>13</td>\n",
       "    </tr>\n",
       "    <tr>\n",
       "      <td>Right arrow</td>\n",
       "      <td>98</td>\n",
       "      <td>23</td>\n",
       "      <td>75</td>\n",
       "    </tr>\n",
       "    <tr>\n",
       "      <td>Right/Through arrow</td>\n",
       "      <td>28</td>\n",
       "      <td>4</td>\n",
       "      <td>24</td>\n",
       "    </tr>\n",
       "    <tr>\n",
       "      <td>Shared lane (Sharrow) symbol</td>\n",
       "      <td>59</td>\n",
       "      <td>13</td>\n",
       "      <td>46</td>\n",
       "    </tr>\n",
       "    <tr>\n",
       "      <td>Speed hump marking</td>\n",
       "      <td>282</td>\n",
       "      <td>4</td>\n",
       "      <td>278</td>\n",
       "    </tr>\n",
       "    <tr>\n",
       "      <td>Through arrow</td>\n",
       "      <td>29</td>\n",
       "      <td>6</td>\n",
       "      <td>23</td>\n",
       "    </tr>\n",
       "    <tr>\n",
       "      <td>Crosswalk</td>\n",
       "      <td>561</td>\n",
       "      <td>89</td>\n",
       "      <td>472</td>\n",
       "    </tr>\n",
       "    <tr>\n",
       "      <td>School Zone Line</td>\n",
       "      <td>4</td>\n",
       "      <td>2</td>\n",
       "      <td>2</td>\n",
       "    </tr>\n",
       "    <tr>\n",
       "      <td>Stop Line</td>\n",
       "      <td>847</td>\n",
       "      <td>79</td>\n",
       "      <td>768</td>\n",
       "    </tr>\n",
       "    <tr>\n",
       "      <td>Yield Line</td>\n",
       "      <td>37</td>\n",
       "      <td>12</td>\n",
       "      <td>25</td>\n",
       "    </tr>\n",
       "    <tr>\n",
       "      <td>Curbs</td>\n",
       "      <td>26</td>\n",
       "      <td>3</td>\n",
       "      <td>23</td>\n",
       "    </tr>\n",
       "    <tr>\n",
       "      <td>Delineators</td>\n",
       "      <td>11</td>\n",
       "      <td>3</td>\n",
       "      <td>8</td>\n",
       "    </tr>\n",
       "  </tbody>\n",
       "</table>\n",
       "</div>"
      ],
      "text/plain": [
       "                                Sum of All  Sum of Bike Lane  \\\n",
       "MARKINGS TYPE                                                  \n",
       "Longline Miles                         140                17   \n",
       "Bicyclist symbol                       319               190   \n",
       "Bike arrow                             662               384   \n",
       "Chevron symbol                         239                88   \n",
       "Diagonal crosshatch                    522               313   \n",
       "Green launch pad                        10                 1   \n",
       "Green pad                              157                37   \n",
       "Lane reduction arrow                     5                 5   \n",
       "Left arrow                             318               101   \n",
       "Left/Through arrow                      18                 3   \n",
       "Merge word                               1                 1   \n",
       "Only word                              157                47   \n",
       "Railroad Crossing (RxR) symbol          18                 5   \n",
       "Right arrow                             98                23   \n",
       "Right/Through arrow                     28                 4   \n",
       "Shared lane (Sharrow) symbol            59                13   \n",
       "Speed hump marking                     282                 4   \n",
       "Through arrow                           29                 6   \n",
       "Crosswalk                              561                89   \n",
       "School Zone Line                         4                 2   \n",
       "Stop Line                              847                79   \n",
       "Yield Line                              37                12   \n",
       "Curbs                                   26                 3   \n",
       "Delineators                             11                 3   \n",
       "\n",
       "                                Sum without Bike Lanes  \n",
       "MARKINGS TYPE                                           \n",
       "Longline Miles                                     123  \n",
       "Bicyclist symbol                                   129  \n",
       "Bike arrow                                         278  \n",
       "Chevron symbol                                     151  \n",
       "Diagonal crosshatch                                209  \n",
       "Green launch pad                                     9  \n",
       "Green pad                                          120  \n",
       "Lane reduction arrow                                 0  \n",
       "Left arrow                                         217  \n",
       "Left/Through arrow                                  15  \n",
       "Merge word                                           0  \n",
       "Only word                                          110  \n",
       "Railroad Crossing (RxR) symbol                      13  \n",
       "Right arrow                                         75  \n",
       "Right/Through arrow                                 24  \n",
       "Shared lane (Sharrow) symbol                        46  \n",
       "Speed hump marking                                 278  \n",
       "Through arrow                                       23  \n",
       "Crosswalk                                          472  \n",
       "School Zone Line                                     2  \n",
       "Stop Line                                          768  \n",
       "Yield Line                                          25  \n",
       "Curbs                                               23  \n",
       "Delineators                                          8  "
      ]
     },
     "metadata": {},
     "output_type": "display_data"
    }
   ],
   "source": [
    "display(df_final)"
   ]
  },
  {
   "cell_type": "markdown",
   "metadata": {},
   "source": [
    "## Export to Excel"
   ]
  },
  {
   "cell_type": "code",
   "execution_count": 153,
   "metadata": {},
   "outputs": [],
   "source": [
    "writer = pd.ExcelWriter(FOLDER +r'\\2020_Markings_Counts.xlsx', engine='xlsxwriter')\n",
    "df_final.to_excel(writer, sheet_name = 'Markings Counts')\n",
    "wb = writer.book\n",
    "ws = writer.sheets['Markings Counts']\n",
    "ws.set_column('A:D',29)\n",
    "writer.save()"
   ]
  }
 ],
 "metadata": {
  "kernelspec": {
   "display_name": "Python [conda env:root] *",
   "language": "python",
   "name": "conda-root-py"
  },
  "language_info": {
   "codemirror_mode": {
    "name": "ipython",
    "version": 3
   },
   "file_extension": ".py",
   "mimetype": "text/x-python",
   "name": "python",
   "nbconvert_exporter": "python",
   "pygments_lexer": "ipython3",
   "version": "3.6.9"
  },
  "toc-showcode": false,
  "toc-showmarkdowntxt": false,
  "toc-showtags": false,
  "widgets": {
   "state": {
    "00c70a52936743e798d010a833ed05e2": {
     "views": [
      {
       "cell_index": 3
      }
     ]
    }
   },
   "version": "1.2.0"
  }
 },
 "nbformat": 4,
 "nbformat_minor": 4
}
