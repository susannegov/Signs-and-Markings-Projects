{
 "cells": [
  {
   "cell_type": "markdown",
   "metadata": {},
   "source": [
    "# Roadway Maintenance Agreement"
   ]
  },
  {
   "cell_type": "code",
   "execution_count": 5,
   "metadata": {},
   "outputs": [],
   "source": [
    "import csv\n",
    "from collections import OrderedDict\n",
    "from arcgis.gis import GIS\n",
    "import pandas as pd\n",
    "from arcgis.features import SpatialDataFrame\n",
    "from openpyxl import load_workbook\n",
    "from openpyxl.styles import PatternFill, Border, Side, Alignment, Protection, Font\n",
    "from openpyxl.utils import get_column_letter\n",
    "import xlsxwriter\n",
    "import re\n",
    "from itertools import islice"
   ]
  },
  {
   "cell_type": "code",
   "execution_count": 6,
   "metadata": {},
   "outputs": [],
   "source": [
    "def tableFormat(name,sub,q,t,st):\n",
    "    temp = sub.query(q).filter(items=[t,\"SEGMENT_ID\",st]).groupby([t,st]).count()\n",
    "    temp = temp.rename(columns={'SEGMENT_ID':'Total'}).T\n",
    "    temp[\"Street\"] = name\n",
    "    return temp"
   ]
  },
  {
   "cell_type": "code",
   "execution_count": 7,
   "metadata": {},
   "outputs": [],
   "source": [
    "def createSDF(title):\n",
    "    search= gis.content.search(query=\"title:\" + title,item_type=\"Feature Layer\")\n",
    "    item = search[0]\n",
    "    layer = item.layers[0]\n",
    "    sdf = SpatialDataFrame.from_layer(layer)\n",
    "    sdf = sdf.fillna(0)\n",
    "    return sdf"
   ]
  },
  {
   "cell_type": "code",
   "execution_count": 8,
   "metadata": {},
   "outputs": [],
   "source": [
    "def renameCols(df):\n",
    "    renameList = ['Street','Segment ID List', \"Continental Crosswalk\",\"Transverse Crosswalk\",\"Stop Line\",\"Yield line\",\"School Zone Line\",(2, 6),(2, 3),(2, 2), (4, 4), (1, 4), (3, 4), (2, 7), (4, 5),(2, 8), (1, 11), (4, 1), (2, 11), (3, 3)]\n",
    "    arrow = [\"Through\",\"Left \",\"Right\",\"Left and Right\",\"Left, Right and Through\",\"Left and Through\", \"Right and Through\",\"U-turn\",\"Lane reduction\", \"Wrong way\",\"Bike\"]\n",
    "    other = [\"Green pad\", \"Green launch pad\", \"Speed hump markings\",\"Diagonal crosshatch\", \"Chevron crosshatch\"]\n",
    "    parking = [\"Parking 'L'\", \"Parking 'T'\", \"Parking stall line\", \"Handicap symbol\"]\n",
    "    symbol = [\"Bicycle (Bike)\",\"Shared lane (Sharrow)\", \"Bicyclist\",\"Railroad Crossing (RxR)\", \"Chevron\",\"Pedestrian\", \"Diamond\"]\n",
    "    word = [\"Stop\", \"Yield\", \"Ahead\", \"Only\", \"Merge\",\"Ped\", \"X-ing\",\"Bus Only\", \"Keep Clear\", \"Do Not Block\", \"Ped X-ing\"]\n",
    "    t =['word','arrow','symbol','other','parking']\n",
    "    st = [word,arrow,symbol,other,parking]\n",
    "    index = 0\n",
    "    for i in renameList:\n",
    "        if isinstance(i,tuple):\n",
    "            x = list(i)\n",
    "            temp = st[x[0] - 1][x[1] - 1] + \" \" + t[x[0] - 1]\n",
    "            renameList[index] = temp\n",
    "        index += 1\n",
    "    return renameList"
   ]
  },
  {
   "cell_type": "code",
   "execution_count": 9,
   "metadata": {},
   "outputs": [],
   "source": [
    "def excelCreate(total,file_name,condition):\n",
    "    if condition:\n",
    "        writer = pd.ExcelWriter(file_path + file_name)\n",
    "        total.to_excel(writer,'Total Assets')\n",
    "        writer.save()"
   ]
  },
  {
   "cell_type": "code",
   "execution_count": 10,
   "metadata": {},
   "outputs": [
    {
     "name": "stderr",
     "output_type": "stream",
     "text": [
      "C:\\Users\\Govs\\Miniconda\\envs\\arc104\\lib\\site-packages\\pandas\\core\\reshape\\merge.py:544: UserWarning: merging between different levels can give an unintended result (1 levels on the left, 2 on the right)\n",
      "  warnings.warn(msg, UserWarning)\n"
     ]
    }
   ],
   "source": [
    "file_path = r\"G:\\ATD\\Arterial Management\\TxDOT MMA revisions - 2019\"\n",
    "in_file = r\"\\TxDOT_Roadways_Markings.csv\"\n",
    "out_file = r\"\\Markings_Asset_Total_TxDOT.xlsx\"\n",
    "gis = GIS(\"http://austin.maps.arcgis.com/home/index.html\")\n",
    "\n",
    "# Create data frames\n",
    "roadways = pd.read_csv(file_path + in_file)\n",
    "shortline = createSDF(\"markings_short_line\")\n",
    "specialtypoint = createSDF(\"markings_specialty_point\")\n",
    "\n",
    "# Create table of roadway\n",
    "table = roadways.filter(items=[\"Location ID\",\"Street\",\"Use\",\"Segment ID List\"]).query(\"Use == 'Y'\")\n",
    "table[\"Segment ID List\"] = table[\"Segment ID List\"].astype(str).apply(lambda x: x.rstrip().split(\",\"))\n",
    "table = table.groupby([\"Location ID\"]).agg({\"Street\": 'first',\"Segment ID List\": 'sum'})\n",
    "table[\"Segment ID List\"] = table[\"Segment ID List\"].apply(set)\n",
    "table = table.reindex(columns=['Street','Segment ID List'])\n",
    "\n",
    "results = []\n",
    "for index, row in table.iterrows():\n",
    "    temp = list(table.iloc[index - 1][\"Segment ID List\"])\n",
    "    name = table.iloc[index - 1][\"Street\"]\n",
    "    q = \"SEGMENT_ID == \" + str(temp)\n",
    "    tableSL = tableFormat(name,shortline,q,\"SHORT_LINE_TYPE\",\"SUBTYPE\")\n",
    "    tableSP = tableFormat(name,specialtypoint,q,\"SPECIALTY_POINT_TYPE\",\"SPECIALTY_POINT_SUB_TYPE\")\n",
    "    result = table.merge(tableSL,on='Street').merge(tableSP,on='Street').iloc[0]\n",
    "    results.append(dict(result))\n",
    "total = pd.DataFrame(results)\n",
    "colIndex = ['Street','Segment ID List', ('CROSSWALK', 'CONTINENTAL'),('CROSSWALK', 'TRANSVERSE'),('STOP_LINE', 0),('YIELD_LINE', 0),('SCHOOL_ZONE_LINE',0),(2, 6),(2, 3),(2, 2), (4, 4), (1, 4), (3, 4), (2, 7), (4, 5),(2, 8), (1, 11), (4, 1), (2, 11), (3, 3)]\n",
    "total = total.reindex(columns=colIndex).fillna(0).astype(int,errors='ignore')\n",
    "final = dict(zip(colIndex,renameCols(total)))\n",
    "total = total.rename(columns=final).T"
   ]
  },
  {
   "cell_type": "code",
   "execution_count": 65,
   "metadata": {},
   "outputs": [],
   "source": [
    "excelCreate(total,out_file,True)\n",
    "wb = load_workbook(file_path + out_file)\n",
    "ws1 = wb.active\n",
    "ws1.delete_rows(3)\n",
    "ws1.delete_rows(1)\n",
    "ws3 = wb.create_sheet('Unit Cost Table')\n",
    "with open(file_path + r'\\Markings_Costs.csv') as f:\n",
    "    reader = csv.reader(f, delimiter=',')\n",
    "    for row in reader:\n",
    "        ws3.append(row)\n",
    "ws3.column_dimensions['A'].width = 36"
   ]
  },
  {
   "cell_type": "code",
   "execution_count": 66,
   "metadata": {},
   "outputs": [],
   "source": [
    "# Column 1 formatting\n",
    "ws1.column_dimensions['A'].width = 30\n",
    "ws1.row_dimensions[1].height = 110\n",
    "\n",
    "v = 1\n",
    "for cell in ws1.iter_rows():\n",
    "    cell[0].alignment = Alignment(horizontal='right',wrapText=True)  \n",
    "    cell[0].fill = PatternFill(\"solid\", fgColor=\"1985A1\")\n",
    "    cell[0].font = Font(name= 'Helvetica',size=12,color='ffffff')\n",
    "    cell[0].border = Border(left = Side(border_style='thin',color='ffffff'), right = Side(border_style='thin',color='ffffff')\n",
    "                           ,top = Side(border_style='thin',color='ffffff'), bottom = Side(border_style='thin',color='ffffff'))\n",
    "    for i in range(1,15):\n",
    "        x = get_column_letter(i + 1)\n",
    "        ws1.column_dimensions[x].width = 13\n",
    "        cell[i].alignment = Alignment(horizontal='center',wrapText=True)  \n",
    "        cell[i].fill = PatternFill(\"solid\", fgColor=\"DCDCDD\")\n",
    "        cell[i].font = Font(name= 'Helvetica',size=12,color='46494c')\n",
    "        if cell[i].value is 0:\n",
    "            cell[i].font = Font(name= 'Helvetica',size=12,color='ff0000',bold=True)\n",
    "        cell[i].border = Border(left = Side(border_style='thin',color='ffffff'), right = Side(border_style='thin',color='ffffff')\n",
    "                           ,top = Side(border_style='thin',color='ffffff'), bottom = Side(border_style='thin',color='ffffff'))\n",
    "    cell[14].fill = PatternFill(\"solid\", fgColor=\"c5c3c6\")\n",
    "    cell[14].value = '=SUM(B' + str(v) + ':N' + str(v) + ')'\n",
    "    cell[14].font = Font(name= 'Helvetica',size=12,color='46494c',bold=True)\n",
    "    v += 1\n",
    "for col in ws1.iter_cols():\n",
    "    col[0].fill = PatternFill(\"solid\", fgColor=\"1985A1\")\n",
    "    col[0].font = Font(name= 'Helvetica',size=12,color='ffffff')\n",
    "\n",
    "ws1[\"O1\"].value = 'Total Markings'\n",
    "ws1[\"O1\"].fill = PatternFill(\"solid\", fgColor=\"4c5c68\")\n",
    "ws1[\"O1\"].alignment = Alignment(horizontal='center',wrapText=True)\n",
    "\n",
    "ws2 = wb.copy_worksheet(ws1)\n",
    "ws2.title = 'Total Material Costs'\n",
    "\n",
    "wb.save(file_path + out_file)"
   ]
  },
  {
   "cell_type": "code",
   "execution_count": 67,
   "metadata": {},
   "outputs": [],
   "source": [
    "v = 2\n",
    "for cell in islice(ws2.iter_rows(),1,None):\n",
    "    for i in range(1,15):\n",
    "        x = get_column_letter(i + 1)\n",
    "        ws2.column_dimensions[x].width = 13 \n",
    "        cell[i].alignment = Alignment(horizontal='center',wrapText=True)  \n",
    "        cell[i].fill = PatternFill(\"solid\", fgColor=\"DCDCDD\")\n",
    "        cell[i].font = Font(name= 'Helvetica',size=12,color='46494c')\n",
    "        cell[i].value = \"=VLOOKUP($A\" + str(v) + \",'Unit Cost Table'!$A$2:$B$19,2,FALSE) * 'Total Assets'!\" + x + str(v)\n",
    "        if cell[i].internal_value is 0:\n",
    "            cell[i].font = Font(name= 'Helvetica',size=12,color='ff0000',bold=True)\n",
    "        cell[i].number_format = '$#,##0.00'\n",
    "    cell[14].fill = PatternFill(\"solid\", fgColor=\"c5c3c6\")\n",
    "    cell[14].font = Font(name= 'Helvetica',size=12,color='46494c',bold=True)\n",
    "    cell[14].value = '=SUM(B' + str(v) + ':N' + str(v) + ')'\n",
    "    v += 1\n",
    "wb.save(file_path + out_file)"
   ]
  },
  {
   "cell_type": "code",
   "execution_count": 68,
   "metadata": {},
   "outputs": [],
   "source": [
    "ws4 = wb.copy_worksheet(ws2)\n",
    "ws4.title = 'Total Material & Labor Costs'\n",
    "v = 2\n",
    "for cell in islice(ws4.iter_rows(),1,None):\n",
    "    for i in range(1,15):\n",
    "        x = get_column_letter(i + 1)\n",
    "        ws4.column_dimensions[x].width = 13\n",
    "        cell[i].alignment = Alignment(horizontal='center',wrapText=True)  \n",
    "        cell[i].fill = PatternFill(\"solid\", fgColor=\"DCDCDD\")\n",
    "        cell[i].font = Font(name= 'Helvetica',size=12,color='46494c')\n",
    "        cell[i].value = \"=VLOOKUP($A\" + str(v) + \",'Unit Cost Table'!$A$2:$F$19,6,FALSE) * 'Total Assets'!\" + x + str(v)\n",
    "        if cell[i].internal_value is 0:\n",
    "            cell[i].font = Font(name= 'Helvetica',size=12,color='ff0000',bold=True)\n",
    "        cell[i].number_format = '$#,##0.00'\n",
    "    cell[14].fill = PatternFill(\"solid\", fgColor=\"c5c3c6\")\n",
    "    cell[14].font = Font(name= 'Helvetica',size=12,color='46494c',bold=True)\n",
    "    cell[14].value = '=SUM(B' + str(v) + ':N' + str(v) + ')'\n",
    "    v += 1\n",
    "wb.save(file_path + out_file)"
   ]
  },
  {
   "cell_type": "code",
   "execution_count": 69,
   "metadata": {},
   "outputs": [],
   "source": [
    "ws2[\"A20\"].fill = PatternFill(\"solid\", fgColor=\"4c5c68\")\n",
    "ws2[\"A20\"].border = Border(left = Side(border_style='thin',color='ffffff'), right = Side(border_style='thin',color='ffffff')\n",
    "                           ,top = Side(border_style='thin',color='ffffff'), bottom = Side(border_style='thin',color='ffffff'))\n",
    "ws2[\"A20\"].alignment = Alignment(horizontal='right',wrapText=True)\n",
    "ws2[\"A20\"].font = Font(name= 'Helvetica',size=12,color='ffffff',bold=True)\n",
    "ws4[\"A20\"].border = Border(left = Side(border_style='thin',color='ffffff'), right = Side(border_style='thin',color='ffffff')\n",
    "                           ,top = Side(border_style='thin',color='ffffff'), bottom = Side(border_style='thin',color='ffffff'))\n",
    "ws4[\"A20\"].fill = PatternFill(\"solid\", fgColor=\"4c5c68\")\n",
    "ws4[\"A20\"].alignment = Alignment(horizontal='right',wrapText=True)\n",
    "ws4[\"A20\"].font = Font(name= 'Helvetica',size=12,color='ffffff',bold=True)\n",
    "ws2[\"O1\"].value = 'Total Costs per Marking'\n",
    "ws2[\"O1\"].font = Font(name= 'Helvetica',size=12,color='ffffff',bold=True)\n",
    "ws2[\"A20\"].value = \"Total Costs per Roadway\"\n",
    "ws4[\"O1\"].font = Font(name= 'Helvetica',size=12,color='ffffff',bold=True)\n",
    "ws4[\"O1\"].value = 'Total Costs per Marking & Labor'\n",
    "ws4[\"A20\"].value = \"Total Costs per Roadway\"\n",
    "\n",
    "y = 2\n",
    "for cell in islice(ws2.iter_cols(),1,None):\n",
    "    x = get_column_letter(y)\n",
    "    cell[19].alignment = Alignment(horizontal='center',wrapText=True)\n",
    "    cell[19].fill = PatternFill(\"solid\", fgColor=\"c5c3c6\")\n",
    "    cell[19].font = Font(name= 'Helvetica',size=12,color='46494c',bold=True)\n",
    "    cell[19].value = \"=SUM(\" + x + \"2:\" + x + \"19)\"\n",
    "    cell[19].border = Border(left = Side(border_style='thin',color='ffffff'), right = Side(border_style='thin',color='ffffff')\n",
    "                           ,top = Side(border_style='thin',color='ffffff'), bottom = Side(border_style='thin',color='ffffff'))\n",
    "    cell[19].number_format = '$#,##0.00' \n",
    "    y += 1\n",
    "y = 2\n",
    "for cell in islice(ws4.iter_cols(),1,None):\n",
    "    x = get_column_letter(y)\n",
    "    cell[19].alignment = Alignment(horizontal='center',wrapText=True)\n",
    "    cell[19].fill = PatternFill(\"solid\", fgColor=\"c5c3c6\")\n",
    "    cell[19].font = Font(name= 'Helvetica',size=12,color='46494c',bold=True)\n",
    "    cell[19].value = \"=SUM(\" + x + \"2:\" + x + \"19)\"\n",
    "    cell[19].border = Border(left = Side(border_style='thin',color='ffffff'), right = Side(border_style='thin',color='ffffff')\n",
    "                           ,top = Side(border_style='thin',color='ffffff'), bottom = Side(border_style='thin',color='ffffff'))\n",
    "    cell[19].number_format = '$#,##0.00' \n",
    "    y += 1\n",
    "ws2[\"O20\"].fill = PatternFill(\"solid\", fgColor=\"4c5c68\")\n",
    "ws2[\"O20\"].font = Font(name= 'Helvetica',size=12,color='ffffff',bold=True)\n",
    "ws4[\"O20\"].fill = PatternFill(\"solid\", fgColor=\"4c5c68\")\n",
    "ws4[\"O20\"].font = Font(name= 'Helvetica',size=12,color='ffffff',bold=True)\n",
    "wb.save(file_path + out_file)"
   ]
  },
  {
   "cell_type": "code",
   "execution_count": 70,
   "metadata": {},
   "outputs": [],
   "source": [
    "#Reorder the sheets in the workbook\n",
    "wb.active = 0\n",
    "myorder = [2,3,0,1]\n",
    "wb._sheets=[wb._sheets[i] for i in myorder]\n",
    "wb._sheets.sort(key=lambda ws: ws.title)\n",
    "wb.save(file_path + out_file)"
   ]
  },
  {
   "cell_type": "code",
   "execution_count": null,
   "metadata": {},
   "outputs": [],
   "source": []
  }
 ],
 "metadata": {
  "kernelspec": {
   "display_name": "Python [conda env:arc104]",
   "language": "python",
   "name": "conda-env-arc104-py"
  },
  "language_info": {
   "codemirror_mode": {
    "name": "ipython",
    "version": 3
   },
   "file_extension": ".py",
   "mimetype": "text/x-python",
   "name": "python",
   "nbconvert_exporter": "python",
   "pygments_lexer": "ipython3",
   "version": "3.5.6"
  }
 },
 "nbformat": 4,
 "nbformat_minor": 2
}
