{
 "cells": [
  {
   "cell_type": "markdown",
   "metadata": {},
   "source": [
    "# Roadway Maintenance Agreement"
   ]
  },
  {
   "cell_type": "markdown",
   "metadata": {},
   "source": [
    "## Imports"
   ]
  },
  {
   "cell_type": "code",
   "execution_count": 1,
   "metadata": {},
   "outputs": [],
   "source": [
    "import csv\n",
    "import pandas as pd\n",
    "from openpyxl import load_workbook\n",
    "from openpyxl.styles import PatternFill, Border, Side, Alignment, Protection, Font\n",
    "from openpyxl.utils import get_column_letter\n",
    "import xlsxwriter\n",
    "import re\n",
    "%run C:\\Users\\Govs\\Projects/FeatureLayerDataFrame.py"
   ]
  },
  {
   "cell_type": "markdown",
   "metadata": {},
   "source": [
    "## File Paths"
   ]
  },
  {
   "cell_type": "code",
   "execution_count": 2,
   "metadata": {},
   "outputs": [],
   "source": [
    "file_path = r\"G:\\ATD\\Arterial Management\\TxDOT MMA revisions - 2019\"\n",
    "in_file = r\"\\TxDOT_Roadways_Markings.csv\"\n",
    "out_file = r\"\\Markings_Asset_Total_TxDOT_update.xlsx\""
   ]
  },
  {
   "cell_type": "markdown",
   "metadata": {},
   "source": [
    "## Methods"
   ]
  },
  {
   "cell_type": "code",
   "execution_count": 305,
   "metadata": {},
   "outputs": [],
   "source": [
    "def count_assets(df,x,name):\n",
    "    y = [\"SEGMENT_ID\"]\n",
    "    y.extend(x)\n",
    "    temp = df.filter(items=y).groupby(x).count().T\n",
    "    temp['Street'] = name\n",
    "    return temp\n",
    "\n",
    "def cost_sheets(worksheet,title,total,col):\n",
    "    worksheet.title = title\n",
    "    worksheet[\"A22\"].value = \"Total Costs per Roadway\"\n",
    "    worksheet[\"O1\"].value = total\n",
    "    for i in range(2,x_end + 1):\n",
    "        x = get_column_letter(i)\n",
    "        worksheet[\"{}22\".format(x)].number_format = num\n",
    "        worksheet[\"{}22\".format(x)].value = '=SUM({0}2:{0}21)'.format(x)\n",
    "        for j in range(2,y_end):\n",
    "            worksheet[\"{0}{1}\".format(x,j)].value = \"=VLOOKUP($A{0},'Unit Cost Table'!$A$2:$F$23,{2},FALSE) * 'Total Assets'!{1}{0}\".format(j,x,col)\n",
    "            worksheet[\"O{}\".format(j)].number_format = num\n",
    "            worksheet[\"{0}{1}\".format(x,j)].number_format = num\n",
    "    worksheet[\"O{}\".format(y_end)].number_format = num"
   ]
  },
  {
   "cell_type": "markdown",
   "metadata": {},
   "source": [
    "## Setup Tables"
   ]
  },
  {
   "cell_type": "code",
   "execution_count": 4,
   "metadata": {},
   "outputs": [],
   "source": [
    "roadways = pd.read_csv(file_path + in_file)\n",
    "table = roadways.filter(items=[\"Location ID\",\"Street\",\"Use\",\"Segment ID List\"]).query(\"Use == 'Y'\")\n",
    "table[\"Segment ID List\"] = table[\"Segment ID List\"].astype(str).apply(lambda x: x.rstrip().split(\",\"))\n",
    "table = table.groupby([\"Location ID\"]).agg({\"Street\": 'first',\"Segment ID List\": 'sum'})\n",
    "table[\"Segment ID List\"] = table[\"Segment ID List\"].apply(tuple)\n",
    "table = table.reindex(columns=['Street','Segment ID List'])"
   ]
  },
  {
   "cell_type": "code",
   "execution_count": null,
   "metadata": {},
   "outputs": [],
   "source": [
    "results = []\n",
    "for index, row in table.iterrows():\n",
    "    segments = list(table['Segment ID List'])[index - 1]\n",
    "    name = table.iloc[index - 1][\"Street\"]\n",
    "    sl = FeatureLayerDataFrame('markings_short_line').query_segments('SEGMENT_ID',segments,\"\")\n",
    "    sp = FeatureLayerDataFrame('markings_specialty_point').query_segments('SEGMENT_ID',segments,\"\")\n",
    "    if sl is None and sp is None:\n",
    "        continue\n",
    "    sl = count_assets(sl,[\"SHORT_LINE_TYPE\",\"SUBTYPE\"],name)\n",
    "    sp = count_assets(sp,[\"SPECIALTY_POINT_TYPE\"],name)\n",
    "    result = table.merge(sl,on='Street').merge(sp,on='Street').iloc[0]\n",
    "    results.append(dict(result))"
   ]
  },
  {
   "cell_type": "code",
   "execution_count": 6,
   "metadata": {},
   "outputs": [],
   "source": [
    "total = pd.DataFrame(results)\n",
    "total.rename(columns={('CROSSWALK', 'TRANSVERSE'):'Transverse Crosswalk',('CROSSWALK', 'CONTINENTAL'):'Continental Crosswalk',\n",
    "                      ('STOP_LINE', '<Null>'):'Stop Line'},inplace=True)\n",
    "total.set_index(['Street'],inplace=True)\n",
    "total = total.fillna(0).astype(int,errors='ignore').T\n",
    "total = total[1:]"
   ]
  },
  {
   "cell_type": "markdown",
   "metadata": {},
   "source": [
    "## Create Excel"
   ]
  },
  {
   "cell_type": "code",
   "execution_count": 309,
   "metadata": {},
   "outputs": [],
   "source": [
    "# Convert asset totals dataframe to excel\n",
    "writer = pd.ExcelWriter(file_path + out_file)\n",
    "total.to_excel(writer,'Total Assets')\n",
    "writer.save()\n",
    "wb = load_workbook(file_path + out_file)\n",
    "\n",
    "# Setup styling variables\n",
    "white = 'ffffff'\n",
    "font = 'Helvetica'\n",
    "center = 'center'\n",
    "num = '$#,##0.00'\n",
    "width = 13\n",
    "white_font = Font(name= font,size=12,color=white)\n",
    "dark_font = Font(name= font,size=12,color='46494c')\n",
    "red_font = Font(name= font,size=12,color='ff0000',bold=True)\n",
    "center_align = Alignment(horizontal='center',vertical = 'center',wrapText=True)\n",
    "right_align = Alignment(horizontal='right',vertical = 'center',wrapText=True)  \n",
    "blue_fill = PatternFill(\"solid\", fgColor=\"1985A1\")\n",
    "total_fill = PatternFill(\"solid\", fgColor=\"4c5c68\")\n",
    "light_fill = PatternFill(\"solid\", fgColor=\"DCDCDD\")\n",
    "gray_fill = PatternFill(\"solid\", fgColor=\"c5c3c6\")\n",
    "white_border = Border(left = Side(border_style='thin',color=white), right = Side(border_style='thin',color=white)\n",
    "                      ,top = Side(border_style='thin',color=white), bottom = Side(border_style='thin',color=white))"
   ]
  },
  {
   "cell_type": "code",
   "execution_count": 310,
   "metadata": {},
   "outputs": [],
   "source": [
    "# Setup Unit Cost worksheet\n",
    "ws = wb.create_sheet('Unit Cost Table')\n",
    "ws.column_dimensions['A'].width = 36\n",
    "with open(file_path + r'\\Markings_Costs.csv') as f:\n",
    "    reader = csv.reader(f, delimiter=',')\n",
    "    for row in reader:\n",
    "        ws.append(row)\n",
    "wb.save(file_path + out_file)"
   ]
  },
  {
   "cell_type": "code",
   "execution_count": 311,
   "metadata": {},
   "outputs": [],
   "source": [
    "# Setup Total Asset Worksheet\n",
    "ws1 = wb.active\n",
    "ws1.column_dimensions['A'].width = 30\n",
    "ws1.row_dimensions[1].height = 110\n",
    "start = 2\n",
    "x_end = 14\n",
    "y_end = 22\n",
    "\n",
    "# Setup styling for total asset sheet\n",
    "for col in ws1.iter_cols():\n",
    "    col[0].fill = blue_fill\n",
    "    col[0].font = white_font\n",
    "    col[0].alignment = center_align\n",
    "    ws1.column_dimensions[get_column_letter(start)].width = width\n",
    "    start += 1\n",
    "for cell in ws1.iter_rows():\n",
    "    cell[0].alignment = right_align \n",
    "    cell[0].fill = blue_fill\n",
    "    cell[0].font = white_font\n",
    "    cell[0].border = white_border\n",
    "    for i in range(1,x_end):\n",
    "        ws1.column_dimensions[get_column_letter(i + 1)].width = width\n",
    "        cell[i].alignment = center_align\n",
    "        cell[i].fill = light_fill\n",
    "        cell[i].font = dark_font\n",
    "        if cell[i].value is 0:\n",
    "            cell[i].font = red_font\n",
    "        cell[i].border = white_border\n",
    "ws1[\"O1\"].value = 'Total Markings'\n",
    "ws1[\"O1\"].font = white_font\n",
    "ws1[\"O1\"].fill = total_fill\n",
    "ws1[\"O1\"].alignment = center_align\n",
    "for k in range(2,y_end + 1):\n",
    "    ws1[\"O{}\".format(k)].fill = gray_fill\n",
    "    ws1[\"O{}\".format(k)].border = white_border\n",
    "    ws1[\"O{}\".format(k)].font = dark_font\n",
    "    ws1[\"O{}\".format(k)].alignment = center_align\n",
    "    ws1[\"O{}\".format(k)].value = '=SUM(B{0}:N{0})'.format(k)\n",
    "    if k <= x_end:\n",
    "        x = get_column_letter(k)\n",
    "        ws1[\"{}22\".format(x)].fill = gray_fill\n",
    "        ws1[\"{}22\".format(x)].border = white_border\n",
    "        ws1[\"{}22\".format(x)].font = dark_font\n",
    "        ws1[\"{}22\".format(x)].alignment = center_align\n",
    "        ws1[\"{}22\".format(x)].value = '=SUM({0}2:{0}21)'.format(x)\n",
    "ws1[\"O22\"].fill = total_fill\n",
    "ws1[\"O22\"].font = white_font\n",
    "ws1[\"A22\"].value = \"Total Assets per Roadway\"\n",
    "ws1[\"A22\"].fill = total_fill\n",
    "ws1[\"A22\"].border = white_border\n",
    "ws1[\"A22\"].alignment = right_align\n",
    "ws1[\"A22\"].font = white_font\n",
    "wb.save(file_path + out_file)"
   ]
  },
  {
   "cell_type": "code",
   "execution_count": 312,
   "metadata": {},
   "outputs": [],
   "source": [
    "# Setup Material and Labor Cost worksheets\n",
    "ws2 = wb.copy_worksheet(ws1)\n",
    "cost_sheets(ws2,\"Total Material Costs\",\"Total Costs per Roadway\",2)\n",
    "ws3 = wb.copy_worksheet(ws2)\n",
    "cost_sheets(ws3,\"Total Costs per Marking & Labor\",\"Total Costs per Roadway\",6)\n",
    "\n",
    "wb.save(file_path + out_file)"
   ]
  },
  {
   "cell_type": "code",
   "execution_count": 313,
   "metadata": {},
   "outputs": [],
   "source": [
    "# Reorder the sheets in the workbook\n",
    "wb.active = 0\n",
    "myorder = [3,2,1,0]\n",
    "wb._sheets=[wb._sheets[i] for i in myorder]\n",
    "wb._sheets.sort(key=lambda ws: ws.title)\n",
    "wb.save(file_path + out_file)"
   ]
  },
  {
   "cell_type": "code",
   "execution_count": 314,
   "metadata": {},
   "outputs": [],
   "source": [
    "wb.close()"
   ]
  },
  {
   "cell_type": "code",
   "execution_count": null,
   "metadata": {},
   "outputs": [],
   "source": []
  }
 ],
 "metadata": {
  "hide_input": false,
  "kernelspec": {
   "display_name": "Python 3",
   "language": "python",
   "name": "python3"
  },
  "language_info": {
   "codemirror_mode": {
    "name": "ipython",
    "version": 3
   },
   "file_extension": ".py",
   "mimetype": "text/x-python",
   "name": "python",
   "nbconvert_exporter": "python",
   "pygments_lexer": "ipython3",
   "version": "3.6.9"
  },
  "toc": {
   "base_numbering": 1,
   "nav_menu": {},
   "number_sections": true,
   "sideBar": true,
   "skip_h1_title": false,
   "title_cell": "Table of Contents",
   "title_sidebar": "Contents",
   "toc_cell": false,
   "toc_position": {},
   "toc_section_display": true,
   "toc_window_display": false
  }
 },
 "nbformat": 4,
 "nbformat_minor": 4
}
