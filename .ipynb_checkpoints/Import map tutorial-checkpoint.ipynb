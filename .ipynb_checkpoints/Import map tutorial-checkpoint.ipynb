{
 "cells": [
  {
   "cell_type": "markdown",
   "metadata": {},
   "source": [
    "## How to import a webmap in ArcGIS API for Python"
   ]
  },
  {
   "cell_type": "code",
   "execution_count": 6,
   "metadata": {},
   "outputs": [
    {
     "data": {
      "text/plain": [
       "[<Item title:\"Tree Canopy by City in Minnesota\" type:Web Map owner:vikalpa>,\n",
       " <Item title:\"Vaals6\" type:Web Map owner:haicao1975>,\n",
       " <Item title:\"Location Map Telematica\" type:Web Map owner:roberto.arbanil>,\n",
       " <Item title:\"San Diego Places To Go-复制\" type:Web Map owner:win_001>,\n",
       " <Item title:\"ADFCA Short List Map Story\" type:Web Map owner:developer5>,\n",
       " <Item title:\"LA Parks and Trails Map (styled with popups)c\" type:Web Map owner:cheangerlove>,\n",
       " <Item title:\"LA Parks and Trails Map (unstyled)- JMJ\" type:Web Map owner:jjone267_GISandData>,\n",
       " <Item title:\"San Diego Places To Go-Copy\" type:Web Map owner:hayam_osama>,\n",
       " <Item title:\"LA Parks and Trails Map (unstyled)-Copy\" type:Web Map owner:hosweh>,\n",
       " <Item title:\"Vaals9\" type:Web Map owner:haicao1975>]"
      ]
     },
     "execution_count": 6,
     "metadata": {},
     "output_type": "execute_result"
    }
   ],
   "source": [
    "from arcgis.gis import *\n",
    "dev_gis = GIS(\"https://www.arcgis.com\")\n",
    "webmap_search = dev_gis.content.search(query = \"LA Parks and Trails *\", item_type = \"Web Map\")\n",
    "webmap_search"
   ]
  },
  {
   "cell_type": "code",
   "execution_count": 7,
   "metadata": {},
   "outputs": [
    {
     "data": {
      "text/html": [
       "<div class=\"item_container\" style=\"height: auto; overflow: hidden; border: 1px solid #cfcfcf; border-radius: 2px; background: #f6fafa; line-height: 1.21429em; padding: 10px;\">\n",
       "                    <div class=\"item_left\" style=\"width: 210px; float: left;\">\n",
       "                       <a href='https://www.arcgis.com/home/item.html?id=77919fc65fcb4e2eb35d6bfd3217d037' target='_blank'>\n",
       "                        <img src='https://www.arcgis.com/sharing/rest//content/items/77919fc65fcb4e2eb35d6bfd3217d037/info/thumbnail/ago_downloaded.png' class=\"itemThumbnail\">\n",
       "                       </a>\n",
       "                    </div>\n",
       "\n",
       "                    <div class=\"item_right\"     style=\"float: none; width: auto; overflow: hidden;\">\n",
       "                        <a href='https://www.arcgis.com/home/item.html?id=77919fc65fcb4e2eb35d6bfd3217d037' target='_blank'><b>LA Parks and Trails Map (styled with popups)c</b>\n",
       "                        </a>\n",
       "                        <br/>Trails and parks in the LA area (styled with popups)<img src='https://www.arcgis.com/home/js/jsapi/esri/css/images/item_type_icons/maps16.png' style=\"vertical-align:middle;\">Web Map by cheangerlove\n",
       "                        <br/>Last Modified: July 10, 2017\n",
       "                        <br/>0 comments, 201 views\n",
       "                    </div>\n",
       "                </div>\n",
       "                "
      ],
      "text/plain": [
       "<Item title:\"LA Parks and Trails Map (styled with popups)c\" type:Web Map owner:cheangerlove>"
      ]
     },
     "execution_count": 7,
     "metadata": {},
     "output_type": "execute_result"
    }
   ],
   "source": [
    "webmap = webmap_search[5]\n",
    "webmap"
   ]
  },
  {
   "cell_type": "code",
   "execution_count": 8,
   "metadata": {},
   "outputs": [],
   "source": [
    "from arcgis.mapping import WebMap\n",
    "la_parks_trails = WebMap(webmap)\n",
    "la_parks_trails"
   ]
  },
  {
   "cell_type": "code",
   "execution_count": null,
   "metadata": {},
   "outputs": [],
   "source": []
  }
 ],
 "metadata": {
  "kernelspec": {
   "display_name": "Python 3",
   "language": "python",
   "name": "python3"
  },
  "language_info": {
   "codemirror_mode": {
    "name": "ipython",
    "version": 3
   },
   "file_extension": ".py",
   "mimetype": "text/x-python",
   "name": "python",
   "nbconvert_exporter": "python",
   "pygments_lexer": "ipython3",
   "version": "3.5.5"
  },
  "widgets": {
   "state": {
    "00c70a52936743e798d010a833ed05e2": {
     "views": [
      {
       "cell_index": 3
      }
     ]
    }
   },
   "version": "1.2.0"
  }
 },
 "nbformat": 4,
 "nbformat_minor": 2
}
