{
 "cells": [
  {
   "cell_type": "markdown",
   "metadata": {},
   "source": [
    "# SBO Markings Counts Estimation\n",
    "The purpose of this notebook is to generate counts of specialty markings in the field per maintenance cycle."
   ]
  },
  {
   "cell_type": "markdown",
   "metadata": {},
   "source": [
    "## Imports"
   ]
  },
  {
   "cell_type": "code",
   "execution_count": 25,
   "metadata": {},
   "outputs": [],
   "source": [
    "import pandas as pd\n",
    "\n",
    "from arcgis.gis import GIS\n",
    "from arcgis.features import FeatureLayer\n",
    "\n",
    "%run C:\\Users\\Govs\\Projects/FeatureLayerDataFrame.py"
   ]
  },
  {
   "cell_type": "markdown",
   "metadata": {},
   "source": [
    "## Introduction\n",
    "The first step is to import a gis feature service layer from ArcGIS Online."
   ]
  },
  {
   "cell_type": "code",
   "execution_count": 23,
   "metadata": {},
   "outputs": [
    {
     "name": "stdout",
     "output_type": "stream",
     "text": [
      "Please sign in to your GIS and paste the code that is obtained below.\n",
      "If a web browser does not automatically open, please navigate to the URL below yourself instead.\n",
      "Opening web browser to navigate to: https://austin.maps.arcgis.com/sharing/rest/oauth2/authorize?client_id=CrnxPfTcm7Y7ZGl7&response_type=code&expiration=-1&redirect_uri=urn%3Aietf%3Awg%3Aoauth%3A2.0%3Aoob\n"
     ]
    },
    {
     "name": "stdin",
     "output_type": "stream",
     "text": [
      "Enter code obtained on signing in using SAML:  ············································································································································································································································\n"
     ]
    }
   ],
   "source": [
    "gis = GIS(\"https://austin.maps.arcgis.com/home/index.html\", client_id='CrnxPfTcm7Y7ZGl7')"
   ]
  },
  {
   "cell_type": "markdown",
   "metadata": {},
   "source": [
    "Import the specilaty points layer and the specialty lines layer."
   ]
  },
  {
   "cell_type": "code",
   "execution_count": 64,
   "metadata": {},
   "outputs": [],
   "source": [
    "sp = FeatureLayerDataFrame('markings_specialty_point').sdf\n",
    "rpm = FeatureLayerDataFrame('markings_specialty_line').sdf\n",
    "rpm = rpm.fillna({'NUMBER_OF_ASSETS':1})"
   ]
  },
  {
   "cell_type": "markdown",
   "metadata": {},
   "source": [
    "Group assets by 'CREW_ASSIGNED' and 'Specialty Type'"
   ]
  },
  {
   "cell_type": "code",
   "execution_count": 103,
   "metadata": {},
   "outputs": [
    {
     "data": {
      "text/html": [
       "<div>\n",
       "<style scoped>\n",
       "    .dataframe tbody tr th:only-of-type {\n",
       "        vertical-align: middle;\n",
       "    }\n",
       "\n",
       "    .dataframe tbody tr th {\n",
       "        vertical-align: top;\n",
       "    }\n",
       "\n",
       "    .dataframe thead th {\n",
       "        text-align: right;\n",
       "    }\n",
       "</style>\n",
       "<table border=\"1\" class=\"dataframe\">\n",
       "  <thead>\n",
       "    <tr style=\"text-align: right;\">\n",
       "      <th></th>\n",
       "      <th>SPECIALTY_POINT_TYPE</th>\n",
       "      <th>CREW_ASSIGNED</th>\n",
       "      <th>SUM</th>\n",
       "    </tr>\n",
       "  </thead>\n",
       "  <tbody>\n",
       "    <tr>\n",
       "      <td>0</td>\n",
       "      <td>RPM</td>\n",
       "      <td>OTHER</td>\n",
       "      <td>34</td>\n",
       "    </tr>\n",
       "    <tr>\n",
       "      <td>1</td>\n",
       "      <td>Ahead word</td>\n",
       "      <td>CBD</td>\n",
       "      <td>4</td>\n",
       "    </tr>\n",
       "    <tr>\n",
       "      <td>2</td>\n",
       "      <td>Ahead word</td>\n",
       "      <td>OTHER</td>\n",
       "      <td>36</td>\n",
       "    </tr>\n",
       "    <tr>\n",
       "      <td>3</td>\n",
       "      <td>Ahead word</td>\n",
       "      <td>SIGNAL</td>\n",
       "      <td>3</td>\n",
       "    </tr>\n",
       "    <tr>\n",
       "      <td>4</td>\n",
       "      <td>Bicyclist symbol</td>\n",
       "      <td>BIKE</td>\n",
       "      <td>3308</td>\n",
       "    </tr>\n",
       "    <tr>\n",
       "      <td>...</td>\n",
       "      <td>...</td>\n",
       "      <td>...</td>\n",
       "      <td>...</td>\n",
       "    </tr>\n",
       "    <tr>\n",
       "      <td>102</td>\n",
       "      <td>U-turn arrow</td>\n",
       "      <td>SIGNAL</td>\n",
       "      <td>7</td>\n",
       "    </tr>\n",
       "    <tr>\n",
       "      <td>103</td>\n",
       "      <td>X-ing word</td>\n",
       "      <td>OTHER</td>\n",
       "      <td>4</td>\n",
       "    </tr>\n",
       "    <tr>\n",
       "      <td>104</td>\n",
       "      <td>X-ing word</td>\n",
       "      <td>SIGNAL</td>\n",
       "      <td>1</td>\n",
       "    </tr>\n",
       "    <tr>\n",
       "      <td>105</td>\n",
       "      <td>Yield word</td>\n",
       "      <td>OTHER</td>\n",
       "      <td>3</td>\n",
       "    </tr>\n",
       "    <tr>\n",
       "      <td>106</td>\n",
       "      <td>Yield word</td>\n",
       "      <td>SIGNAL</td>\n",
       "      <td>3</td>\n",
       "    </tr>\n",
       "  </tbody>\n",
       "</table>\n",
       "<p>107 rows × 3 columns</p>\n",
       "</div>"
      ],
      "text/plain": [
       "    SPECIALTY_POINT_TYPE CREW_ASSIGNED   SUM\n",
       "0                    RPM         OTHER    34\n",
       "1             Ahead word           CBD     4\n",
       "2             Ahead word         OTHER    36\n",
       "3             Ahead word        SIGNAL     3\n",
       "4       Bicyclist symbol          BIKE  3308\n",
       "..                   ...           ...   ...\n",
       "102         U-turn arrow        SIGNAL     7\n",
       "103           X-ing word         OTHER     4\n",
       "104           X-ing word        SIGNAL     1\n",
       "105           Yield word         OTHER     3\n",
       "106           Yield word        SIGNAL     3\n",
       "\n",
       "[107 rows x 3 columns]"
      ]
     },
     "metadata": {},
     "output_type": "display_data"
    }
   ],
   "source": [
    "sp['SUM'] = 1\n",
    "sp_counts = sp.groupby(['SPECIALTY_POINT_TYPE','CREW_ASSIGNED']).count()[['SUM']].reset_index()\n",
    "display(sp_counts)"
   ]
  },
  {
   "cell_type": "code",
   "execution_count": 105,
   "metadata": {},
   "outputs": [
    {
     "data": {
      "text/html": [
       "<div>\n",
       "<style scoped>\n",
       "    .dataframe tbody tr th:only-of-type {\n",
       "        vertical-align: middle;\n",
       "    }\n",
       "\n",
       "    .dataframe tbody tr th {\n",
       "        vertical-align: top;\n",
       "    }\n",
       "\n",
       "    .dataframe thead th {\n",
       "        text-align: right;\n",
       "    }\n",
       "</style>\n",
       "<table border=\"1\" class=\"dataframe\">\n",
       "  <thead>\n",
       "    <tr style=\"text-align: right;\">\n",
       "      <th></th>\n",
       "      <th>SPECIALTY_LINE_TYPE</th>\n",
       "      <th>CREW_ASSIGNED</th>\n",
       "      <th>NUMBER_OF_ASSETS</th>\n",
       "    </tr>\n",
       "  </thead>\n",
       "  <tbody>\n",
       "    <tr>\n",
       "      <td>0</td>\n",
       "      <td>Concrete Domes</td>\n",
       "      <td>BIKE</td>\n",
       "      <td>2960.0</td>\n",
       "    </tr>\n",
       "    <tr>\n",
       "      <td>1</td>\n",
       "      <td>Curbs</td>\n",
       "      <td>OTHER</td>\n",
       "      <td>260.0</td>\n",
       "    </tr>\n",
       "    <tr>\n",
       "      <td>2</td>\n",
       "      <td>Delineators</td>\n",
       "      <td>BIKE</td>\n",
       "      <td>55.0</td>\n",
       "    </tr>\n",
       "    <tr>\n",
       "      <td>3</td>\n",
       "      <td>Delineators</td>\n",
       "      <td>OTHER</td>\n",
       "      <td>128.0</td>\n",
       "    </tr>\n",
       "    <tr>\n",
       "      <td>4</td>\n",
       "      <td>RPM Lane Separator</td>\n",
       "      <td>OTHER</td>\n",
       "      <td>40.0</td>\n",
       "    </tr>\n",
       "  </tbody>\n",
       "</table>\n",
       "</div>"
      ],
      "text/plain": [
       "  SPECIALTY_LINE_TYPE CREW_ASSIGNED  NUMBER_OF_ASSETS\n",
       "0      Concrete Domes          BIKE            2960.0\n",
       "1               Curbs         OTHER             260.0\n",
       "2         Delineators          BIKE              55.0\n",
       "3         Delineators         OTHER             128.0\n",
       "4  RPM Lane Separator         OTHER              40.0"
      ]
     },
     "metadata": {},
     "output_type": "display_data"
    }
   ],
   "source": [
    "# Variables\n",
    "repl = ['CURBS','DELINEATORS','CONCRETE_DOMES','RPM_LANE_SEPARATOR']\n",
    "val = ['Curbs','Delineators','Concrete Domes', 'RPM Lane Separator']\n",
    "\n",
    "rpm_counts = rpm.replace(repl,val).groupby(['SPECIALTY_LINE_TYPE','CREW_ASSIGNED']).sum()[['NUMBER_OF_ASSETS']].reset_index()\n",
    "display(rpm_counts)"
   ]
  },
  {
   "cell_type": "markdown",
   "metadata": {},
   "source": [
    "## Create final table"
   ]
  },
  {
   "cell_type": "code",
   "execution_count": 108,
   "metadata": {},
   "outputs": [],
   "source": [
    "sp_counts = sp_counts.rename(columns={'SPECIALTY_POINT_TYPE':'MARKINGS TYPE'})\n",
    "rpm_counts = rpm_counts.rename(columns={'SPECIALTY_LINE_TYPE':'MARKINGS TYPE','NUMBER_OF_ASSETS':'SUM'})\n",
    "final = pd.concat([sp_counts,rpm_counts],ignore_index=True,sort=True).rename(\n",
    "    columns={'CREW_ASSIGNED':'MAINTENANCE TYPE'}).set_index('MARKINGS TYPE')"
   ]
  },
  {
   "cell_type": "code",
   "execution_count": 109,
   "metadata": {},
   "outputs": [],
   "source": [
    "FOLDER = r'\\\\coacd.org\\dfs\\TPSD\\ATD\\Signs_and_Markings\\MISC_PROJECTS\\Maintenance_Plan_Signs_and_Markings\\SPECIALTY_MARKINGS_MAINTENANCE_PLAN'\n",
    "writer = pd.ExcelWriter(FOLDER +r'\\Specialty_Markings_Counts.xlsx', engine='xlsxwriter')\n",
    "final.to_excel(writer, sheet_name = 'Markings Counts')\n",
    "wb = writer.book\n",
    "ws = writer.sheets['Markings Counts']\n",
    "ws.set_column('A:D',29)\n",
    "writer.save()"
   ]
  },
  {
   "cell_type": "code",
   "execution_count": null,
   "metadata": {},
   "outputs": [],
   "source": []
  }
 ],
 "metadata": {
  "kernelspec": {
   "display_name": "Python [conda env:root] *",
   "language": "python",
   "name": "conda-root-py"
  },
  "language_info": {
   "codemirror_mode": {
    "name": "ipython",
    "version": 3
   },
   "file_extension": ".py",
   "mimetype": "text/x-python",
   "name": "python",
   "nbconvert_exporter": "python",
   "pygments_lexer": "ipython3",
   "version": "3.6.9"
  }
 },
 "nbformat": 4,
 "nbformat_minor": 4
}
