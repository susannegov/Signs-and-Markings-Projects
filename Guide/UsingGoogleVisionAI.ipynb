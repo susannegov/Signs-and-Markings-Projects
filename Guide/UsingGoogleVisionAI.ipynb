{
 "cells": [
  {
   "cell_type": "markdown",
   "metadata": {},
   "source": [
    "# Using Google Cloud Vision API to Retrieve Photo Information\n",
    "This is a document that outlines steps to using Google's Vision AI API (https://cloud.google.com/vision) for local photos.\n",
    "\n",
    "## Requirements\n",
    "- A Google Cloud account in the Free Tier. See https://cloud.google.com/free/docs/gcp-free-tier\n",
    "- Billing Information (Google claims it will not auto charge to card if doing a free trial. The free trial lasts until $300 credit is used up or until a year has past since sign up).\n",
    "- Python. Supported versions are 3.5 to 3.7, and 2.7.9 or higher. Recommend >= 3.6 \n",
    "- Linux, macOS, or Windows device \n",
    "Cloud SDK requires Python. Some tools bundled with Cloud SDK have additional requirements\n"
   ]
  },
  {
   "cell_type": "markdown",
   "metadata": {},
   "source": [
    "## Creating Google Cloud account\n",
    "1) Create Google Cloud information by creating a Google Cloud account \"Get Started for Free\" or \"Sign In\" through your Google account. See here for instructions from Google. https://console.cloud.google.com/getting-started/checklist\n",
    "\n",
    "![photo](1.png)\n",
    "\n",
    "2) Install Google Cloud SDK \n",
    "- Windows: https://cloud.google.com/sdk/docs/downloads-interactive#windows\n",
    "- Mac: https://cloud.google.com/sdk/docs/downloads-interactive#mac\n",
    "- Linux: https://cloud.google.com/sdk/docs/downloads-interactive#linux\n",
    "\n",
    "3) Enable API through https://console.cloud.google.com/ by clicking on the 3 bars icon > \"API & Services\" which will open to a new webpage.\n",
    "\n",
    "![photo](2.png)\n",
    "\n",
    "4) Click on \"+ Enable APIs and Services\" and search for \"Cloud Vision API\"\n",
    "\n",
    "![photo](3.png)![photo](4.png)\n",
    "\n",
    "5) Click the blue \"Enable API\" button and select Google Cloud Project you want the API enabled (The screenshot shows up as \"Manage\" because it is already enabled\")\n",
    "\n",
    "![photo](5.png)\n",
    "\n",
    "6) Install the Cloud Vision API (this is different from Cloud SDK). Please see https://cloud.google.com/vision/docs/setup"
   ]
  },
  {
   "cell_type": "markdown",
   "metadata": {},
   "source": [
    "## Using Google Cloud Vision API with Python\n",
    "### Example Use Case: Identifying overhead street name sign text\n",
    "Before beginning you have to installl Google Cloud SDK, enable Google Cloud Vision API, Create a Project, Enable Billing, <b>and</b> retrieve your personal google application credentials in order to use the API. Keep it secret. \n",
    "\n",
    "See https://cloud.google.com/sdk/install as it explains the steps for installation in detail."
   ]
  },
  {
   "cell_type": "markdown",
   "metadata": {},
   "source": [
    "Some packages to import are: `io`, `os`, `google.cloud`, and `google.cloud.vision`\n",
    "\n",
    "Recommended to import `pandas` for data wrangling and `xlsx`/`openpyxl` to export results to excel file."
   ]
  },
  {
   "cell_type": "code",
   "execution_count": 11,
   "metadata": {},
   "outputs": [],
   "source": [
    "import io\n",
    "import os\n",
    "import pandas as pd\n",
    "from google.cloud import vision\n",
    "from google.cloud.vision import types"
   ]
  },
  {
   "cell_type": "markdown",
   "metadata": {},
   "source": [
    "Put in your google app credentials. You can download the JSON file here https://console.cloud.google.com/apis/credentials/serviceaccountkey when signed in. Keep this file secret."
   ]
  },
  {
   "cell_type": "code",
   "execution_count": 12,
   "metadata": {},
   "outputs": [],
   "source": [
    "os.environ[\"GOOGLE_APPLICATION_CREDENTIALS\"]= \"/Users/SusanneGov/Documents/My First Project-bcfca3ee21b0.json\" # replace with your JSON path\n",
    "client = vision.ImageAnnotatorClient()"
   ]
  },
  {
   "cell_type": "markdown",
   "metadata": {},
   "source": [
    "To grab information from a collection of photos."
   ]
  },
  {
   "cell_type": "code",
   "execution_count": 13,
   "metadata": {},
   "outputs": [
    {
     "name": "stdout",
     "output_type": "stream",
     "text": [
      "The file path is /Users/SusanneGov/Documents/Python Projects/Signs-and-Markings-Projects/Guide/test_photos\n"
     ]
    }
   ],
   "source": [
    "photo_folder = os.getcwd() + r'/test_photos' # or use your own folder path see comment below\n",
    "# photo_folder = r\"/path/sub_path/folder\"\n",
    "print(\"The file path is \" + photo_folder)"
   ]
  },
  {
   "cell_type": "markdown",
   "metadata": {},
   "source": [
    "Create dictionaries of text, label, and object detection."
   ]
  },
  {
   "cell_type": "code",
   "execution_count": 14,
   "metadata": {},
   "outputs": [],
   "source": [
    "text_info = {} # to put in text annotations\n",
    "label_info = {} # to put in labels\n",
    "object_info = {} # to put in multiple objects"
   ]
  },
  {
   "cell_type": "markdown",
   "metadata": {},
   "source": [
    "Will go through the photo folder collection and read text, label, and objects that have a .png extention."
   ]
  },
  {
   "cell_type": "code",
   "execution_count": 15,
   "metadata": {},
   "outputs": [],
   "source": [
    "# goes through photo folder and identifies texts, labels, and objects\n",
    "for dirpath, subdirs, files in os.walk(photo_folder):\n",
    "    for x in files:\n",
    "        if x.endswith(\".png\"): # can be jpeg\n",
    "            photo_path = os.path.join(dirpath, x)\n",
    "            with io.open(photo_path, 'rb') as image_file:\n",
    "                content = image_file.read()\n",
    "            image = types.Image(content=content) \n",
    "            texts = client.text_detection(image=image).text_annotations\n",
    "            labels = client.label_detection(image=image).label_annotations\n",
    "            objects = client.object_localization(image=image).localized_object_annotations\n",
    "            object_info[x] = [object_.name for object_ in objects] # creates list of objects identified\n",
    "            label_info[x] =  [label.description for label in labels] # creates list of labels identified\n",
    "            text_info[x] =  str(texts[0].description).split(\"\\n\") # creates list of texts identified"
   ]
  },
  {
   "cell_type": "markdown",
   "metadata": {},
   "source": [
    "Create pandas dataframe to display results."
   ]
  },
  {
   "cell_type": "code",
   "execution_count": 16,
   "metadata": {},
   "outputs": [],
   "source": [
    "texts = {}\n",
    "labels = {}\n",
    "objects = {}\n",
    "for keys in text_info:\n",
    "    texts[keys] = [x.upper() for x in text_info[keys]]\n",
    "    labels[keys] = [x.upper() for x in label_info[keys]]\n",
    "    objects[keys] = [x.upper() for x in object_info[keys]]\n",
    "texts = pd.DataFrame.from_dict(texts,orient='index').sort_index()\n",
    "labels = pd.DataFrame.from_dict(labels,orient='index').sort_index()\n",
    "objects = pd.DataFrame.from_dict(objects,orient='index').sort_index()"
   ]
  },
  {
   "cell_type": "markdown",
   "metadata": {},
   "source": [
    "Export results into excel file"
   ]
  },
  {
   "cell_type": "code",
   "execution_count": 17,
   "metadata": {},
   "outputs": [],
   "source": [
    "output = os.getcwd() + r'/example_output.xlsx'\n",
    "with pd.ExcelWriter(output) as writer:  \n",
    "    texts.to_excel(writer, sheet_name='texts')\n",
    "    labels.to_excel(writer, sheet_name='labels')\n",
    "    objects.to_excel(writer, sheet_name='objects')\n",
    "    writer.save()\n",
    "    writer.close()"
   ]
  },
  {
   "cell_type": "markdown",
   "metadata": {},
   "source": [
    "The results are in example_output.xlsx \n",
    "\n",
    "- Test 1 Photo ![photo](test_photos/test1.png)\n",
    "\n",
    "- Test 2 Photo ![photo](test_photos/test2.png)"
   ]
  },
  {
   "cell_type": "code",
   "execution_count": 18,
   "metadata": {},
   "outputs": [
    {
     "data": {
      "text/html": [
       "<div>\n",
       "<style scoped>\n",
       "    .dataframe tbody tr th:only-of-type {\n",
       "        vertical-align: middle;\n",
       "    }\n",
       "\n",
       "    .dataframe tbody tr th {\n",
       "        vertical-align: top;\n",
       "    }\n",
       "\n",
       "    .dataframe thead th {\n",
       "        text-align: right;\n",
       "    }\n",
       "</style>\n",
       "<table border=\"1\" class=\"dataframe\">\n",
       "  <thead>\n",
       "    <tr style=\"text-align: right;\">\n",
       "      <th></th>\n",
       "      <th>0</th>\n",
       "      <th>1</th>\n",
       "      <th>2</th>\n",
       "      <th>3</th>\n",
       "      <th>4</th>\n",
       "      <th>5</th>\n",
       "      <th>6</th>\n",
       "      <th>7</th>\n",
       "      <th>8</th>\n",
       "      <th>9</th>\n",
       "      <th>10</th>\n",
       "    </tr>\n",
       "  </thead>\n",
       "  <tbody>\n",
       "    <tr>\n",
       "      <th>test1-checkpoint.png</th>\n",
       "      <td>CONNECTED</td>\n",
       "      <td>PHARMACY CARE</td>\n",
       "      <td>GOES BEYOND</td>\n",
       "      <td>PRESCRIPTIONS.</td>\n",
       "      <td>LEFT TURN</td>\n",
       "      <td>YIELD</td>\n",
       "      <td>ON GREEN</td>\n",
       "      <td>LAMAR</td>\n",
       "      <td>- ENFIELD RD</td>\n",
       "      <td>PARKWAY 1200</td>\n",
       "      <td></td>\n",
       "    </tr>\n",
       "    <tr>\n",
       "      <th>test1.png</th>\n",
       "      <td>CONNECTED</td>\n",
       "      <td>PHARMACY CARE</td>\n",
       "      <td>GOES BEYOND</td>\n",
       "      <td>PRESCRIPTIONS.</td>\n",
       "      <td>LEFT TURN</td>\n",
       "      <td>YIELD</td>\n",
       "      <td>ON GREEN</td>\n",
       "      <td>LAMAR</td>\n",
       "      <td>- ENFIELD RD</td>\n",
       "      <td>PARKWAY 1200</td>\n",
       "      <td></td>\n",
       "    </tr>\n",
       "    <tr>\n",
       "      <th>test2-checkpoint.png</th>\n",
       "      <td>PARKWAY</td>\n",
       "      <td>RD</td>\n",
       "      <td>ENFIELD</td>\n",
       "      <td>1200</td>\n",
       "      <td>LAMAR</td>\n",
       "      <td>STHE T VERN</td>\n",
       "      <td>TAVERN</td>\n",
       "      <td>OPEN \"GLASS</td>\n",
       "      <td>CONTAINEPS</td>\n",
       "      <td>PROHUBIT</td>\n",
       "      <td></td>\n",
       "    </tr>\n",
       "    <tr>\n",
       "      <th>test2.png</th>\n",
       "      <td>PARKWAY</td>\n",
       "      <td>RD</td>\n",
       "      <td>ENFIELD</td>\n",
       "      <td>1200</td>\n",
       "      <td>LAMAR</td>\n",
       "      <td>STHE T VERN</td>\n",
       "      <td>TAVERN</td>\n",
       "      <td>OPEN \"GLASS</td>\n",
       "      <td>CONTAINEPS</td>\n",
       "      <td>PROHUBIT</td>\n",
       "      <td></td>\n",
       "    </tr>\n",
       "  </tbody>\n",
       "</table>\n",
       "</div>"
      ],
      "text/plain": [
       "                              0              1            2               3  \\\n",
       "test1-checkpoint.png  CONNECTED  PHARMACY CARE  GOES BEYOND  PRESCRIPTIONS.   \n",
       "test1.png             CONNECTED  PHARMACY CARE  GOES BEYOND  PRESCRIPTIONS.   \n",
       "test2-checkpoint.png    PARKWAY             RD      ENFIELD            1200   \n",
       "test2.png               PARKWAY             RD      ENFIELD            1200   \n",
       "\n",
       "                              4            5         6            7  \\\n",
       "test1-checkpoint.png  LEFT TURN        YIELD  ON GREEN        LAMAR   \n",
       "test1.png             LEFT TURN        YIELD  ON GREEN        LAMAR   \n",
       "test2-checkpoint.png      LAMAR  STHE T VERN    TAVERN  OPEN \"GLASS   \n",
       "test2.png                 LAMAR  STHE T VERN    TAVERN  OPEN \"GLASS   \n",
       "\n",
       "                                 8             9 10  \n",
       "test1-checkpoint.png  - ENFIELD RD  PARKWAY 1200     \n",
       "test1.png             - ENFIELD RD  PARKWAY 1200     \n",
       "test2-checkpoint.png    CONTAINEPS      PROHUBIT     \n",
       "test2.png               CONTAINEPS      PROHUBIT     "
      ]
     },
     "metadata": {},
     "output_type": "display_data"
    }
   ],
   "source": [
    "display(texts)"
   ]
  },
  {
   "cell_type": "markdown",
   "metadata": {},
   "source": [
    "For test1.png, the vision cloud api identified overhead street name sign texts on columns 8 and 9.\n",
    "\n",
    "For test2.png,the vision cloud api identified overhead street name sign texts on columns 0 to 4."
   ]
  },
  {
   "cell_type": "code",
   "execution_count": 19,
   "metadata": {},
   "outputs": [
    {
     "data": {
      "text/html": [
       "<div>\n",
       "<style scoped>\n",
       "    .dataframe tbody tr th:only-of-type {\n",
       "        vertical-align: middle;\n",
       "    }\n",
       "\n",
       "    .dataframe tbody tr th {\n",
       "        vertical-align: top;\n",
       "    }\n",
       "\n",
       "    .dataframe thead th {\n",
       "        text-align: right;\n",
       "    }\n",
       "</style>\n",
       "<table border=\"1\" class=\"dataframe\">\n",
       "  <thead>\n",
       "    <tr style=\"text-align: right;\">\n",
       "      <th></th>\n",
       "      <th>0</th>\n",
       "      <th>1</th>\n",
       "      <th>2</th>\n",
       "      <th>3</th>\n",
       "      <th>4</th>\n",
       "      <th>5</th>\n",
       "      <th>6</th>\n",
       "      <th>7</th>\n",
       "      <th>8</th>\n",
       "      <th>9</th>\n",
       "    </tr>\n",
       "  </thead>\n",
       "  <tbody>\n",
       "    <tr>\n",
       "      <th>test1-checkpoint.png</th>\n",
       "      <td>ROAD</td>\n",
       "      <td>TRAFFIC LIGHT</td>\n",
       "      <td>SIGNALING DEVICE</td>\n",
       "      <td>LANE</td>\n",
       "      <td>LIGHTING</td>\n",
       "      <td>TRANSPORT</td>\n",
       "      <td>MOTOR VEHICLE</td>\n",
       "      <td>THOROUGHFARE</td>\n",
       "      <td>HIGHWAY</td>\n",
       "      <td>LIGHT FIXTURE</td>\n",
       "    </tr>\n",
       "    <tr>\n",
       "      <th>test1.png</th>\n",
       "      <td>ROAD</td>\n",
       "      <td>TRAFFIC LIGHT</td>\n",
       "      <td>SIGNALING DEVICE</td>\n",
       "      <td>LANE</td>\n",
       "      <td>LIGHTING</td>\n",
       "      <td>TRANSPORT</td>\n",
       "      <td>MOTOR VEHICLE</td>\n",
       "      <td>THOROUGHFARE</td>\n",
       "      <td>HIGHWAY</td>\n",
       "      <td>LIGHT FIXTURE</td>\n",
       "    </tr>\n",
       "    <tr>\n",
       "      <th>test2-checkpoint.png</th>\n",
       "      <td>TRAFFIC LIGHT</td>\n",
       "      <td>SIGNALING DEVICE</td>\n",
       "      <td>LIGHTING</td>\n",
       "      <td>LIGHT FIXTURE</td>\n",
       "      <td>URBAN AREA</td>\n",
       "      <td>SIGNAGE</td>\n",
       "      <td>ROAD</td>\n",
       "      <td>STREET LIGHT</td>\n",
       "      <td>TREE</td>\n",
       "      <td>SIGN</td>\n",
       "    </tr>\n",
       "    <tr>\n",
       "      <th>test2.png</th>\n",
       "      <td>TRAFFIC LIGHT</td>\n",
       "      <td>SIGNALING DEVICE</td>\n",
       "      <td>LIGHTING</td>\n",
       "      <td>LIGHT FIXTURE</td>\n",
       "      <td>URBAN AREA</td>\n",
       "      <td>SIGNAGE</td>\n",
       "      <td>ROAD</td>\n",
       "      <td>STREET LIGHT</td>\n",
       "      <td>TREE</td>\n",
       "      <td>SIGN</td>\n",
       "    </tr>\n",
       "  </tbody>\n",
       "</table>\n",
       "</div>"
      ],
      "text/plain": [
       "                                  0                 1                 2  \\\n",
       "test1-checkpoint.png           ROAD     TRAFFIC LIGHT  SIGNALING DEVICE   \n",
       "test1.png                      ROAD     TRAFFIC LIGHT  SIGNALING DEVICE   \n",
       "test2-checkpoint.png  TRAFFIC LIGHT  SIGNALING DEVICE          LIGHTING   \n",
       "test2.png             TRAFFIC LIGHT  SIGNALING DEVICE          LIGHTING   \n",
       "\n",
       "                                  3           4          5              6  \\\n",
       "test1-checkpoint.png           LANE    LIGHTING  TRANSPORT  MOTOR VEHICLE   \n",
       "test1.png                      LANE    LIGHTING  TRANSPORT  MOTOR VEHICLE   \n",
       "test2-checkpoint.png  LIGHT FIXTURE  URBAN AREA    SIGNAGE           ROAD   \n",
       "test2.png             LIGHT FIXTURE  URBAN AREA    SIGNAGE           ROAD   \n",
       "\n",
       "                                 7        8              9  \n",
       "test1-checkpoint.png  THOROUGHFARE  HIGHWAY  LIGHT FIXTURE  \n",
       "test1.png             THOROUGHFARE  HIGHWAY  LIGHT FIXTURE  \n",
       "test2-checkpoint.png  STREET LIGHT     TREE           SIGN  \n",
       "test2.png             STREET LIGHT     TREE           SIGN  "
      ]
     },
     "metadata": {},
     "output_type": "display_data"
    }
   ],
   "source": [
    "display(labels)"
   ]
  },
  {
   "cell_type": "markdown",
   "metadata": {},
   "source": [
    "For test1.png, the vision cloud api did not identify signage.\n",
    "\n",
    "For test2.png,the vision cloud api identified signage."
   ]
  },
  {
   "cell_type": "code",
   "execution_count": 20,
   "metadata": {},
   "outputs": [
    {
     "data": {
      "text/html": [
       "<div>\n",
       "<style scoped>\n",
       "    .dataframe tbody tr th:only-of-type {\n",
       "        vertical-align: middle;\n",
       "    }\n",
       "\n",
       "    .dataframe tbody tr th {\n",
       "        vertical-align: top;\n",
       "    }\n",
       "\n",
       "    .dataframe thead th {\n",
       "        text-align: right;\n",
       "    }\n",
       "</style>\n",
       "<table border=\"1\" class=\"dataframe\">\n",
       "  <thead>\n",
       "    <tr style=\"text-align: right;\">\n",
       "      <th></th>\n",
       "      <th>0</th>\n",
       "      <th>1</th>\n",
       "    </tr>\n",
       "  </thead>\n",
       "  <tbody>\n",
       "    <tr>\n",
       "      <th>test1-checkpoint.png</th>\n",
       "      <td>CAR</td>\n",
       "      <td>CAR</td>\n",
       "    </tr>\n",
       "    <tr>\n",
       "      <th>test1.png</th>\n",
       "      <td>CAR</td>\n",
       "      <td>CAR</td>\n",
       "    </tr>\n",
       "    <tr>\n",
       "      <th>test2-checkpoint.png</th>\n",
       "      <td>LIGHTING</td>\n",
       "      <td>STREET LIGHT</td>\n",
       "    </tr>\n",
       "    <tr>\n",
       "      <th>test2.png</th>\n",
       "      <td>LIGHTING</td>\n",
       "      <td>STREET LIGHT</td>\n",
       "    </tr>\n",
       "  </tbody>\n",
       "</table>\n",
       "</div>"
      ],
      "text/plain": [
       "                             0             1\n",
       "test1-checkpoint.png       CAR           CAR\n",
       "test1.png                  CAR           CAR\n",
       "test2-checkpoint.png  LIGHTING  STREET LIGHT\n",
       "test2.png             LIGHTING  STREET LIGHT"
      ]
     },
     "metadata": {},
     "output_type": "display_data"
    }
   ],
   "source": [
    "display(objects)"
   ]
  },
  {
   "cell_type": "markdown",
   "metadata": {},
   "source": [
    "For test1.png, the vision cloud api only identified cars\n",
    "\n",
    "For test2.png,the vision cloud api only identified lighting and street lights."
   ]
  },
  {
   "cell_type": "markdown",
   "metadata": {},
   "source": [
    "The output comes with bounding box geometries (texts/labels annotations) and a confidence score (labels/objects annotations). You can create your own object detector with Google's AutoML without having to know machine learning modelling."
   ]
  },
  {
   "cell_type": "code",
   "execution_count": null,
   "metadata": {},
   "outputs": [],
   "source": []
  }
 ],
 "metadata": {
  "kernelspec": {
   "display_name": "Python [conda env:py382]",
   "language": "python",
   "name": "conda-env-py382-py"
  },
  "language_info": {
   "codemirror_mode": {
    "name": "ipython",
    "version": 3
   },
   "file_extension": ".py",
   "mimetype": "text/x-python",
   "name": "python",
   "nbconvert_exporter": "python",
   "pygments_lexer": "ipython3",
   "version": "3.8.2"
  }
 },
 "nbformat": 4,
 "nbformat_minor": 4
}
