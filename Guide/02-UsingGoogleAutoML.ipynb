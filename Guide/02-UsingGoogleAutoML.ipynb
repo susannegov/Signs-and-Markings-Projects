{
 "cells": [
  {
   "cell_type": "markdown",
   "metadata": {},
   "source": [
    "# Using Google Auto ML\n",
    "This is a document that outlines how to get started on creating a custom object detector using Google's AutoML API (https://cloud.google.com/automl).\n"
   ]
  },
  {
   "cell_type": "markdown",
   "metadata": {},
   "source": [
    "## Requirements\n",
    "- A Google Cloud account in the Free Tier. See https://cloud.google.com/free/docs/gcp-free-tier\n",
    "- Billing Information (Google claims it will not auto charge to card if doing a free trial. The free trial lasts until $300 credit is used up or until a year has past since sign up).\n",
    "- Python. Supported versions are 3.5 to 3.7, and 2.7.9 or higher. Recommend >= 3.6 \n",
    "- Linux, macOS, or Windows device \n",
    "Cloud SDK requires Python. Some tools bundled with Cloud SDK have additional requirements"
   ]
  },
  {
   "cell_type": "markdown",
   "metadata": {},
   "source": [
    "## Setting Up Your Data (Photo Example)\n",
    "The Google AutoML API accepts photos and screenshots from videos to train your custom object detector. If you are starting with unlabeled data, the first step is to upload the photos you plan to use to train your object detector onto the Google Cloud Storage https://console.cloud.google.com/storage\n",
    "\n",
    "### Notes\n",
    "- It is recommened to have 100 bounding box examples for good accuracy. >1000 photos is better.\n",
    "\n",
    "After the photos have been uploaded, the next step is to create a CSV file of Google Storage filepaths that you plan to use to train the custom object detector. This can be done manually or with python code."
   ]
  },
  {
   "cell_type": "code",
   "execution_count": null,
   "metadata": {},
   "outputs": [],
   "source": []
  }
 ],
 "metadata": {
  "kernelspec": {
   "display_name": "Python 3",
   "language": "python",
   "name": "python3"
  },
  "language_info": {
   "codemirror_mode": {
    "name": "ipython",
    "version": 3
   },
   "file_extension": ".py",
   "mimetype": "text/x-python",
   "name": "python",
   "nbconvert_exporter": "python",
   "pygments_lexer": "ipython3",
   "version": "3.8.2"
  }
 },
 "nbformat": 4,
 "nbformat_minor": 4
}
