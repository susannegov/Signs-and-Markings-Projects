{
 "cells": [
  {
   "cell_type": "markdown",
   "metadata": {},
   "source": [
    "# Using Google Auto ML\n",
    "This is a document that outlines how to get started on creating a custom object detector using Google's AutoML API (https://cloud.google.com/automl).\n"
   ]
  },
  {
   "cell_type": "markdown",
   "metadata": {},
   "source": [
    "## Requirements\n",
    "- A Google Cloud account in the Free Tier. See https://cloud.google.com/free/docs/gcp-free-tier\n",
    "- Billing Information (Google claims it will not auto charge to card if doing a free trial. The free trial lasts until $300 credit is used up or until a year has past since sign up).\n",
    "- Python. Supported versions are 3.5 to 3.7, and 2.7.9 or higher. Recommend >= 3.6 \n",
    "- Linux, macOS, or Windows device \n",
    "Cloud SDK requires Python. Some tools bundled with Cloud SDK have additional requirements"
   ]
  },
  {
   "cell_type": "markdown",
   "metadata": {},
   "source": [
    "## Setting Up Your Data (Photo Example)\n",
    "The Google AutoML API accepts photos and screenshots from videos to train your custom object detector."
   ]
  },
  {
   "cell_type": "code",
   "execution_count": 13,
   "metadata": {},
   "outputs": [],
   "source": [
    "from google.cloud import automl\n",
    "from datetime import datetime\n",
    "import os\n",
    "import glob\n",
    "import pandas as pd"
   ]
  },
  {
   "cell_type": "markdown",
   "metadata": {},
   "source": [
    "Set the following variables."
   ]
  },
  {
   "cell_type": "code",
   "execution_count": 17,
   "metadata": {},
   "outputs": [],
   "source": [
    "FILE_PATH = os.getcwd()\n",
    "os.environ[\"GOOGLE_APPLICATION_CREDENTIALS\"] = \"/Users/SusanneGov/Documents/My First Project-bcfca3ee21b0.json\" # replace with your JSON path\n",
    "project_id = \"micro-progress-275116\"\n",
    "bucket_name = \"overhead-signs\" # The name you want the photos to be put in Google Cloud storage\n",
    "folders = ['test_photos'] # Add local folder name or multiple folders used for training data"
   ]
  },
  {
   "cell_type": "markdown",
   "metadata": {},
   "source": [
    "We will create an CSV of unlabeled images from an existing folder on the local computer. For the guide, we will be using the 'test_photos' folder. The CSV columns are set to 10 columns.\n",
    "\n",
    "<b>label,image_path,x1,y1,None,None,x2,y2,None,None</b>\n",
    "- label is the label for bounding box\n",
    "- image_path is the Google Cloud Storage path\n",
    "- x1/x2 and y1/y2 are coordinates of bounding box\n",
    "- None is simply blank column"
   ]
  },
  {
   "cell_type": "code",
   "execution_count": 30,
   "metadata": {},
   "outputs": [],
   "source": [
    "png_list = [] # keep it empty \n",
    "for f in folders:\n",
    "    google_url = r'gs://{0}/{1}/'.format(bucket_name,f)\n",
    "    for file in glob.glob(FILE_PATH + \"//\" + f + '/*.png'):\n",
    "        value = (google_url + os.path.basename(file),\n",
    "                 '','','','','','','','','')\n",
    "        png_list.append(value)  \n",
    "png_df = pd.DataFrame(png_list)\n",
    "png_df['set'] = 'UNASSIGNED'\n",
    "output_csv = FILE_PATH + \"//\" + bucket_name + \"-\" + datetime.now().strftime(\"%m%d%Y\") + \".csv\"\n",
    "png_df.set_index('set').to_csv(output_csv,header=None)"
   ]
  },
  {
   "cell_type": "markdown",
   "metadata": {},
   "source": [
    "## Importing Photos and CSV file in Google Cloud Storage\n",
    "After the CSV has been created, you need to upload the photos and CSV you plan to use to train your object detector onto the Google Cloud Storage https://console.cloud.google.com/storage \n",
    "\n",
    "1) Set up a \"bucket\" to put the folder(s) of photos and csv files in.\n",
    "\n",
    "![photo](6.png)\n",
    "\n",
    "2) After bucket has been created, we can start importing the folder containing photos and the CSV file created in Python.\n",
    "\n",
    "![photo](.png)\n",
    "labeling the photos data."
   ]
  },
  {
   "cell_type": "code",
   "execution_count": 3,
   "metadata": {},
   "outputs": [
    {
     "name": "stdout",
     "output_type": "stream",
     "text": [
      "Dataset name: projects/409520144140/locations/us-central1/datasets/IOD3508489927186710528\n",
      "Dataset id: IOD3508489927186710528\n"
     ]
    }
   ],
   "source": [
    "client = automl.AutoMlClient()\n",
    "\n",
    "# A resource that represents Google Cloud Platform location.\n",
    "project_location = client.location_path(project_id, \"us-central1\")\n",
    "metadata = automl.types.ImageObjectDetectionDatasetMetadata()\n",
    "dataset = automl.types.Dataset(\n",
    "    display_name=display_name,\n",
    "    image_object_detection_dataset_metadata=metadata,\n",
    ")\n",
    "\n",
    "# Create a dataset with the dataset metadata in the region.\n",
    "response = client.create_dataset(project_location, dataset)\n",
    "\n",
    "created_dataset = response.result()\n",
    "\n",
    "# Display the dataset information\n",
    "print(\"Dataset name: {}\".format(created_dataset.name))\n",
    "print(\"Dataset id: {}\".format(created_dataset.name.split(\"/\")[-1]))"
   ]
  }
 ],
 "metadata": {
  "kernelspec": {
   "display_name": "Python 3",
   "language": "python",
   "name": "python3"
  },
  "language_info": {
   "codemirror_mode": {
    "name": "ipython",
    "version": 3
   },
   "file_extension": ".py",
   "mimetype": "text/x-python",
   "name": "python",
   "nbconvert_exporter": "python",
   "pygments_lexer": "ipython3",
   "version": "3.8.2"
  }
 },
 "nbformat": 4,
 "nbformat_minor": 4
}
