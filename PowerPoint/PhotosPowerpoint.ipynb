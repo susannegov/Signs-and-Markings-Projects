{
 "cells": [
  {
   "cell_type": "markdown",
   "metadata": {},
   "source": [
    "# Photos to PowerPoint\n",
    "The purpose of the notebook is to import all photos that currently reside as a local G drive folder into the powerpoint presentation."
   ]
  },
  {
   "cell_type": "code",
   "execution_count": 19,
   "metadata": {},
   "outputs": [],
   "source": [
    "from pptx import Presentation\n",
    "from pptx.util import Inches\n",
    "from pptx.enum.shapes import MSO_SHAPE\n",
    "import glob"
   ]
  },
  {
   "cell_type": "code",
   "execution_count": 29,
   "metadata": {},
   "outputs": [],
   "source": [
    "# Retrieve all img paths! list in list\n",
    "#img_paths = [glob.glob(\"G:\\ATD\\Signs_and_Markings\\SIGNS\\Photos_Videos\\**\\*.jpg\"),\n",
    "#             glob.glob(\"G:\\ATD\\Signs_and_Markings\\MARKINGS\\Photos_Videos\\**\\*.jpg\")]\n",
    "img_paths = [glob.glob(\"G:\\ATD\\Signs_and_Markings\\MISC_PROJECTS\\Photos_TechRoom_TV\\*.jpg\")]\n",
    "\n",
    "# Go to this file path -> G:\\ATD\\Signs_and_Markings\\MISC_PROJECTS\n",
    "# riverside priority lane\n",
    "# EOC - Circuits of the Americas\n",
    "# South Congress Ave Project 2020\n",
    "# G:\\ATD\\Signs_and_Markings\\MISC_PROJECTS\\Graffiti\\Pfluger Bridge\\Appreciation Luncheon\n",
    "# G:\\ATD\\Signs_and_Markings\\MISC_PROJECTS\\Graffiti\\Pfluger Bridge\\Pfluger Ped Bridge Photos\n",
    "error_paths = []\n",
    "#print(img_paths)"
   ]
  },
  {
   "cell_type": "markdown",
   "metadata": {},
   "source": [
    "# Notes\n",
    "The ratio for powerpoint slide is: 13.33\" x 7.5\" or 1279px x 720px"
   ]
  },
  {
   "cell_type": "code",
   "execution_count": 28,
   "metadata": {},
   "outputs": [],
   "source": [
    "prs = Presentation()\n",
    "width = Inches(13.33)\n",
    "height = Inches(7.5)\n",
    "prs.slide_width = width\n",
    "prs.slide_height = height\n",
    "blank_slide_layout = prs.slide_layouts[6]\n",
    "for img_path in img_paths:\n",
    "    for i in img_path:\n",
    "        try:\n",
    "            slide = prs.slides.add_slide(blank_slide_layout)\n",
    "            left = top = Inches(0)\n",
    "            # Add photo\n",
    "            pic = slide.shapes.add_picture(i, left, top, width, height)\n",
    "            # Add file path of photo\n",
    "            shape = slide.shapes\n",
    "            title = shape.add_textbox(Inches(0.25),Inches(0.4),Inches(7.5),Inches(0.75))\n",
    "            tf = title.text_frame\n",
    "            tf.clear()\n",
    "            p = tf.paragraphs[0]\n",
    "            run = p.add_run()\n",
    "            run.text = i\n",
    "            hlink = run.hyperlink\n",
    "            hlink.address = i.rsplit('\\\\',1)[0]\n",
    "        except:\n",
    "            error_paths.append(i)\n",
    "            pass\n",
    "prs.save(r'G:\\ATD\\Signs_and_Markings\\MISC_PROJECTS\\Photos_TechRoom_TV\\TV.pptx')"
   ]
  },
  {
   "cell_type": "code",
   "execution_count": 23,
   "metadata": {},
   "outputs": [
    {
     "name": "stdout",
     "output_type": "stream",
     "text": [
      "There were 5 photos not added out of 12 photos.\n"
     ]
    }
   ],
   "source": [
    "total = int(len(img_paths[0]))\n",
    "print(\"There were {} photos not added out of {} photos.\".format(len(error_paths), total))"
   ]
  },
  {
   "cell_type": "code",
   "execution_count": null,
   "metadata": {},
   "outputs": [],
   "source": []
  }
 ],
 "metadata": {
  "kernelspec": {
   "display_name": "Python [conda env:root] *",
   "language": "python",
   "name": "conda-root-py"
  },
  "language_info": {
   "codemirror_mode": {
    "name": "ipython",
    "version": 3
   },
   "file_extension": ".py",
   "mimetype": "text/x-python",
   "name": "python",
   "nbconvert_exporter": "python",
   "pygments_lexer": "ipython3",
   "version": "3.6.10"
  }
 },
 "nbformat": 4,
 "nbformat_minor": 4
}
