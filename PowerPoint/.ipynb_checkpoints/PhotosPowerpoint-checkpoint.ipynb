{
 "cells": [
  {
   "cell_type": "markdown",
   "metadata": {},
   "source": [
    "# Photos to PowerPoint\n",
    "The purpose of the notebook is to import all photos that currently reside as a local G drive folder into the powerpoint presentation."
   ]
  },
  {
   "cell_type": "code",
   "execution_count": 41,
   "metadata": {},
   "outputs": [],
   "source": [
    "from pptx import Presentation\n",
    "from pptx.util import Inches\n",
    "from pptx.enum.shapes import MSO_SHAPE\n",
    "import glob"
   ]
  },
  {
   "cell_type": "code",
   "execution_count": 27,
   "metadata": {},
   "outputs": [],
   "source": [
    "# Retrieve all img paths! list in list\n",
    "img_paths = [glob.glob(\"G:\\ATD\\Signs_and_Markings\\SIGNS\\Photos_Videos\\**\\*.jpg\"),glob.glob(\"G:\\ATD\\Signs_and_Markings\\MARKINGS\\Photos_Videos\\**\\*.jpg\")]\n",
    "error_paths = []"
   ]
  },
  {
   "cell_type": "markdown",
   "metadata": {},
   "source": [
    "# Notes\n",
    "The ratio for powerpoint slide is: 13.33\" x 7.5\" or 1279px x 720px"
   ]
  },
  {
   "cell_type": "code",
   "execution_count": 54,
   "metadata": {},
   "outputs": [],
   "source": [
    "prs = Presentation()\n",
    "width = Inches(13.33)\n",
    "height = Inches(7.5)\n",
    "prs.slide_width = width\n",
    "prs.slide_height = height\n",
    "blank_slide_layout = prs.slide_layouts[6]\n",
    "for img_path in img_paths:\n",
    "    for i in img_path:\n",
    "        try:\n",
    "            slide = prs.slides.add_slide(blank_slide_layout)\n",
    "            left = top = Inches(0)\n",
    "            # Add photo\n",
    "            pic = slide.shapes.add_picture(i, left, top, width, height)\n",
    "            # Add file path of photo\n",
    "            shape = slide.shapes\n",
    "            title = shape.add_textbox(Inches(0.25),Inches(0.4),Inches(7.5),Inches(0.75))\n",
    "            tf = title.text_frame\n",
    "            tf.clear()\n",
    "            p = tf.paragraphs[0]\n",
    "            run = p.add_run()\n",
    "            run.text = i\n",
    "            hlink = run.hyperlink\n",
    "            hlink.address = i.rsplit('\\\\',1)[0]\n",
    "        except:\n",
    "            error_paths.append(i)\n",
    "            pass\n",
    "prs.save('test.pptx')"
   ]
  },
  {
   "cell_type": "code",
   "execution_count": 36,
   "metadata": {},
   "outputs": [
    {
     "name": "stdout",
     "output_type": "stream",
     "text": [
      "There were 1164 photos not added out of 1164 photos.\n"
     ]
    }
   ],
   "source": [
    "total = int(len(img_paths[0]) + len(img_paths[1]))\n",
    "print(\"There were {} photos not added out of {} photos.\".format(len(error_paths), total))"
   ]
  },
  {
   "cell_type": "code",
   "execution_count": null,
   "metadata": {},
   "outputs": [],
   "source": []
  }
 ],
 "metadata": {
  "kernelspec": {
   "display_name": "Python [conda env:root] *",
   "language": "python",
   "name": "conda-root-py"
  },
  "language_info": {
   "codemirror_mode": {
    "name": "ipython",
    "version": 3
   },
   "file_extension": ".py",
   "mimetype": "text/x-python",
   "name": "python",
   "nbconvert_exporter": "python",
   "pygments_lexer": "ipython3",
   "version": "3.6.10"
  }
 },
 "nbformat": 4,
 "nbformat_minor": 4
}
