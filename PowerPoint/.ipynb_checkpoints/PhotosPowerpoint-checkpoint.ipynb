{
 "cells": [
  {
   "cell_type": "markdown",
   "metadata": {},
   "source": [
    "# Photos to PowerPoint\n",
    "The purpose of the notebook is to import all photos that currently reside as a local G drive folder into the powerpoint presentation."
   ]
  },
  {
   "cell_type": "code",
   "execution_count": 1,
   "metadata": {},
   "outputs": [],
   "source": [
    "from pptx import Presentation\n",
    "from pptx.util import Inches\n",
    "from pptx.enum.shapes import MSO_SHAPE\n",
    "from pptx.dml.color import ColorFormat, RGBColor\n",
    "from pptx.enum.text import PP_ALIGN\n",
    "import glob\n",
    "import PIL\n",
    "from PIL import Image\n",
    "from PIL.ExifTags import TAGS\n",
    "from io import BytesIO\n",
    "from datetime import datetime"
   ]
  },
  {
   "cell_type": "code",
   "execution_count": 2,
   "metadata": {},
   "outputs": [],
   "source": [
    "# Retrieve all img paths! list in list\n",
    "IMG_PATH = \"G:\\ATD\\Signs_and_Markings\\MISC_PROJECTS\\\\\"\n",
    "img_paths = [glob.glob(IMG_PATH + \"Photos_TechRoom_TV\\TV Use\\**\\*.jpg\")] # This one searches all subfolders"
   ]
  },
  {
   "cell_type": "markdown",
   "metadata": {},
   "source": [
    "Converting any MPO to jpg.\n",
    "\n",
    "EDIT: Encountering errors after adding the Photos_Videos folders. To do >>>> check link https://stackoverflow.com/questions/31077366/pil-cannot-identify-image-file-for-io-bytesio-object"
   ]
  },
  {
   "cell_type": "code",
   "execution_count": 3,
   "metadata": {},
   "outputs": [],
   "source": [
    "def split_mpo(filename):\n",
    "    with open(filename, 'rb') as f:\n",
    "        data = f.read()\n",
    "        # Look for the hex string 0xFFD9FFD8FFE1:\n",
    "        #   0xFFD9 represents the end of the first JPEG image\n",
    "        #   0xFFD8FFE1 marks the start of the appended JPEG image\n",
    "        idx = data.find(b'\\xFF\\xD8\\xFF\\xE1', 1)\n",
    "        if idx > 0:\n",
    "            file = Image.open(BytesIO(data[: idx]))\n",
    "            newfilepath = filename.split(\"\\\\\")\n",
    "            newfilepath = IMG_PATH + r'\\Photos_TechRoom_TV\\MPO_Flat\\\\'+ str(newfilepath[-1])\n",
    "            if file is not None:\n",
    "                file.save(newfilepath)\n",
    "                file.close()\n",
    "                return newfilepath\n",
    "        else:\n",
    "            return filename"
   ]
  },
  {
   "cell_type": "markdown",
   "metadata": {},
   "source": [
    "Retrieve metadata of photos."
   ]
  },
  {
   "cell_type": "code",
   "execution_count": 13,
   "metadata": {},
   "outputs": [],
   "source": [
    "def exifHarvest(filename):\n",
    "    # These variables must declared first\n",
    "    image = Image.open(filename)\n",
    "    metadata = image.getexif()\n",
    "    xpComment = \"\"\n",
    "    orientation = 1\n",
    "    date = \"\"\n",
    "    \n",
    "    if metadata is not None:\n",
    "        \n",
    "        for tag_id in metadata:\n",
    "            # get the tag name, instead of human unreadable tag id\n",
    "            tag = TAGS.get(tag_id, tag_id)\n",
    "            # print(tag) # tests what tags available\n",
    "            if tag == \"ImageDescription\":\n",
    "                data = metadata.get(tag_id)\n",
    "                if isinstance(data, bytes):\n",
    "                    data = data.decode('latin-1')#.decode('utf-8') #latin-1\n",
    "                #print(f\"{tag:25}, {data}\")\n",
    "                xpComment = data\n",
    "            if tag == \"Orientation\":\n",
    "                orientation = metadata.get(tag_id)\n",
    "            if tag == \"DateTime\":\n",
    "                date = metadata.get(tag_id)\n",
    "                date = datetime.strptime(date, '%Y:%m:%d %H:%M:%S').strftime(\"%B %d %Y\")\n",
    "        #imgSize = (metadata.get(\"ImageWidth\"), metadata.get(\"ImageLength\"))\n",
    "        #imgComment = metadata.get(0x010e)\n",
    "        #print(metadata)\n",
    "        return {\"size\": image.size, \"comment\": xpComment, \"orientation\":orientation, \"date\":date}"
   ]
  },
  {
   "cell_type": "markdown",
   "metadata": {},
   "source": [
    "This method removes control characters in the user comments on the photo metadata."
   ]
  },
  {
   "cell_type": "code",
   "execution_count": 5,
   "metadata": {},
   "outputs": [],
   "source": [
    "import unicodedata\n",
    "def remove_control_characters(s):\n",
    "    return \"\".join(ch for ch in s if unicodedata.category(ch)[0] != \"C\")"
   ]
  },
  {
   "cell_type": "markdown",
   "metadata": {},
   "source": [
    "Testing photo"
   ]
  },
  {
   "cell_type": "code",
   "execution_count": 15,
   "metadata": {},
   "outputs": [],
   "source": [
    "exifHarvest(r\"G:\\ATD\\Signs_and_Markings\\MISC_PROJECTS\\Photos_TechRoom_TV\\TV Use\\Black_Artists_06_16_2020\\20200616_053648.jpg\");"
   ]
  },
  {
   "cell_type": "markdown",
   "metadata": {},
   "source": [
    "# Notes\n",
    "The ratio for powerpoint slide is: 13.33\" x 7.5\" or 1279px x 720px. If Memory Error occurs, restart the kernal or remove bloated folders."
   ]
  },
  {
   "cell_type": "code",
   "execution_count": 16,
   "metadata": {},
   "outputs": [
    {
     "name": "stdout",
     "output_type": "stream",
     "text": [
      "done\n"
     ]
    }
   ],
   "source": [
    "error_paths = []\n",
    "prs = Presentation()\n",
    "width = Inches(13.33)\n",
    "height = Inches(7.5)\n",
    "prs.slide_width = width\n",
    "prs.slide_height = height\n",
    "blank_slide_layout = prs.slide_layouts[6] \n",
    "for img_path in img_paths:\n",
    "    for i in img_path:\n",
    "        x = split_mpo(i)\n",
    "        slide = prs.slides.add_slide(blank_slide_layout)\n",
    "        \n",
    "        # Make the slide a black color\n",
    "        background = slide.background\n",
    "        fill = background.fill\n",
    "        fill.solid()\n",
    "        fill.fore_color.rgb = RGBColor(0, 0, 0)\n",
    "        \n",
    "        try:\n",
    "            metadata = exifHarvest(x)\n",
    "            top = Inches(0)\n",
    "            \n",
    "            shape = slide.shapes\n",
    "            \n",
    "            # Size photo\n",
    "            imgratio = metadata[\"size\"][0]/metadata[\"size\"][1]\n",
    "            localheight = height\n",
    "            \n",
    "            # if pic is rotated\n",
    "            if (metadata[\"orientation\"] == 6 or metadata[\"orientation\"] == 8):\n",
    "                localheight = localheight/imgratio\n",
    "                top = (height-localheight)/2\n",
    "                #imgratio = 1/imgratio\n",
    "            \n",
    "            # move image up to make room\n",
    "            localheight = localheight - Inches(0.5)\n",
    "\n",
    "            # Add comment\n",
    "            title = shape.add_textbox(Inches(0.25),height-Inches(0.5), width - Inches(0.5),Inches(0.75))\n",
    "            tf = title.text_frame\n",
    "            tf.clear()\n",
    "            p = tf.paragraphs[0]\n",
    "            p.alignment = PP_ALIGN.CENTER\n",
    "            run = p.add_run()\n",
    "            run.font.color.rgb = RGBColor(0xFF, 0xFF, 0xFF)\n",
    "            comment = remove_control_characters(metadata[\"comment\"])\n",
    "            date_comment = remove_control_characters(metadata[\"date\"])\n",
    "            run.text = comment + \" ({})\".format(date_comment)\n",
    "            # hlink = run.hyperlink\n",
    "           # hlink.address = i.rsplit('\\\\',1)[0]\n",
    "            \n",
    "            # Add centered photo\n",
    "            left = (width - localheight*imgratio)/2\n",
    "            pic = shape.add_picture(x, left, top, localheight*imgratio, localheight)\n",
    "            \n",
    "            # Rotate if needed\n",
    "            if (metadata[\"orientation\"] == 6):\n",
    "                pic.rotation = 90\n",
    "            if (metadata[\"orientation\"] == 8):\n",
    "                pic.rotation = 270    \n",
    "\n",
    "        except Exception as e:\n",
    "            print(e)\n",
    "            error_paths.append(i)\n",
    "            pass\n",
    "prs.save(r'G:\\ATD\\Signs_and_Markings\\MISC_PROJECTS\\Photos_TechRoom_TV\\TV.pptx')\n",
    "print(\"done\")"
   ]
  },
  {
   "cell_type": "code",
   "execution_count": 7,
   "metadata": {},
   "outputs": [
    {
     "name": "stdout",
     "output_type": "stream",
     "text": [
      "[]\n"
     ]
    }
   ],
   "source": [
    "print(error_paths)"
   ]
  },
  {
   "cell_type": "code",
   "execution_count": null,
   "metadata": {},
   "outputs": [],
   "source": []
  }
 ],
 "metadata": {
  "kernelspec": {
   "display_name": "Python [conda env:root] *",
   "language": "python",
   "name": "conda-root-py"
  },
  "language_info": {
   "codemirror_mode": {
    "name": "ipython",
    "version": 3
   },
   "file_extension": ".py",
   "mimetype": "text/x-python",
   "name": "python",
   "nbconvert_exporter": "python",
   "pygments_lexer": "ipython3",
   "version": "3.6.13"
  }
 },
 "nbformat": 4,
 "nbformat_minor": 4
}
