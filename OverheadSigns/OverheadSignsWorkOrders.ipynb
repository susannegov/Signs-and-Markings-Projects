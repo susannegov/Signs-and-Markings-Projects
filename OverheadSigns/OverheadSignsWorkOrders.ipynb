{
 "cells": [
  {
   "cell_type": "markdown",
   "metadata": {},
   "source": [
    "# Overhead Signs Work Order Creation\n",
    "--------------------------------------------------\n",
    "The purpose of this script is to create work orders of overhead street name signs. The information for work orders are created from a feature layer of operational maintenance areas intersecting signalized intersections.\n",
    "\n",
    "Disclaimer: "
   ]
  },
  {
   "cell_type": "markdown",
   "metadata": {},
   "source": [
    "## Imports"
   ]
  },
  {
   "cell_type": "code",
   "execution_count": 31,
   "metadata": {},
   "outputs": [],
   "source": [
    "from arcgis.gis import GIS\n",
    "from arcgis.features import FeatureLayer,GeoAccessor, GeoSeriesAccessor\n",
    "from arcgis.features.manage_data import overlay_layers\n",
    "from pathlib import Path\n",
    "import datetime\n",
    "import pandas as pd\n",
    "import openpyxl\n",
    "from selenium import webdriver\n",
    "from selenium.webdriver.chrome.options import Options\n",
    "import time\n",
    "import io\n",
    "import os\n",
    "import sys\n",
    "from google.cloud import automl_v1beta1\n",
    "from google.cloud.automl_v1beta1.proto import service_pb2\n",
    "from datetime import date\n",
    "from pptx import Presentation\n",
    "from pptx.util import Inches, Pt\n",
    "from pptx.dml.color import RGBColor\n",
    "import win32com.client"
   ]
  },
  {
   "cell_type": "markdown",
   "metadata": {},
   "source": [
    "## Constants\n",
    "Set constants of the notebook."
   ]
  },
  {
   "cell_type": "code",
   "execution_count": 2,
   "metadata": {},
   "outputs": [],
   "source": [
    "URL = r\"https://services.arcgis.com/0L95CJ0VTaxqcmED/arcgis/rest/services/{}/FeatureServer/0\"\n",
    "AUTHOR = \"Susanne Gov\"\n",
    "FILE_PATH = str(Path.cwd())\n",
    "YEAR = 2020\n",
    "TABLE_NAME = FILE_PATH + r\"/OverheadSigns_FY{}.xlsx\".format(str(YEAR))\n",
    "DIRECTIONS = list(\"NSEW\")"
   ]
  },
  {
   "cell_type": "markdown",
   "metadata": {},
   "source": [
    "## Part 1: Setup Table"
   ]
  },
  {
   "cell_type": "markdown",
   "metadata": {},
   "source": [
    "<b>This step can be skipped if the Excel file is already in the folder. </b>"
   ]
  },
  {
   "cell_type": "markdown",
   "metadata": {},
   "source": [
    "Set variables for analysis layer title and columns for table."
   ]
  },
  {
   "cell_type": "code",
   "execution_count": 5,
   "metadata": {},
   "outputs": [],
   "source": [
    "overhead = \"Signs Markings Maintenance\"\n",
    "col = ['COA_INTERSECTION_ID','FY_OVERHEAD_SIGN_MAINT','LOCATION_NAME','LATITUDE','LONGITUDE']"
   ]
  },
  {
   "cell_type": "markdown",
   "metadata": {},
   "source": [
    "Acccess COA account"
   ]
  },
  {
   "cell_type": "code",
   "execution_count": 9,
   "metadata": {},
   "outputs": [
    {
     "name": "stdout",
     "output_type": "stream",
     "text": [
      "Please sign in to your GIS and paste the code that is obtained below.\n",
      "If a web browser does not automatically open, please navigate to the URL below yourself instead.\n",
      "Opening web browser to navigate to: https://austin.maps.arcgis.com/sharing/rest//oauth2/authorize?response_type=code&client_id=CrnxPfTcm7Y7ZGl7&redirect_uri=urn%3Aietf%3Awg%3Aoauth%3A2.0%3Aoob&state=09ydjpBYibdBZDv8MEmG6Upb0Rby8D\n"
     ]
    },
    {
     "name": "stdin",
     "output_type": "stream",
     "text": [
      "Enter code obtained on signing in using SAML:  ············································································································································································································································\n"
     ]
    },
    {
     "name": "stderr",
     "output_type": "stream",
     "text": [
      "/anaconda3/envs/py382/lib/python3.8/site-packages/urllib3/connectionpool.py:997: InsecureRequestWarning: Unverified HTTPS request is being made to host 'austin.maps.arcgis.com'. Adding certificate verification is strongly advised. See: https://urllib3.readthedocs.io/en/latest/advanced-usage.html#ssl-warnings\n",
      "  warnings.warn(\n"
     ]
    }
   ],
   "source": [
    "gis = GIS(\"https://austin.maps.arcgis.com/\", client_id='CrnxPfTcm7Y7ZGl7')"
   ]
  },
  {
   "cell_type": "markdown",
   "metadata": {},
   "source": [
    "Retrieve locations of signalized intersections intersecting operational maintenance areas to publish into a folder and excel worksheet."
   ]
  },
  {
   "cell_type": "code",
   "execution_count": null,
   "metadata": {},
   "outputs": [],
   "source": [
    "# This intersect analysis has already been completed\n",
    "#signals = FeatureLayer(URL.format(\"TRANSPORTATION_signals2\"))\n",
    "#oma = FeatureLayer(URL.format(\"Signs_Markings_OMA\")) #OMA layer will be on AGOL\n",
    "#analysis = overlay_layers(oma,signals,overlay_type=\"Intersect\", output_name=overhead)"
   ]
  },
  {
   "cell_type": "markdown",
   "metadata": {},
   "source": [
    "Retrieve overhead feature layer."
   ]
  },
  {
   "cell_type": "code",
   "execution_count": null,
   "metadata": {},
   "outputs": [],
   "source": [
    "fl = pd.DataFrame.spatial.from_layer(FeatureLayer(URL.format(overhead))).set_index(\"SIGNAL_ID\")"
   ]
  },
  {
   "cell_type": "markdown",
   "metadata": {},
   "source": [
    "Query and filter dataset. Add columns for Google URL, N,S,E,W, and Created By."
   ]
  },
  {
   "cell_type": "code",
   "execution_count": 33,
   "metadata": {},
   "outputs": [
    {
     "data": {
      "text/html": [
       "<div>\n",
       "<style scoped>\n",
       "    .dataframe tbody tr th:only-of-type {\n",
       "        vertical-align: middle;\n",
       "    }\n",
       "\n",
       "    .dataframe tbody tr th {\n",
       "        vertical-align: top;\n",
       "    }\n",
       "\n",
       "    .dataframe thead th {\n",
       "        text-align: right;\n",
       "    }\n",
       "</style>\n",
       "<table border=\"1\" class=\"dataframe\">\n",
       "  <thead>\n",
       "    <tr style=\"text-align: right;\">\n",
       "      <th></th>\n",
       "      <th>COA_INTERSECTION_ID</th>\n",
       "      <th>FY_OVERHEAD_SIGN_MAINT</th>\n",
       "      <th>LOCATION_NAME</th>\n",
       "      <th>LATITUDE</th>\n",
       "      <th>LONGITUDE</th>\n",
       "      <th>GOOGLE_URL</th>\n",
       "      <th>N</th>\n",
       "      <th>S</th>\n",
       "      <th>E</th>\n",
       "      <th>W</th>\n",
       "      <th>CREATED_BY</th>\n",
       "    </tr>\n",
       "  </thead>\n",
       "  <tbody>\n",
       "    <tr>\n",
       "      <th>88</th>\n",
       "      <td>5157283.0</td>\n",
       "      <td>2020</td>\n",
       "      <td>BURNET RD / HANCOCK DR</td>\n",
       "      <td>None</td>\n",
       "      <td>None</td>\n",
       "      <td>https://www.google.com/maps/place/BURNET+RD+%2...</td>\n",
       "      <td>NaN</td>\n",
       "      <td>NaN</td>\n",
       "      <td>NaN</td>\n",
       "      <td>NaN</td>\n",
       "      <td>Susanne Gov</td>\n",
       "    </tr>\n",
       "    <tr>\n",
       "      <th>104</th>\n",
       "      <td>5155653.0</td>\n",
       "      <td>2020</td>\n",
       "      <td>LAMAR BLVD / PARKWAY</td>\n",
       "      <td>None</td>\n",
       "      <td>None</td>\n",
       "      <td>https://www.google.com/maps/place/LAMAR+BLVD+%...</td>\n",
       "      <td>NaN</td>\n",
       "      <td>NaN</td>\n",
       "      <td>NaN</td>\n",
       "      <td>NaN</td>\n",
       "      <td>Susanne Gov</td>\n",
       "    </tr>\n",
       "    <tr>\n",
       "      <th>111</th>\n",
       "      <td>5155479.0</td>\n",
       "      <td>2020</td>\n",
       "      <td>35TH ST / JEFFERSON ST</td>\n",
       "      <td>None</td>\n",
       "      <td>None</td>\n",
       "      <td>https://www.google.com/maps/place/35TH+ST+%26+...</td>\n",
       "      <td>NaN</td>\n",
       "      <td>NaN</td>\n",
       "      <td>NaN</td>\n",
       "      <td>NaN</td>\n",
       "      <td>Susanne Gov</td>\n",
       "    </tr>\n",
       "    <tr>\n",
       "      <th>205</th>\n",
       "      <td>5153995.0</td>\n",
       "      <td>2020</td>\n",
       "      <td>6TH ST / CAMPBELL ST</td>\n",
       "      <td>None</td>\n",
       "      <td>None</td>\n",
       "      <td>https://www.google.com/maps/place/6TH+ST+%26+C...</td>\n",
       "      <td>NaN</td>\n",
       "      <td>NaN</td>\n",
       "      <td>NaN</td>\n",
       "      <td>NaN</td>\n",
       "      <td>Susanne Gov</td>\n",
       "    </tr>\n",
       "    <tr>\n",
       "      <th>209</th>\n",
       "      <td>5154661.0</td>\n",
       "      <td>2020</td>\n",
       "      <td>12TH ST / WEST LYNN ST</td>\n",
       "      <td>None</td>\n",
       "      <td>None</td>\n",
       "      <td>https://www.google.com/maps/place/12TH+ST+%26+...</td>\n",
       "      <td>NaN</td>\n",
       "      <td>NaN</td>\n",
       "      <td>NaN</td>\n",
       "      <td>NaN</td>\n",
       "      <td>Susanne Gov</td>\n",
       "    </tr>\n",
       "  </tbody>\n",
       "</table>\n",
       "</div>"
      ],
      "text/plain": [
       "     COA_INTERSECTION_ID FY_OVERHEAD_SIGN_MAINT            LOCATION_NAME  \\\n",
       "88             5157283.0                   2020   BURNET RD / HANCOCK DR   \n",
       "104            5155653.0                   2020    LAMAR BLVD / PARKWAY    \n",
       "111            5155479.0                   2020   35TH ST / JEFFERSON ST   \n",
       "205            5153995.0                   2020     6TH ST / CAMPBELL ST   \n",
       "209            5154661.0                   2020   12TH ST / WEST LYNN ST   \n",
       "\n",
       "    LATITUDE LONGITUDE                                         GOOGLE_URL  \\\n",
       "88      None      None  https://www.google.com/maps/place/BURNET+RD+%2...   \n",
       "104     None      None  https://www.google.com/maps/place/LAMAR+BLVD+%...   \n",
       "111     None      None  https://www.google.com/maps/place/35TH+ST+%26+...   \n",
       "205     None      None  https://www.google.com/maps/place/6TH+ST+%26+C...   \n",
       "209     None      None  https://www.google.com/maps/place/12TH+ST+%26+...   \n",
       "\n",
       "       N    S    E    W   CREATED_BY  \n",
       "88   NaN  NaN  NaN  NaN  Susanne Gov  \n",
       "104  NaN  NaN  NaN  NaN  Susanne Gov  \n",
       "111  NaN  NaN  NaN  NaN  Susanne Gov  \n",
       "205  NaN  NaN  NaN  NaN  Susanne Gov  \n",
       "209  NaN  NaN  NaN  NaN  Susanne Gov  "
      ]
     },
     "metadata": {},
     "output_type": "display_data"
    }
   ],
   "source": [
    "df = fl.query(\"FY_OVERHEAD_SIGN_MAINT == {}\".format(str(YEAR)).filter(items=col)\n",
    "g_url = \"https://www.google.com/maps/place/{},+Austin,+TX\"\n",
    "gmap = df['LOCATION_NAME'].apply(lambda x: g_url.format(x.lstrip().replace(\" / \",\"+%26+\").replace(\" \",\"+\").split(\"(\", 1)[0]))\n",
    "gmap = pd.DataFrame(gmap).rename(columns={\"LOCATION_NAME\":\"GOOGLE_URL\"})\n",
    "df = pd.concat([df.join(gmap),pd.DataFrame(columns=DIRECTIONS)],sort=False)\n",
    "df['CREATED_BY'] = AUTHOR\n",
    "df.to_excel(TABLE_NAME, sheet_name='OMA_Signals')\n",
    "display(df.head()) # Display first 5 rows"
   ]
  },
  {
   "cell_type": "code",
   "execution_count": 29,
   "metadata": {},
   "outputs": [
    {
     "data": {
      "text/plain": [
       "548"
      ]
     },
     "execution_count": 29,
     "metadata": {},
     "output_type": "execute_result"
    }
   ],
   "source": [
    "# Estimate photos to to input manually. Multiplied by 4 by number of signal poles.\n",
    "df['GOOGLE_URL'].count() * 4"
   ]
  },
  {
   "cell_type": "markdown",
   "metadata": {},
   "source": [
    "## Part 2: Retrieve Photos from URL"
   ]
  },
  {
   "cell_type": "markdown",
   "metadata": {},
   "source": [
    "After the excel spreadsheet has been created, <b>manually retrieve the google streetview urls of overhead signal poles for 2020 maintenance.</b> The goal of collecthing these URLS is to eventually generate photos of overhead traffic signs in need of maintenance."
   ]
  },
  {
   "cell_type": "code",
   "execution_count": 3,
   "metadata": {},
   "outputs": [],
   "source": [
    "df = pd.read_excel(TABLE_NAME,index_col=0)"
   ]
  },
  {
   "cell_type": "code",
   "execution_count": 4,
   "metadata": {},
   "outputs": [],
   "source": [
    "options = Options()\n",
    "options.add_argument(\"--headless\")"
   ]
  },
  {
   "cell_type": "code",
   "execution_count": null,
   "metadata": {},
   "outputs": [],
   "source": [
    "driver = webdriver.Chrome(FILE_PATH + r'/chromedriver',options=options)\n",
    "driver.set_window_size(1600, 800) # set photo sizing\n",
    "for index, row in df.iterrows():\n",
    "    for x in DIRECTIONS:\n",
    "        link = row[x]\n",
    "        if type(link) == str and link != \"N/A\":\n",
    "            driver.get(link)\n",
    "            driver.execute_script(open(FILE_PATH + r\"/hide_ui.js\").read())\n",
    "            time.sleep(4) # wait for page to load\n",
    "            screenshot = driver.save_screenshot(FILE_PATH + r'/SignPhotos/{}_{}.png'.format(index,x))\n",
    "driver.quit()"
   ]
  },
  {
   "cell_type": "code",
   "execution_count": 4,
   "metadata": {},
   "outputs": [],
   "source": [
    "link = \"https://goo.gl/maps/5LqR3NoVdF6938cQA\"\n",
    "driver = webdriver.Chrome(FILE_PATH + r'/chromedriver',options=options)\n",
    "driver.set_window_size(1600, 800) # set photo sizing\n",
    "driver.get(link)\n",
    "driver.execute_script(open(FILE_PATH + r\"/hide_ui.js\").read())\n",
    "time.sleep(3) # wait for page to load\n",
    "screenshot = driver.save_screenshot(FILE_PATH + r'/SignPhotos/355_S.png')\n",
    "driver.quit()"
   ]
  },
  {
   "cell_type": "code",
   "execution_count": 21,
   "metadata": {},
   "outputs": [
    {
     "data": {
      "text/html": [
       "<div>\n",
       "<style scoped>\n",
       "    .dataframe tbody tr th:only-of-type {\n",
       "        vertical-align: middle;\n",
       "    }\n",
       "\n",
       "    .dataframe tbody tr th {\n",
       "        vertical-align: top;\n",
       "    }\n",
       "\n",
       "    .dataframe thead th {\n",
       "        text-align: right;\n",
       "    }\n",
       "</style>\n",
       "<table border=\"1\" class=\"dataframe\">\n",
       "  <thead>\n",
       "    <tr style=\"text-align: right;\">\n",
       "      <th></th>\n",
       "      <th>COA_INTERSECTION_ID</th>\n",
       "      <th>FY_OVERHEAD_SIGN_MAINT</th>\n",
       "      <th>LOCATION_NAME</th>\n",
       "      <th>LATITUDE</th>\n",
       "      <th>LONGITUDE</th>\n",
       "      <th>GOOGLE_URL</th>\n",
       "      <th>LINK</th>\n",
       "      <th>N</th>\n",
       "      <th>S</th>\n",
       "      <th>E</th>\n",
       "      <th>W</th>\n",
       "      <th>CREATED_BY</th>\n",
       "    </tr>\n",
       "  </thead>\n",
       "  <tbody>\n",
       "    <tr>\n",
       "      <th>88</th>\n",
       "      <td>5157283</td>\n",
       "      <td>2020</td>\n",
       "      <td>BURNET RD / HANCOCK DR</td>\n",
       "      <td>NaN</td>\n",
       "      <td>NaN</td>\n",
       "      <td>https://www.google.com/maps/place/BURNET+RD+%2...</td>\n",
       "      <td>https://www.google.com/maps/place/BURNET+RD+%2...</td>\n",
       "      <td>NaN</td>\n",
       "      <td>NaN</td>\n",
       "      <td>NaN</td>\n",
       "      <td>NaN</td>\n",
       "      <td>Susanne Gov</td>\n",
       "    </tr>\n",
       "    <tr>\n",
       "      <th>104</th>\n",
       "      <td>5155653</td>\n",
       "      <td>2020</td>\n",
       "      <td>LAMAR BLVD / PARKWAY</td>\n",
       "      <td>NaN</td>\n",
       "      <td>NaN</td>\n",
       "      <td>https://www.google.com/maps/place/LAMAR+BLVD+%...</td>\n",
       "      <td>https://www.google.com/maps/place/LAMAR+BLVD+%...</td>\n",
       "      <td>https://goo.gl/maps/52cUefr9qhs1Jb2U8</td>\n",
       "      <td>https://goo.gl/maps/kh62J1KTq46C6cpT6</td>\n",
       "      <td>NaN</td>\n",
       "      <td>NaN</td>\n",
       "      <td>Susanne Gov</td>\n",
       "    </tr>\n",
       "    <tr>\n",
       "      <th>111</th>\n",
       "      <td>5155479</td>\n",
       "      <td>2020</td>\n",
       "      <td>35TH ST / JEFFERSON ST</td>\n",
       "      <td>NaN</td>\n",
       "      <td>NaN</td>\n",
       "      <td>https://www.google.com/maps/place/35TH+ST+%26+...</td>\n",
       "      <td>https://www.google.com/maps/place/35TH+ST+%26+...</td>\n",
       "      <td>https://goo.gl/maps/DpaB8rqj2Lf2U2av9</td>\n",
       "      <td>https://goo.gl/maps/vJsALCV3zJKce9cBA</td>\n",
       "      <td>https://goo.gl/maps/SQMjudY1dz4NRNnv9</td>\n",
       "      <td>https://goo.gl/maps/YAUA7TnakpgK61Hy7</td>\n",
       "      <td>Susanne Gov</td>\n",
       "    </tr>\n",
       "    <tr>\n",
       "      <th>205</th>\n",
       "      <td>5153995</td>\n",
       "      <td>2020</td>\n",
       "      <td>6TH ST / CAMPBELL ST</td>\n",
       "      <td>NaN</td>\n",
       "      <td>NaN</td>\n",
       "      <td>https://www.google.com/maps/place/6TH+ST+%26+C...</td>\n",
       "      <td>https://www.google.com/maps/place/6TH+ST+%26+C...</td>\n",
       "      <td>https://goo.gl/maps/KXQWi8eaqSrZU4ug8</td>\n",
       "      <td>https://goo.gl/maps/Pyx1rpRorPyN512w5</td>\n",
       "      <td>NaN</td>\n",
       "      <td>https://goo.gl/maps/mdM4HZ2VK6WXGqiUA</td>\n",
       "      <td>Susanne Gov</td>\n",
       "    </tr>\n",
       "    <tr>\n",
       "      <th>209</th>\n",
       "      <td>5154661</td>\n",
       "      <td>2020</td>\n",
       "      <td>12TH ST / WEST LYNN ST</td>\n",
       "      <td>NaN</td>\n",
       "      <td>NaN</td>\n",
       "      <td>https://www.google.com/maps/place/12TH+ST+%26+...</td>\n",
       "      <td>https://www.google.com/maps/place/12TH+ST+%26+...</td>\n",
       "      <td>NaN</td>\n",
       "      <td>NaN</td>\n",
       "      <td>NaN</td>\n",
       "      <td>NaN</td>\n",
       "      <td>Susanne Gov</td>\n",
       "    </tr>\n",
       "  </tbody>\n",
       "</table>\n",
       "</div>"
      ],
      "text/plain": [
       "     COA_INTERSECTION_ID  FY_OVERHEAD_SIGN_MAINT            LOCATION_NAME  \\\n",
       "88               5157283                    2020   BURNET RD / HANCOCK DR   \n",
       "104              5155653                    2020    LAMAR BLVD / PARKWAY    \n",
       "111              5155479                    2020   35TH ST / JEFFERSON ST   \n",
       "205              5153995                    2020     6TH ST / CAMPBELL ST   \n",
       "209              5154661                    2020   12TH ST / WEST LYNN ST   \n",
       "\n",
       "     LATITUDE  LONGITUDE                                         GOOGLE_URL  \\\n",
       "88        NaN        NaN  https://www.google.com/maps/place/BURNET+RD+%2...   \n",
       "104       NaN        NaN  https://www.google.com/maps/place/LAMAR+BLVD+%...   \n",
       "111       NaN        NaN  https://www.google.com/maps/place/35TH+ST+%26+...   \n",
       "205       NaN        NaN  https://www.google.com/maps/place/6TH+ST+%26+C...   \n",
       "209       NaN        NaN  https://www.google.com/maps/place/12TH+ST+%26+...   \n",
       "\n",
       "                                                  LINK  \\\n",
       "88   https://www.google.com/maps/place/BURNET+RD+%2...   \n",
       "104  https://www.google.com/maps/place/LAMAR+BLVD+%...   \n",
       "111  https://www.google.com/maps/place/35TH+ST+%26+...   \n",
       "205  https://www.google.com/maps/place/6TH+ST+%26+C...   \n",
       "209  https://www.google.com/maps/place/12TH+ST+%26+...   \n",
       "\n",
       "                                         N  \\\n",
       "88                                     NaN   \n",
       "104  https://goo.gl/maps/52cUefr9qhs1Jb2U8   \n",
       "111  https://goo.gl/maps/DpaB8rqj2Lf2U2av9   \n",
       "205  https://goo.gl/maps/KXQWi8eaqSrZU4ug8   \n",
       "209                                    NaN   \n",
       "\n",
       "                                         S  \\\n",
       "88                                     NaN   \n",
       "104  https://goo.gl/maps/kh62J1KTq46C6cpT6   \n",
       "111  https://goo.gl/maps/vJsALCV3zJKce9cBA   \n",
       "205  https://goo.gl/maps/Pyx1rpRorPyN512w5   \n",
       "209                                    NaN   \n",
       "\n",
       "                                         E  \\\n",
       "88                                     NaN   \n",
       "104                                    NaN   \n",
       "111  https://goo.gl/maps/SQMjudY1dz4NRNnv9   \n",
       "205                                    NaN   \n",
       "209                                    NaN   \n",
       "\n",
       "                                         W   CREATED_BY  \n",
       "88                                     NaN  Susanne Gov  \n",
       "104                                    NaN  Susanne Gov  \n",
       "111  https://goo.gl/maps/YAUA7TnakpgK61Hy7  Susanne Gov  \n",
       "205  https://goo.gl/maps/mdM4HZ2VK6WXGqiUA  Susanne Gov  \n",
       "209                                    NaN  Susanne Gov  "
      ]
     },
     "metadata": {},
     "output_type": "display_data"
    }
   ],
   "source": [
    "display(df.head())"
   ]
  },
  {
   "cell_type": "markdown",
   "metadata": {},
   "source": [
    "## Part 3: Create CSV of input photos in deployed model\n",
    "Using AutoML to label/train images, we can now use the model to detect some of the most common overhead signs in photos."
   ]
  },
  {
   "cell_type": "code",
   "execution_count": 4,
   "metadata": {},
   "outputs": [],
   "source": [
    "# Credentials to access Google Applications\n",
    "os.environ[\"GOOGLE_APPLICATION_CREDENTIALS\"]= \"/Users/SusanneGov/Documents/My First Project-bcfca3ee21b0.json\"\n",
    "\n",
    "# Used to create predictio from deployed model\n",
    "def get_prediction(content):\n",
    "    project_id = \"micro-progress-275116\"\n",
    "    model_id = \"IOD7288297542666682368\"\n",
    "    prediction_client = automl_v1beta1.PredictionServiceClient()\n",
    "    name = 'projects/{}/locations/us-central1/models/{}'.format(project_id, model_id)\n",
    "    payload = {'image': {'image_bytes': content }}\n",
    "    params = {}\n",
    "    request = prediction_client.predict(name, payload, params)\n",
    "    return request  # waits till request is returned"
   ]
  },
  {
   "cell_type": "markdown",
   "metadata": {},
   "source": [
    "We can use the `get_prediction` method to detect the following overhead signs:\n",
    "- Street Name Sign\n",
    "- Left Turn Signal\n",
    "- Left Turn Yield on Flashing Yellow\n",
    "- Left Turn Yield on Green\n",
    "- Left Turn Arrow Only"
   ]
  },
  {
   "cell_type": "code",
   "execution_count": 215,
   "metadata": {},
   "outputs": [],
   "source": [
    "# Creates empty dictionary to input object detection info\n",
    "info = {}\n",
    "# for loop of all photos in folder\n",
    "for filename in os.listdir(FILE_PATH + \"/SignPhotos\"):\n",
    "    if filename.endswith(\".png\"): \n",
    "        with open(FILE_PATH + \"/SignPhotos/\" + filename, \"rb\") as content_file:\n",
    "            content = content_file.read()\n",
    "        data = get_prediction(content)\n",
    "        name = set() # to prevent duplicate sign detection from other directions\n",
    "        for result in data.payload:\n",
    "            name.add(result.display_name)\n",
    "        info[filename] = name"
   ]
  },
  {
   "cell_type": "markdown",
   "metadata": {},
   "source": [
    "After prediction information has been collected (~17 minutes), we will export it onto a spreadsheet."
   ]
  },
  {
   "cell_type": "code",
   "execution_count": 234,
   "metadata": {},
   "outputs": [
    {
     "data": {
      "text/html": [
       "<div>\n",
       "<style scoped>\n",
       "    .dataframe tbody tr th:only-of-type {\n",
       "        vertical-align: middle;\n",
       "    }\n",
       "\n",
       "    .dataframe tbody tr th {\n",
       "        vertical-align: top;\n",
       "    }\n",
       "\n",
       "    .dataframe thead th {\n",
       "        text-align: right;\n",
       "    }\n",
       "</style>\n",
       "<table border=\"1\" class=\"dataframe\">\n",
       "  <thead>\n",
       "    <tr style=\"text-align: right;\">\n",
       "      <th></th>\n",
       "      <th>0</th>\n",
       "      <th>1</th>\n",
       "      <th>2</th>\n",
       "    </tr>\n",
       "  </thead>\n",
       "  <tbody>\n",
       "    <tr>\n",
       "      <th>1004_E.png</th>\n",
       "      <td>None</td>\n",
       "      <td>None</td>\n",
       "      <td>None</td>\n",
       "    </tr>\n",
       "    <tr>\n",
       "      <th>1004_S.png</th>\n",
       "      <td>None</td>\n",
       "      <td>None</td>\n",
       "      <td>None</td>\n",
       "    </tr>\n",
       "    <tr>\n",
       "      <th>1015_E.png</th>\n",
       "      <td>Street_Name_Sign</td>\n",
       "      <td>None</td>\n",
       "      <td>None</td>\n",
       "    </tr>\n",
       "    <tr>\n",
       "      <th>1015_N.png</th>\n",
       "      <td>left_turn_yield_on_green</td>\n",
       "      <td>Street_Name_Sign</td>\n",
       "      <td>None</td>\n",
       "    </tr>\n",
       "    <tr>\n",
       "      <th>1015_S.png</th>\n",
       "      <td>Street_Name_Sign</td>\n",
       "      <td>None</td>\n",
       "      <td>None</td>\n",
       "    </tr>\n",
       "    <tr>\n",
       "      <th>...</th>\n",
       "      <td>...</td>\n",
       "      <td>...</td>\n",
       "      <td>...</td>\n",
       "    </tr>\n",
       "    <tr>\n",
       "      <th>955_N.png</th>\n",
       "      <td>Street_Name_Sign</td>\n",
       "      <td>None</td>\n",
       "      <td>None</td>\n",
       "    </tr>\n",
       "    <tr>\n",
       "      <th>955_S.png</th>\n",
       "      <td>left_turn_yield_on_green</td>\n",
       "      <td>Street_Name_Sign</td>\n",
       "      <td>None</td>\n",
       "    </tr>\n",
       "    <tr>\n",
       "      <th>964_N.png</th>\n",
       "      <td>Street_Name_Sign</td>\n",
       "      <td>None</td>\n",
       "      <td>None</td>\n",
       "    </tr>\n",
       "    <tr>\n",
       "      <th>964_S.png</th>\n",
       "      <td>Street_Name_Sign</td>\n",
       "      <td>None</td>\n",
       "      <td>None</td>\n",
       "    </tr>\n",
       "    <tr>\n",
       "      <th>964_W.png</th>\n",
       "      <td>Street_Name_Sign</td>\n",
       "      <td>None</td>\n",
       "      <td>None</td>\n",
       "    </tr>\n",
       "  </tbody>\n",
       "</table>\n",
       "<p>432 rows × 3 columns</p>\n",
       "</div>"
      ],
      "text/plain": [
       "                                   0                 1     2\n",
       "1004_E.png                      None              None  None\n",
       "1004_S.png                      None              None  None\n",
       "1015_E.png          Street_Name_Sign              None  None\n",
       "1015_N.png  left_turn_yield_on_green  Street_Name_Sign  None\n",
       "1015_S.png          Street_Name_Sign              None  None\n",
       "...                              ...               ...   ...\n",
       "955_N.png           Street_Name_Sign              None  None\n",
       "955_S.png   left_turn_yield_on_green  Street_Name_Sign  None\n",
       "964_N.png           Street_Name_Sign              None  None\n",
       "964_S.png           Street_Name_Sign              None  None\n",
       "964_W.png           Street_Name_Sign              None  None\n",
       "\n",
       "[432 rows x 3 columns]"
      ]
     },
     "metadata": {},
     "output_type": "display_data"
    }
   ],
   "source": [
    "temp_df = pd.DataFrame.from_dict(info,orient=\"index\").sort_index()\n",
    "temp_df.to_excel(FILE_PATH + r\"/results.xlsx\", sheet_name='Sign Objects')\n",
    "display(temp_df)"
   ]
  },
  {
   "cell_type": "markdown",
   "metadata": {},
   "source": [
    "The results spreadsheet requires QA/QC work to be done. Once that it complete, the last step is to create the work order document."
   ]
  },
  {
   "cell_type": "markdown",
   "metadata": {},
   "source": [
    "## Part 4: Create Work Order\n",
    "Create dictionaries of intersection information and overhead signs identified."
   ]
  },
  {
   "cell_type": "code",
   "execution_count": 3,
   "metadata": {},
   "outputs": [],
   "source": [
    "df = pd.read_excel(FILE_PATH + r\"/OverheadSigns_FY2020.xlsx\").rename(columns={'Unnamed: 0':'Signal ID'})\n",
    "df_signs = pd.read_excel(FILE_PATH + r\"/results.xlsx\",sheet_name = 1).fillna('')\n",
    "signs_dict = {d['File name']: [\n",
    "    (d['Sign 1'],d['Action']), (d['Sign 2'],d['Action.1']), (d['Sign 3'],d['Action.2']),\n",
    "    (d['Sign 4'],d['Action.3']), (d['Sign 5'],d['Action.4'])] for d in df_signs.to_dict(orient='records')}"
   ]
  },
  {
   "cell_type": "code",
   "execution_count": 4,
   "metadata": {},
   "outputs": [
    {
     "data": {
      "text/plain": [
       "'Install'"
      ]
     },
     "metadata": {},
     "output_type": "display_data"
    }
   ],
   "source": [
    "display(signs_dict['12 E.png'][0][1])"
   ]
  },
  {
   "cell_type": "markdown",
   "metadata": {},
   "source": [
    "Auto create work orders."
   ]
  },
  {
   "cell_type": "code",
   "execution_count": 21,
   "metadata": {},
   "outputs": [],
   "source": [
    "for index, row in df.iterrows():\n",
    "    workOrder = Presentation()\n",
    "    for d in DIRECTIONS:\n",
    "        slide = workOrder.slides.add_slide(workOrder.slide_layouts[6])\n",
    "        slide = slide.shapes\n",
    "        # Create Header\n",
    "        title = slide.add_textbox(Inches(0.25),Inches(0.4),Inches(7.5),Inches(0.75))\n",
    "        tf = title.text_frame\n",
    "        tf.clear()\n",
    "        p = tf.paragraphs[0]\n",
    "        run = p.add_run()\n",
    "        run.text = \"Austin Transportation Department Signs Work Orders\"\n",
    "        font = run.font\n",
    "        font.name = 'Arial'\n",
    "        font.size = Pt(20)\n",
    "        font.bold = True\n",
    "        seal = slide.add_picture(FILE_PATH + r\"/seal.png\",Inches(8.5),Inches(0.25))\n",
    "\n",
    "        # Insert Image\n",
    "        try:\n",
    "            photo_name = FILE_PATH + r\"/SignPhotos/{}_{}.png\".format(str(row['Signal ID']),d)\n",
    "            pic = slide.add_picture(photo_name,Inches(0.25),Inches(1.1),Inches(7.75), Inches(4))\n",
    "            line = pic.line\n",
    "            line.color.rgb = RGBColor(0,0,0)\n",
    "            line.width = Inches(0.05)\n",
    "        except IOError:\n",
    "            pass \n",
    "        \n",
    "        # Insert general information\n",
    "        info = slide.add_textbox(Inches(8.25),Inches(1.15),Inches(1.5),Inches(4.5))\n",
    "        infotext = info.text_frame.paragraphs[0]\n",
    "        info.text_frame.word_wrap = True\n",
    "        run = infotext.add_run()\n",
    "        run.font.size = Pt(18)\n",
    "        run.text = \"Created By: Susanne Gov\\nCreated Date: {0}\\nLocation Name: {1}\\nIntersection ID: {2}\\nCardinal Direction: {3}\".format(\n",
    "            str(date.today()),row['LOCATION_NAME'],str(row['COA_INTERSECTION_ID']),d)\n",
    "        \n",
    "        # Create Sign Table\n",
    "        font = run.font\n",
    "        font.name = 'Arial'\n",
    "        font.size = Pt(12)\n",
    "        signs = signs_dict.get(\"{0} {1}.png\".format(row[\"Signal ID\"],d),[''] * 5)\n",
    "        table = slide.add_table(6,2,Inches(0.25),Inches(5.2),Inches(7.75),Inches(1.5)).table\n",
    "        table.columns[0].width = Inches(5.25)\n",
    "        table.columns[1].width = Inches(2.5)\n",
    "        table.cell(0,1).text_frame.paragraphs[0].font.size = Pt(12)\n",
    "        table.cell(0,0).text_frame.paragraphs[0].font.size = Pt(12)\n",
    "        \n",
    "        table.cell(0,0).text = \"Sign Type\"\n",
    "        table.cell(0,1).text = \"Install/Remove\"\n",
    "        for i in range(1,6):\n",
    "            if isinstance(signs[i-1],tuple):\n",
    "                table.cell(i,0).text = signs[i - 1][0]\n",
    "                table.cell(i,1).text = signs[i - 1][1] #\"Install\" # Sets whether to install or remove sign\n",
    "            table.cell(i,0).text_frame.paragraphs[0].font.size = Pt(12)\n",
    "            table.cell(i,1).text_frame.paragraphs[0].font.size = Pt(12)\n",
    "    workOrder.save(FILE_PATH + r\"/WorkOrders2020PPTX/\" + str(row['Signal ID']) + '.pptx')"
   ]
  },
  {
   "cell_type": "markdown",
   "metadata": {},
   "source": [
    "After work order file has been created, convert it into PDF form."
   ]
  },
  {
   "cell_type": "code",
   "execution_count": null,
   "metadata": {},
   "outputs": [],
   "source": [
    "powerpoint = win32com.client.Dispatch(\"Powerpoint.Application\")\n",
    "for filename in os.listdir(FILE_PATH + r\"/WorkOrders2020PPTX\"):\n",
    "    if filename.endswith(\".pptx\"): \n",
    "        pdf = powerpoint.Presentations.Open(FILE_PATH + r\"/WorkOrders2020PPTX/\" + filename,WithWindow=False)\n",
    "        pdf.SaveCopyAs(FILE_PATH + r\"/WorkOrders2020PDF/\" + filename[:-5] + \".pdf\",32)\n",
    "        pdf.Close()\n",
    "powerpoint.Quit()"
   ]
  },
  {
   "cell_type": "code",
   "execution_count": null,
   "metadata": {},
   "outputs": [],
   "source": []
  },
  {
   "cell_type": "code",
   "execution_count": null,
   "metadata": {},
   "outputs": [],
   "source": []
  }
 ],
 "metadata": {
  "kernelspec": {
   "display_name": "Python [conda env:root] *",
   "language": "python",
   "name": "conda-root-py"
  },
  "language_info": {
   "codemirror_mode": {
    "name": "ipython",
    "version": 3
   },
   "file_extension": ".py",
   "mimetype": "text/x-python",
   "name": "python",
   "nbconvert_exporter": "python",
   "pygments_lexer": "ipython3",
   "version": "3.6.9"
  },
  "toc": {
   "base_numbering": 1,
   "nav_menu": {},
   "number_sections": true,
   "sideBar": true,
   "skip_h1_title": false,
   "title_cell": "Table of Contents",
   "title_sidebar": "Contents",
   "toc_cell": false,
   "toc_position": {},
   "toc_section_display": true,
   "toc_window_display": false
  }
 },
 "nbformat": 4,
 "nbformat_minor": 4
}
