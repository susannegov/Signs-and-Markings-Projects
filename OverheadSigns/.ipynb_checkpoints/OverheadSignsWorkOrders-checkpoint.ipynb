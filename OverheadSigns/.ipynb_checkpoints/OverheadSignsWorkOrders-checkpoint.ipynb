{
 "cells": [
  {
   "cell_type": "markdown",
   "metadata": {},
   "source": [
    "# Overhead Signs Work Order Creation\n",
    "--------------------------------------------------\n",
    "The purpose of this script is to create work orders of overhead street name signs. The information for work orders are created from a feature layer of operational maintenance areas intersecting signalized intersections.\n",
    "\n",
    "Disclaimer: "
   ]
  },
  {
   "cell_type": "markdown",
   "metadata": {},
   "source": [
    "## Imports"
   ]
  },
  {
   "cell_type": "code",
   "execution_count": 2,
   "metadata": {},
   "outputs": [
    {
     "name": "stderr",
     "output_type": "stream",
     "text": [
      "/anaconda3/envs/py382/lib/python3.8/site-packages/arcgis/features/_data/geodataset/utils.py:15: FutureWarning: The pandas.datetime class is deprecated and will be removed from pandas in a future version. Import from datetime module instead.\n",
      "  pd.datetime,\n"
     ]
    }
   ],
   "source": [
    "from arcgis.gis import GIS\n",
    "from arcgis.features import FeatureLayer,GeoAccessor, GeoSeriesAccessor\n",
    "from arcgis.features.manage_data import overlay_layers\n",
    "from pathlib import Path\n",
    "import datetime\n",
    "import pandas as pd\n",
    "import openpyxl\n",
    "from selenium import webdriver\n",
    "from selenium.webdriver.chrome.options import Options\n",
    "import time\n",
    "import io\n",
    "import os\n",
    "import sys\n",
    "from google.cloud import automl_v1beta1\n",
    "from google.cloud.automl_v1beta1.proto import service_pb2\n",
    "from google.cloud import vision\n",
    "from google.cloud.vision import types"
   ]
  },
  {
   "cell_type": "markdown",
   "metadata": {},
   "source": [
    "## Constants\n",
    "Set constants of the notebook."
   ]
  },
  {
   "cell_type": "code",
   "execution_count": 3,
   "metadata": {},
   "outputs": [],
   "source": [
    "URL = r\"https://services.arcgis.com/0L95CJ0VTaxqcmED/arcgis/rest/services/{}/FeatureServer/0\"\n",
    "AUTHOR = \"Susanne Gov\"\n",
    "FILE_PATH = str(Path.cwd())\n",
    "YEAR = 2020\n",
    "TABLE_NAME = FILE_PATH + r\"/OverheadSigns_FY{}.xlsx\".format(str(YEAR))\n",
    "DIRECTIONS = list(\"NSEW\")"
   ]
  },
  {
   "cell_type": "markdown",
   "metadata": {},
   "source": [
    "## Part 1: Setup Table"
   ]
  },
  {
   "cell_type": "markdown",
   "metadata": {},
   "source": [
    "<b>This step can be skipped if the Excel file is already in the folder. </b>"
   ]
  },
  {
   "cell_type": "markdown",
   "metadata": {},
   "source": [
    "Set variables for analysis layer title and columns for table."
   ]
  },
  {
   "cell_type": "code",
   "execution_count": 3,
   "metadata": {},
   "outputs": [],
   "source": [
    "overhead = \"Signs Markings Maintenance\"\n",
    "col = ['COA_INTERSECTION_ID','FY_OVERHEAD_SIGN_MAINT','LOCATION_NAME','LATITUDE','LONGITUDE']"
   ]
  },
  {
   "cell_type": "markdown",
   "metadata": {},
   "source": [
    "Acccess COA account"
   ]
  },
  {
   "cell_type": "code",
   "execution_count": 9,
   "metadata": {},
   "outputs": [
    {
     "name": "stdout",
     "output_type": "stream",
     "text": [
      "Please sign in to your GIS and paste the code that is obtained below.\n",
      "If a web browser does not automatically open, please navigate to the URL below yourself instead.\n",
      "Opening web browser to navigate to: https://austin.maps.arcgis.com/sharing/rest//oauth2/authorize?response_type=code&client_id=CrnxPfTcm7Y7ZGl7&redirect_uri=urn%3Aietf%3Awg%3Aoauth%3A2.0%3Aoob&state=09ydjpBYibdBZDv8MEmG6Upb0Rby8D\n"
     ]
    },
    {
     "name": "stdin",
     "output_type": "stream",
     "text": [
      "Enter code obtained on signing in using SAML:  ············································································································································································································································\n"
     ]
    },
    {
     "name": "stderr",
     "output_type": "stream",
     "text": [
      "/anaconda3/envs/py382/lib/python3.8/site-packages/urllib3/connectionpool.py:997: InsecureRequestWarning: Unverified HTTPS request is being made to host 'austin.maps.arcgis.com'. Adding certificate verification is strongly advised. See: https://urllib3.readthedocs.io/en/latest/advanced-usage.html#ssl-warnings\n",
      "  warnings.warn(\n"
     ]
    }
   ],
   "source": [
    "gis = GIS(\"https://austin.maps.arcgis.com/\", client_id='CrnxPfTcm7Y7ZGl7')"
   ]
  },
  {
   "cell_type": "markdown",
   "metadata": {},
   "source": [
    "Retrieve locations of signalized intersections intersecting operational maintenance areas to publish into a folder and excel worksheet."
   ]
  },
  {
   "cell_type": "code",
   "execution_count": null,
   "metadata": {},
   "outputs": [],
   "source": [
    "# This intersect analysis has already been completed\n",
    "#signals = FeatureLayer(URL.format(\"TRANSPORTATION_signals2\"))\n",
    "#oma = FeatureLayer(URL.format(\"Signs_Markings_OMA\")) #OMA layer will be on AGOL\n",
    "#analysis = overlay_layers(oma,signals,overlay_type=\"Intersect\", output_name=overhead)"
   ]
  },
  {
   "cell_type": "markdown",
   "metadata": {},
   "source": [
    "Retrieve overhead feature layer."
   ]
  },
  {
   "cell_type": "code",
   "execution_count": null,
   "metadata": {},
   "outputs": [],
   "source": [
    "fl = pd.DataFrame.spatial.from_layer(FeatureLayer(URL.format(overhead))).set_index(\"SIGNAL_ID\")"
   ]
  },
  {
   "cell_type": "markdown",
   "metadata": {},
   "source": [
    "Query and filter dataset. Add columns for Google URL, N,S,E,W, and Created By."
   ]
  },
  {
   "cell_type": "code",
   "execution_count": 33,
   "metadata": {},
   "outputs": [
    {
     "data": {
      "text/html": [
       "<div>\n",
       "<style scoped>\n",
       "    .dataframe tbody tr th:only-of-type {\n",
       "        vertical-align: middle;\n",
       "    }\n",
       "\n",
       "    .dataframe tbody tr th {\n",
       "        vertical-align: top;\n",
       "    }\n",
       "\n",
       "    .dataframe thead th {\n",
       "        text-align: right;\n",
       "    }\n",
       "</style>\n",
       "<table border=\"1\" class=\"dataframe\">\n",
       "  <thead>\n",
       "    <tr style=\"text-align: right;\">\n",
       "      <th></th>\n",
       "      <th>COA_INTERSECTION_ID</th>\n",
       "      <th>FY_OVERHEAD_SIGN_MAINT</th>\n",
       "      <th>LOCATION_NAME</th>\n",
       "      <th>LATITUDE</th>\n",
       "      <th>LONGITUDE</th>\n",
       "      <th>GOOGLE_URL</th>\n",
       "      <th>N</th>\n",
       "      <th>S</th>\n",
       "      <th>E</th>\n",
       "      <th>W</th>\n",
       "      <th>CREATED_BY</th>\n",
       "    </tr>\n",
       "  </thead>\n",
       "  <tbody>\n",
       "    <tr>\n",
       "      <th>88</th>\n",
       "      <td>5157283.0</td>\n",
       "      <td>2020</td>\n",
       "      <td>BURNET RD / HANCOCK DR</td>\n",
       "      <td>None</td>\n",
       "      <td>None</td>\n",
       "      <td>https://www.google.com/maps/place/BURNET+RD+%2...</td>\n",
       "      <td>NaN</td>\n",
       "      <td>NaN</td>\n",
       "      <td>NaN</td>\n",
       "      <td>NaN</td>\n",
       "      <td>Susanne Gov</td>\n",
       "    </tr>\n",
       "    <tr>\n",
       "      <th>104</th>\n",
       "      <td>5155653.0</td>\n",
       "      <td>2020</td>\n",
       "      <td>LAMAR BLVD / PARKWAY</td>\n",
       "      <td>None</td>\n",
       "      <td>None</td>\n",
       "      <td>https://www.google.com/maps/place/LAMAR+BLVD+%...</td>\n",
       "      <td>NaN</td>\n",
       "      <td>NaN</td>\n",
       "      <td>NaN</td>\n",
       "      <td>NaN</td>\n",
       "      <td>Susanne Gov</td>\n",
       "    </tr>\n",
       "    <tr>\n",
       "      <th>111</th>\n",
       "      <td>5155479.0</td>\n",
       "      <td>2020</td>\n",
       "      <td>35TH ST / JEFFERSON ST</td>\n",
       "      <td>None</td>\n",
       "      <td>None</td>\n",
       "      <td>https://www.google.com/maps/place/35TH+ST+%26+...</td>\n",
       "      <td>NaN</td>\n",
       "      <td>NaN</td>\n",
       "      <td>NaN</td>\n",
       "      <td>NaN</td>\n",
       "      <td>Susanne Gov</td>\n",
       "    </tr>\n",
       "    <tr>\n",
       "      <th>205</th>\n",
       "      <td>5153995.0</td>\n",
       "      <td>2020</td>\n",
       "      <td>6TH ST / CAMPBELL ST</td>\n",
       "      <td>None</td>\n",
       "      <td>None</td>\n",
       "      <td>https://www.google.com/maps/place/6TH+ST+%26+C...</td>\n",
       "      <td>NaN</td>\n",
       "      <td>NaN</td>\n",
       "      <td>NaN</td>\n",
       "      <td>NaN</td>\n",
       "      <td>Susanne Gov</td>\n",
       "    </tr>\n",
       "    <tr>\n",
       "      <th>209</th>\n",
       "      <td>5154661.0</td>\n",
       "      <td>2020</td>\n",
       "      <td>12TH ST / WEST LYNN ST</td>\n",
       "      <td>None</td>\n",
       "      <td>None</td>\n",
       "      <td>https://www.google.com/maps/place/12TH+ST+%26+...</td>\n",
       "      <td>NaN</td>\n",
       "      <td>NaN</td>\n",
       "      <td>NaN</td>\n",
       "      <td>NaN</td>\n",
       "      <td>Susanne Gov</td>\n",
       "    </tr>\n",
       "  </tbody>\n",
       "</table>\n",
       "</div>"
      ],
      "text/plain": [
       "     COA_INTERSECTION_ID FY_OVERHEAD_SIGN_MAINT            LOCATION_NAME  \\\n",
       "88             5157283.0                   2020   BURNET RD / HANCOCK DR   \n",
       "104            5155653.0                   2020    LAMAR BLVD / PARKWAY    \n",
       "111            5155479.0                   2020   35TH ST / JEFFERSON ST   \n",
       "205            5153995.0                   2020     6TH ST / CAMPBELL ST   \n",
       "209            5154661.0                   2020   12TH ST / WEST LYNN ST   \n",
       "\n",
       "    LATITUDE LONGITUDE                                         GOOGLE_URL  \\\n",
       "88      None      None  https://www.google.com/maps/place/BURNET+RD+%2...   \n",
       "104     None      None  https://www.google.com/maps/place/LAMAR+BLVD+%...   \n",
       "111     None      None  https://www.google.com/maps/place/35TH+ST+%26+...   \n",
       "205     None      None  https://www.google.com/maps/place/6TH+ST+%26+C...   \n",
       "209     None      None  https://www.google.com/maps/place/12TH+ST+%26+...   \n",
       "\n",
       "       N    S    E    W   CREATED_BY  \n",
       "88   NaN  NaN  NaN  NaN  Susanne Gov  \n",
       "104  NaN  NaN  NaN  NaN  Susanne Gov  \n",
       "111  NaN  NaN  NaN  NaN  Susanne Gov  \n",
       "205  NaN  NaN  NaN  NaN  Susanne Gov  \n",
       "209  NaN  NaN  NaN  NaN  Susanne Gov  "
      ]
     },
     "metadata": {},
     "output_type": "display_data"
    }
   ],
   "source": [
    "df = fl.query(\"FY_OVERHEAD_SIGN_MAINT == {}\".format(str(YEAR)).filter(items=col)\n",
    "g_url = \"https://www.google.com/maps/place/{},+Austin,+TX\"\n",
    "gmap = df['LOCATION_NAME'].apply(lambda x: g_url.format(x.lstrip().replace(\" / \",\"+%26+\").replace(\" \",\"+\").split(\"(\", 1)[0]))\n",
    "gmap = pd.DataFrame(gmap).rename(columns={\"LOCATION_NAME\":\"GOOGLE_URL\"})\n",
    "df = pd.concat([df.join(gmap),pd.DataFrame(columns=DIRECTIONS)],sort=False)\n",
    "df['CREATED_BY'] = AUTHOR\n",
    "df.to_excel(TABLE_NAME, sheet_name='OMA_Signals')\n",
    "display(df.head()) # Display first 5 rows"
   ]
  },
  {
   "cell_type": "code",
   "execution_count": 29,
   "metadata": {},
   "outputs": [
    {
     "data": {
      "text/plain": [
       "548"
      ]
     },
     "execution_count": 29,
     "metadata": {},
     "output_type": "execute_result"
    }
   ],
   "source": [
    "# Estimate photos to to input manually. Multiplied by 4 by number of signal poles.\n",
    "df['GOOGLE_URL'].count() * 4"
   ]
  },
  {
   "cell_type": "markdown",
   "metadata": {},
   "source": [
    "## Part 2: Retrieve Photos from URL"
   ]
  },
  {
   "cell_type": "markdown",
   "metadata": {},
   "source": [
    "After the excel spreadsheet has been created, <b>manually retrieve the google streetview urls of overhead signal poles for 2020 maintenance.</b> The goal of collecthing these URLS is to eventually generate photos of overhead traffic signs in need of maintenance."
   ]
  },
  {
   "cell_type": "code",
   "execution_count": 3,
   "metadata": {},
   "outputs": [],
   "source": [
    "df = pd.read_excel(TABLE_NAME,index_col=0)"
   ]
  },
  {
   "cell_type": "code",
   "execution_count": 4,
   "metadata": {},
   "outputs": [],
   "source": [
    "options = Options()\n",
    "options.add_argument(\"--headless\")"
   ]
  },
  {
   "cell_type": "code",
   "execution_count": null,
   "metadata": {},
   "outputs": [],
   "source": [
    "driver = webdriver.Chrome(FILE_PATH + r'/chromedriver',options=options)\n",
    "driver.set_window_size(1600, 800) # set photo sizing\n",
    "for index, row in df.iterrows():\n",
    "    for x in DIRECTIONS:\n",
    "        link = row[x]\n",
    "        if type(link) == str and link != \"N/A\":\n",
    "            driver.get(link)\n",
    "            driver.execute_script(open(FILE_PATH + r\"/hide_ui.js\").read())\n",
    "            time.sleep(4) # wait for page to load\n",
    "            screenshot = driver.save_screenshot(FILE_PATH + r'/SignPhotos/{}_{}.png'.format(index,x))\n",
    "driver.quit()"
   ]
  },
  {
   "cell_type": "code",
   "execution_count": 4,
   "metadata": {},
   "outputs": [],
   "source": [
    "link = \"https://goo.gl/maps/5LqR3NoVdF6938cQA\"\n",
    "driver = webdriver.Chrome(FILE_PATH + r'/chromedriver',options=options)\n",
    "driver.set_window_size(1600, 800) # set photo sizing\n",
    "driver.get(link)\n",
    "driver.execute_script(open(FILE_PATH + r\"/hide_ui.js\").read())\n",
    "time.sleep(3) # wait for page to load\n",
    "screenshot = driver.save_screenshot(FILE_PATH + r'/SignPhotos/355_S.png')\n",
    "driver.quit()"
   ]
  },
  {
   "cell_type": "code",
   "execution_count": 21,
   "metadata": {},
   "outputs": [
    {
     "data": {
      "text/html": [
       "<div>\n",
       "<style scoped>\n",
       "    .dataframe tbody tr th:only-of-type {\n",
       "        vertical-align: middle;\n",
       "    }\n",
       "\n",
       "    .dataframe tbody tr th {\n",
       "        vertical-align: top;\n",
       "    }\n",
       "\n",
       "    .dataframe thead th {\n",
       "        text-align: right;\n",
       "    }\n",
       "</style>\n",
       "<table border=\"1\" class=\"dataframe\">\n",
       "  <thead>\n",
       "    <tr style=\"text-align: right;\">\n",
       "      <th></th>\n",
       "      <th>COA_INTERSECTION_ID</th>\n",
       "      <th>FY_OVERHEAD_SIGN_MAINT</th>\n",
       "      <th>LOCATION_NAME</th>\n",
       "      <th>LATITUDE</th>\n",
       "      <th>LONGITUDE</th>\n",
       "      <th>GOOGLE_URL</th>\n",
       "      <th>LINK</th>\n",
       "      <th>N</th>\n",
       "      <th>S</th>\n",
       "      <th>E</th>\n",
       "      <th>W</th>\n",
       "      <th>CREATED_BY</th>\n",
       "    </tr>\n",
       "  </thead>\n",
       "  <tbody>\n",
       "    <tr>\n",
       "      <th>88</th>\n",
       "      <td>5157283</td>\n",
       "      <td>2020</td>\n",
       "      <td>BURNET RD / HANCOCK DR</td>\n",
       "      <td>NaN</td>\n",
       "      <td>NaN</td>\n",
       "      <td>https://www.google.com/maps/place/BURNET+RD+%2...</td>\n",
       "      <td>https://www.google.com/maps/place/BURNET+RD+%2...</td>\n",
       "      <td>NaN</td>\n",
       "      <td>NaN</td>\n",
       "      <td>NaN</td>\n",
       "      <td>NaN</td>\n",
       "      <td>Susanne Gov</td>\n",
       "    </tr>\n",
       "    <tr>\n",
       "      <th>104</th>\n",
       "      <td>5155653</td>\n",
       "      <td>2020</td>\n",
       "      <td>LAMAR BLVD / PARKWAY</td>\n",
       "      <td>NaN</td>\n",
       "      <td>NaN</td>\n",
       "      <td>https://www.google.com/maps/place/LAMAR+BLVD+%...</td>\n",
       "      <td>https://www.google.com/maps/place/LAMAR+BLVD+%...</td>\n",
       "      <td>https://goo.gl/maps/52cUefr9qhs1Jb2U8</td>\n",
       "      <td>https://goo.gl/maps/kh62J1KTq46C6cpT6</td>\n",
       "      <td>NaN</td>\n",
       "      <td>NaN</td>\n",
       "      <td>Susanne Gov</td>\n",
       "    </tr>\n",
       "    <tr>\n",
       "      <th>111</th>\n",
       "      <td>5155479</td>\n",
       "      <td>2020</td>\n",
       "      <td>35TH ST / JEFFERSON ST</td>\n",
       "      <td>NaN</td>\n",
       "      <td>NaN</td>\n",
       "      <td>https://www.google.com/maps/place/35TH+ST+%26+...</td>\n",
       "      <td>https://www.google.com/maps/place/35TH+ST+%26+...</td>\n",
       "      <td>https://goo.gl/maps/DpaB8rqj2Lf2U2av9</td>\n",
       "      <td>https://goo.gl/maps/vJsALCV3zJKce9cBA</td>\n",
       "      <td>https://goo.gl/maps/SQMjudY1dz4NRNnv9</td>\n",
       "      <td>https://goo.gl/maps/YAUA7TnakpgK61Hy7</td>\n",
       "      <td>Susanne Gov</td>\n",
       "    </tr>\n",
       "    <tr>\n",
       "      <th>205</th>\n",
       "      <td>5153995</td>\n",
       "      <td>2020</td>\n",
       "      <td>6TH ST / CAMPBELL ST</td>\n",
       "      <td>NaN</td>\n",
       "      <td>NaN</td>\n",
       "      <td>https://www.google.com/maps/place/6TH+ST+%26+C...</td>\n",
       "      <td>https://www.google.com/maps/place/6TH+ST+%26+C...</td>\n",
       "      <td>https://goo.gl/maps/KXQWi8eaqSrZU4ug8</td>\n",
       "      <td>https://goo.gl/maps/Pyx1rpRorPyN512w5</td>\n",
       "      <td>NaN</td>\n",
       "      <td>https://goo.gl/maps/mdM4HZ2VK6WXGqiUA</td>\n",
       "      <td>Susanne Gov</td>\n",
       "    </tr>\n",
       "    <tr>\n",
       "      <th>209</th>\n",
       "      <td>5154661</td>\n",
       "      <td>2020</td>\n",
       "      <td>12TH ST / WEST LYNN ST</td>\n",
       "      <td>NaN</td>\n",
       "      <td>NaN</td>\n",
       "      <td>https://www.google.com/maps/place/12TH+ST+%26+...</td>\n",
       "      <td>https://www.google.com/maps/place/12TH+ST+%26+...</td>\n",
       "      <td>NaN</td>\n",
       "      <td>NaN</td>\n",
       "      <td>NaN</td>\n",
       "      <td>NaN</td>\n",
       "      <td>Susanne Gov</td>\n",
       "    </tr>\n",
       "  </tbody>\n",
       "</table>\n",
       "</div>"
      ],
      "text/plain": [
       "     COA_INTERSECTION_ID  FY_OVERHEAD_SIGN_MAINT            LOCATION_NAME  \\\n",
       "88               5157283                    2020   BURNET RD / HANCOCK DR   \n",
       "104              5155653                    2020    LAMAR BLVD / PARKWAY    \n",
       "111              5155479                    2020   35TH ST / JEFFERSON ST   \n",
       "205              5153995                    2020     6TH ST / CAMPBELL ST   \n",
       "209              5154661                    2020   12TH ST / WEST LYNN ST   \n",
       "\n",
       "     LATITUDE  LONGITUDE                                         GOOGLE_URL  \\\n",
       "88        NaN        NaN  https://www.google.com/maps/place/BURNET+RD+%2...   \n",
       "104       NaN        NaN  https://www.google.com/maps/place/LAMAR+BLVD+%...   \n",
       "111       NaN        NaN  https://www.google.com/maps/place/35TH+ST+%26+...   \n",
       "205       NaN        NaN  https://www.google.com/maps/place/6TH+ST+%26+C...   \n",
       "209       NaN        NaN  https://www.google.com/maps/place/12TH+ST+%26+...   \n",
       "\n",
       "                                                  LINK  \\\n",
       "88   https://www.google.com/maps/place/BURNET+RD+%2...   \n",
       "104  https://www.google.com/maps/place/LAMAR+BLVD+%...   \n",
       "111  https://www.google.com/maps/place/35TH+ST+%26+...   \n",
       "205  https://www.google.com/maps/place/6TH+ST+%26+C...   \n",
       "209  https://www.google.com/maps/place/12TH+ST+%26+...   \n",
       "\n",
       "                                         N  \\\n",
       "88                                     NaN   \n",
       "104  https://goo.gl/maps/52cUefr9qhs1Jb2U8   \n",
       "111  https://goo.gl/maps/DpaB8rqj2Lf2U2av9   \n",
       "205  https://goo.gl/maps/KXQWi8eaqSrZU4ug8   \n",
       "209                                    NaN   \n",
       "\n",
       "                                         S  \\\n",
       "88                                     NaN   \n",
       "104  https://goo.gl/maps/kh62J1KTq46C6cpT6   \n",
       "111  https://goo.gl/maps/vJsALCV3zJKce9cBA   \n",
       "205  https://goo.gl/maps/Pyx1rpRorPyN512w5   \n",
       "209                                    NaN   \n",
       "\n",
       "                                         E  \\\n",
       "88                                     NaN   \n",
       "104                                    NaN   \n",
       "111  https://goo.gl/maps/SQMjudY1dz4NRNnv9   \n",
       "205                                    NaN   \n",
       "209                                    NaN   \n",
       "\n",
       "                                         W   CREATED_BY  \n",
       "88                                     NaN  Susanne Gov  \n",
       "104                                    NaN  Susanne Gov  \n",
       "111  https://goo.gl/maps/YAUA7TnakpgK61Hy7  Susanne Gov  \n",
       "205  https://goo.gl/maps/mdM4HZ2VK6WXGqiUA  Susanne Gov  \n",
       "209                                    NaN  Susanne Gov  "
      ]
     },
     "metadata": {},
     "output_type": "display_data"
    }
   ],
   "source": [
    "display(df.head())"
   ]
  },
  {
   "cell_type": "markdown",
   "metadata": {},
   "source": [
    "## Part 3: Create CSV of input photos in deployed model\n",
    "Using AutoML to label/train images, we can now use the model to detect some of the most common overhead signs in photos."
   ]
  },
  {
   "cell_type": "code",
   "execution_count": 4,
   "metadata": {},
   "outputs": [],
   "source": [
    "# Credentials to access Google Applications\n",
    "os.environ[\"GOOGLE_APPLICATION_CREDENTIALS\"]= \"/Users/SusanneGov/Documents/My First Project-bcfca3ee21b0.json\"\n",
    "\n",
    "# Used to create predictio from deployed model\n",
    "def get_prediction(content):\n",
    "    project_id = \"micro-progress-275116\"\n",
    "    model_id = \"IOD7288297542666682368\"\n",
    "    prediction_client = automl_v1beta1.PredictionServiceClient()\n",
    "    name = 'projects/{}/locations/us-central1/models/{}'.format(project_id, model_id)\n",
    "    payload = {'image': {'image_bytes': content }}\n",
    "    params = {}\n",
    "    request = prediction_client.predict(name, payload, params)\n",
    "    return request  # waits till request is returned"
   ]
  },
  {
   "cell_type": "markdown",
   "metadata": {},
   "source": [
    "We can use the `get_prediction` method to detect the following overhead signs:\n",
    "- Street Name Sign\n",
    "- Left Turn Signal\n",
    "- Left Turn Yield on Flashing Yellow\n",
    "- Left Turn Yield on Green\n",
    "- Left Turn Arrow Only"
   ]
  },
  {
   "cell_type": "code",
   "execution_count": 215,
   "metadata": {},
   "outputs": [],
   "source": [
    "# Creates empty dictionary to input object detection info\n",
    "info = {}\n",
    "# for loop of all photos in folder\n",
    "for filename in os.listdir(FILE_PATH + \"/SignPhotos\"):\n",
    "    if filename.endswith(\".png\"): \n",
    "        with open(FILE_PATH + \"/SignPhotos/\" + filename, \"rb\") as content_file:\n",
    "            content = content_file.read()\n",
    "        data = get_prediction(content)\n",
    "        name = set() # to prevent duplicate sign detection from other directions\n",
    "        for result in data.payload:\n",
    "            name.add(result.display_name)\n",
    "        info[filename] = name"
   ]
  },
  {
   "cell_type": "markdown",
   "metadata": {},
   "source": [
    "After prediction information has been collected (~17 minutes), we will export it onto a spreadsheet."
   ]
  },
  {
   "cell_type": "code",
   "execution_count": 234,
   "metadata": {},
   "outputs": [
    {
     "data": {
      "text/html": [
       "<div>\n",
       "<style scoped>\n",
       "    .dataframe tbody tr th:only-of-type {\n",
       "        vertical-align: middle;\n",
       "    }\n",
       "\n",
       "    .dataframe tbody tr th {\n",
       "        vertical-align: top;\n",
       "    }\n",
       "\n",
       "    .dataframe thead th {\n",
       "        text-align: right;\n",
       "    }\n",
       "</style>\n",
       "<table border=\"1\" class=\"dataframe\">\n",
       "  <thead>\n",
       "    <tr style=\"text-align: right;\">\n",
       "      <th></th>\n",
       "      <th>0</th>\n",
       "      <th>1</th>\n",
       "      <th>2</th>\n",
       "    </tr>\n",
       "  </thead>\n",
       "  <tbody>\n",
       "    <tr>\n",
       "      <th>1004_E.png</th>\n",
       "      <td>None</td>\n",
       "      <td>None</td>\n",
       "      <td>None</td>\n",
       "    </tr>\n",
       "    <tr>\n",
       "      <th>1004_S.png</th>\n",
       "      <td>None</td>\n",
       "      <td>None</td>\n",
       "      <td>None</td>\n",
       "    </tr>\n",
       "    <tr>\n",
       "      <th>1015_E.png</th>\n",
       "      <td>Street_Name_Sign</td>\n",
       "      <td>None</td>\n",
       "      <td>None</td>\n",
       "    </tr>\n",
       "    <tr>\n",
       "      <th>1015_N.png</th>\n",
       "      <td>left_turn_yield_on_green</td>\n",
       "      <td>Street_Name_Sign</td>\n",
       "      <td>None</td>\n",
       "    </tr>\n",
       "    <tr>\n",
       "      <th>1015_S.png</th>\n",
       "      <td>Street_Name_Sign</td>\n",
       "      <td>None</td>\n",
       "      <td>None</td>\n",
       "    </tr>\n",
       "    <tr>\n",
       "      <th>...</th>\n",
       "      <td>...</td>\n",
       "      <td>...</td>\n",
       "      <td>...</td>\n",
       "    </tr>\n",
       "    <tr>\n",
       "      <th>955_N.png</th>\n",
       "      <td>Street_Name_Sign</td>\n",
       "      <td>None</td>\n",
       "      <td>None</td>\n",
       "    </tr>\n",
       "    <tr>\n",
       "      <th>955_S.png</th>\n",
       "      <td>left_turn_yield_on_green</td>\n",
       "      <td>Street_Name_Sign</td>\n",
       "      <td>None</td>\n",
       "    </tr>\n",
       "    <tr>\n",
       "      <th>964_N.png</th>\n",
       "      <td>Street_Name_Sign</td>\n",
       "      <td>None</td>\n",
       "      <td>None</td>\n",
       "    </tr>\n",
       "    <tr>\n",
       "      <th>964_S.png</th>\n",
       "      <td>Street_Name_Sign</td>\n",
       "      <td>None</td>\n",
       "      <td>None</td>\n",
       "    </tr>\n",
       "    <tr>\n",
       "      <th>964_W.png</th>\n",
       "      <td>Street_Name_Sign</td>\n",
       "      <td>None</td>\n",
       "      <td>None</td>\n",
       "    </tr>\n",
       "  </tbody>\n",
       "</table>\n",
       "<p>432 rows × 3 columns</p>\n",
       "</div>"
      ],
      "text/plain": [
       "                                   0                 1     2\n",
       "1004_E.png                      None              None  None\n",
       "1004_S.png                      None              None  None\n",
       "1015_E.png          Street_Name_Sign              None  None\n",
       "1015_N.png  left_turn_yield_on_green  Street_Name_Sign  None\n",
       "1015_S.png          Street_Name_Sign              None  None\n",
       "...                              ...               ...   ...\n",
       "955_N.png           Street_Name_Sign              None  None\n",
       "955_S.png   left_turn_yield_on_green  Street_Name_Sign  None\n",
       "964_N.png           Street_Name_Sign              None  None\n",
       "964_S.png           Street_Name_Sign              None  None\n",
       "964_W.png           Street_Name_Sign              None  None\n",
       "\n",
       "[432 rows x 3 columns]"
      ]
     },
     "metadata": {},
     "output_type": "display_data"
    }
   ],
   "source": [
    "temp_df = pd.DataFrame.from_dict(info,orient=\"index\").sort_index()\n",
    "temp_df.to_excel(FILE_PATH + r\"/results.xlsx\", sheet_name='Sign Objects')\n",
    "display(temp_df)"
   ]
  },
  {
   "cell_type": "markdown",
   "metadata": {},
   "source": [
    "The results spreadsheet requires QA/QC work to be done. Once that it complete, the last step is to create the work order document."
   ]
  },
  {
   "cell_type": "code",
   "execution_count": 73,
   "metadata": {},
   "outputs": [],
   "source": [
    "from pptx import Presentation\n",
    "from pptx.util import Inches, Pt\n",
    "from pptx.dml.color import RGBColor\n",
    "from subprocess import  Popen"
   ]
  },
  {
   "cell_type": "markdown",
   "metadata": {},
   "source": [
    "Create dictionaries of intersection information and overhead signs identified."
   ]
  },
  {
   "cell_type": "code",
   "execution_count": 43,
   "metadata": {},
   "outputs": [],
   "source": [
    "df = pd.read_excel(FILE_PATH + r\"/OverheadSigns_FY2020.xlsx\").rename(columns={'Unnamed: 0':'Signal ID'})\n",
    "cover = {d['Signal ID']: [d['COA_INTERSECTION_ID'],d['LOCATION_NAME']] for d in df.to_dict(orient='records')}\n",
    "df_signs = pd.read_excel(FILE_PATH + r\"/results.xlsx\")\n",
    "table = {d['File name']: [d['Sign 1'],d['Sign 2'],d['Sign 3'],d['Sign 4'],d['Sign 5']] for d in df_signs.to_dict(orient='records')}"
   ]
  },
  {
   "cell_type": "markdown",
   "metadata": {},
   "source": [
    "Identify "
   ]
  },
  {
   "cell_type": "code",
   "execution_count": 74,
   "metadata": {},
   "outputs": [],
   "source": [
    "directions = [\"N\",\"S\",\"E\",\"W\"]\n",
    "for index, row in df.iterrows():\n",
    "    workOrder = Presentation()\n",
    "    for d in directions:\n",
    "        slide = workOrder.slides.add_slide(workOrder.slide_layouts[6])\n",
    "        slide = slide.shapes\n",
    "        # Create Header\n",
    "        title = slide.add_textbox(Inches(0.25),Inches(0.4),Inches(7.5),Inches(0.75))\n",
    "        tf = title.text_frame\n",
    "        tf.clear()\n",
    "        p = tf.paragraphs[0]\n",
    "        run = p.add_run()\n",
    "        run.text = \"Austin Transportation Department Signs Work Orders\"\n",
    "        font = run.font\n",
    "        font.name = 'Arial'\n",
    "        font.size = Pt(20)\n",
    "        font.bold = True\n",
    "        pic = slide.add_picture(FILE_PATH + r\"/seal.png\",Inches(8.5),Inches(0.25))\n",
    "\n",
    "        # Insert Image\n",
    "        try:\n",
    "            pic = slide.add_picture(FILE_PATH + r\"/SignPhotos/\" + str(row['Signal ID']) + \"_\" + d + \".png\",Inches(0.25),Inches(1.1))\n",
    "            line = pic.line\n",
    "            line.color.rgb = RGBColor(0,0,0)\n",
    "            line.width = Inches(0.05)\n",
    "        except IOError:\n",
    "            pass \n",
    "        \n",
    "        # Insert general information\n",
    "        info = slide.add_textbox(Inches(8.25),Inches(1.15),Inches(1.5),Inches(4.5))\n",
    "        infotext = info.text_frame.paragraphs[0]\n",
    "        info.text_frame.word_wrap = True\n",
    "        run1 = infotext.add_run()\n",
    "        run1.text = \"Location Name:\\n\" + row['LOCATION_NAME'] + \"\\nIntersection ID:\" + str(row['COA_INTERSECTION_ID'])\n",
    "        run1.font.size = Pt(12)\n",
    "        run1.font.bold = True\n",
    "        run1.font.underline = True\n",
    "        run = infotext.add_run()\n",
    "        run.text = \"Cardinal Direction: \"\n",
    "        run.font.bold = True\n",
    "        run.font.underline = True  \n",
    "        run.font.size = Pt(12)\n",
    "        c = infotext.add_run()\n",
    "        c.text = d\n",
    "        c.font.size = Pt(12) \n",
    "    workOrder.save(FILE_PATH + r\"/WorkOrders2020PPTX/\" + str(i) + '.pptx')"
   ]
  },
  {
   "cell_type": "markdown",
   "metadata": {},
   "source": [
    "After work oder file has been created, convert it into PDF form."
   ]
  },
  {
   "cell_type": "code",
   "execution_count": 75,
   "metadata": {},
   "outputs": [
    {
     "ename": "ModuleNotFoundError",
     "evalue": "No module named 'win32com'",
     "output_type": "error",
     "traceback": [
      "\u001b[0;31m---------------------------------------------------------------------------\u001b[0m",
      "\u001b[0;31mModuleNotFoundError\u001b[0m                       Traceback (most recent call last)",
      "\u001b[0;32m<ipython-input-75-048289f77cc8>\u001b[0m in \u001b[0;36m<module>\u001b[0;34m\u001b[0m\n\u001b[0;32m----> 1\u001b[0;31m \u001b[0;32mimport\u001b[0m \u001b[0mwin32com\u001b[0m\u001b[0;34m.\u001b[0m\u001b[0mclient\u001b[0m\u001b[0;34m\u001b[0m\u001b[0;34m\u001b[0m\u001b[0m\n\u001b[0m\u001b[1;32m      2\u001b[0m \u001b[0;32mfor\u001b[0m \u001b[0mfilename\u001b[0m \u001b[0;32min\u001b[0m \u001b[0mos\u001b[0m\u001b[0;34m.\u001b[0m\u001b[0mlistdir\u001b[0m\u001b[0;34m(\u001b[0m\u001b[0mFILE_PATH\u001b[0m \u001b[0;34m+\u001b[0m \u001b[0;34mr\"/WorkOrders2020PPTX\"\u001b[0m\u001b[0;34m)\u001b[0m\u001b[0;34m:\u001b[0m\u001b[0;34m\u001b[0m\u001b[0;34m\u001b[0m\u001b[0m\n\u001b[1;32m      3\u001b[0m     \u001b[0;32mif\u001b[0m \u001b[0mfilename\u001b[0m\u001b[0;34m.\u001b[0m\u001b[0mendswith\u001b[0m\u001b[0;34m(\u001b[0m\u001b[0;34m\".pptx\"\u001b[0m\u001b[0;34m)\u001b[0m\u001b[0;34m:\u001b[0m\u001b[0;34m\u001b[0m\u001b[0;34m\u001b[0m\u001b[0m\n\u001b[1;32m      4\u001b[0m         \u001b[0mpowerpoint\u001b[0m \u001b[0;34m=\u001b[0m \u001b[0mwin32com\u001b[0m\u001b[0;34m.\u001b[0m\u001b[0mclient\u001b[0m\u001b[0;34m.\u001b[0m\u001b[0mDispatch\u001b[0m\u001b[0;34m(\u001b[0m\u001b[0;34m\"Powerpoint.Application\"\u001b[0m\u001b[0;34m)\u001b[0m\u001b[0;34m\u001b[0m\u001b[0;34m\u001b[0m\u001b[0m\n\u001b[1;32m      5\u001b[0m         \u001b[0mpdf\u001b[0m \u001b[0;34m=\u001b[0m \u001b[0mpowerpoint\u001b[0m\u001b[0;34m.\u001b[0m\u001b[0mPresentations\u001b[0m\u001b[0;34m.\u001b[0m\u001b[0mOpen\u001b[0m\u001b[0;34m(\u001b[0m\u001b[0mFILE_PATH\u001b[0m \u001b[0;34m+\u001b[0m \u001b[0;34mr\"/WorkOrders2020PPTX/\"\u001b[0m \u001b[0;34m+\u001b[0m \u001b[0mfilename\u001b[0m\u001b[0;34m,\u001b[0m\u001b[0mWithWindow\u001b[0m\u001b[0;34m=\u001b[0m\u001b[0;32mFalse\u001b[0m\u001b[0;34m)\u001b[0m\u001b[0;34m\u001b[0m\u001b[0;34m\u001b[0m\u001b[0m\n",
      "\u001b[0;31mModuleNotFoundError\u001b[0m: No module named 'win32com'"
     ]
    }
   ],
   "source": [
    "import win32com.client\n",
    "for filename in os.listdir(FILE_PATH + r\"/WorkOrders2020PPTX\"):\n",
    "    if filename.endswith(\".pptx\"): \n",
    "        powerpoint = win32com.client.Dispatch(\"Powerpoint.Application\")\n",
    "        pdf = powerpoint.Presentations.Open(FILE_PATH + r\"/WorkOrders2020PPTX/\" + filename,WithWindow=False)\n",
    "        pdf.SaveCopyAs(FILE_PATH + r\"/WorkOrders2020PPTX/\" + filename[:-5] + \".pdf\" ,32)\n",
    "        pdf.Close()\n",
    "        powerpoint.Quit()"
   ]
  },
  {
   "cell_type": "code",
   "execution_count": 52,
   "metadata": {},
   "outputs": [],
   "source": [
    "# Workflow for 2020\n",
    "# 1) Merge OMA and signals - waiting for OMA to be published on AGOL/GISMaint\n",
    "# 2) Filter df to 2020 Overhead maintenance\n",
    "# 3) Create dataset of all urls\n",
    "# 4) Input overhead photo urls\n",
    "# 5) Create for loop for screengrab\n",
    "# 6) Create table of work orders\n",
    "#\n",
    "#\n",
    "# VVVV              BELOW IS PART OF OLD SCRIPT             VVVV"
   ]
  },
  {
   "cell_type": "code",
   "execution_count": 18,
   "metadata": {},
   "outputs": [],
   "source": [
    "from pptx import Presentation\n",
    "from pptx.util import Inches, Pt\n",
    "from pptx.dml.color import RGBColor\n",
    "from PIL import Image\n",
    "from resizeimage import resizeimage\n",
    "from collections import OrderedDict\n",
    "import datetime\n",
    "import sys\n",
    "import os\n",
    "import win32com.client"
   ]
  },
  {
   "cell_type": "code",
   "execution_count": 5,
   "metadata": {},
   "outputs": [],
   "source": [
    "# This will create the list of values for each intersection based on signal ID\n",
    "filePath = r\"G:\\ATD\\ATD_GIS\\Signs\\123_Signs_Maintenance_Plan\\Operational_Maintenance_Areas_Sign_Maintenance_Plan\"\n",
    "author = \"Susanne Gov\"\n",
    "\n",
    "df = pd.read_excel(filePath + r\"\\OverheadSigns_FY2019.xlsx\", sheet_name='Signs')  # sheetname is optional\n",
    "df.to_csv(filePath + r'\\OverheadSigns_FY2019_SIGNS.csv', index=False)\n",
    "\n",
    "work_orders = pd.read_excel(filePath + r\"\\OverheadSigns_FY2019.xlsx\", sheet_name='StreetView Link')  # sheetname is optional\n",
    "work_orders.to_csv(filePath + r'\\OverheadSigns_FY2019.csv', index=False)          \n",
    "signalID = []\n",
    "index = 1\n",
    "with open (filePath + r'\\OverheadSigns_FY2019.csv','r') as csvfile:\n",
    "    orderRow = csv.reader(csvfile, delimiter=',')\n",
    "    for row in orderRow:\n",
    "        values = OrderedDict()\n",
    "        if row[0] != \"SIGNAL_ID\":\n",
    "            values[\"Created Date\"] = row[15]\n",
    "            values[\"Created By\"] = author\n",
    "            values[\"Work Order ID\"] = row[14]\n",
    "            values[\"Signal ID\"] = row[0]\n",
    "            values[\"Intersection ID\"] = row[1]\n",
    "            values[\"Primary Street\"] = row[2]\n",
    "            values[\"Cross Street\"] = row[3]\n",
    "            values[\"Link (N)\"] = row[10]\n",
    "            values[\"Link (S)\"] = row[11]\n",
    "            values[\"Link (E)\"] = row[12]\n",
    "            values[\"Link (W)\"] = row[13]\n",
    "            signalID.append(values)\n",
    "            index +=1\n",
    "    index = 1\n",
    "    csvfile.close()"
   ]
  },
  {
   "cell_type": "code",
   "execution_count": 3,
   "metadata": {},
   "outputs": [],
   "source": [
    "signs = []\n",
    "\n",
    "with open (filePath + r'\\OverheadSigns_FY2019_SIGNS.csv','rU') as csvfile:\n",
    "    csv = csv.reader(csvfile, delimiter=',')\n",
    "    for row in csv:\n",
    "        sign = OrderedDict()\n",
    "        sign[\"Signal ID\"] = row[0]\n",
    "        sign[\"Direction\"] = row[1]\n",
    "        sign[\"Sign Type\"] = row[2] \n",
    "        sign[\"Street Sign\"] = row[3]\n",
    "        sign[\"Bottom Text (Optional)\"] = row[6]\n",
    "        sign[\"Install/Remove\"] = row[7]\n",
    "        signs.append(sign)"
   ]
  },
  {
   "cell_type": "code",
   "execution_count": 4,
   "metadata": {},
   "outputs": [],
   "source": [
    "# Take an existing image of the streetview imagery and will resize the image to fit the work order template\n",
    "def makeImg (sigId, nSlide):\n",
    "    imgname = sigId + \"_\" + direction\n",
    "    imagery = imagePath + \"/\" + imgname + \".png\"\n",
    "    try:\n",
    "        with open(imagery, 'r+b') as f:\n",
    "            with Image.open(f) as image:\n",
    "                cover = resizeimage.resize_contain(image, [560, 280])\n",
    "                cover.save(imagePath + \"Cropped/\" + imgname + \".png\", image.format)\n",
    "        pic = nSlide.add_picture(imagePath + \"Cropped/\" + imgname + \".png\",Inches(0.25),Inches(1.1))\n",
    "        line = pic.line\n",
    "        line.color.rgb = RGBColor(0,0,0)\n",
    "        line.width = Inches(0.05)\n",
    "    except IOError:\n",
    "        return None        "
   ]
  },
  {
   "cell_type": "code",
   "execution_count": 5,
   "metadata": {},
   "outputs": [],
   "source": [
    "# Create a pretty header\n",
    "def makeHead(nSlide):\n",
    "    title = nSlide.add_textbox(Inches(0.25),Inches(0.4),Inches(7.5),Inches(0.75))\n",
    "    tf = title.text_frame\n",
    "    tf.clear()\n",
    "    p = tf.paragraphs[0]\n",
    "    run = p.add_run()\n",
    "    run.text = \"Austin Transportation Department Signs Work Orders\"\n",
    "    font = run.font\n",
    "    font.name = 'Arial'\n",
    "    font.size = Pt(20)\n",
    "    font.bold = True\n",
    "    seal = \"G:/ATD/ATD_GIS/03_RESOURCES/Seals_Logos/cityseal_60_x_60.jpg\"\n",
    "    pic = nSlide.add_picture(seal,Inches(8.5),Inches(0.25))"
   ]
  },
  {
   "cell_type": "code",
   "execution_count": 6,
   "metadata": {},
   "outputs": [],
   "source": [
    "# Create information box for work orders\n",
    "def makeInfo(sigID, nSlide, direction):\n",
    "    info = nSlide.add_textbox(Inches(8.25),Inches(1.15),Inches(1.5),Inches(4.5))\n",
    "    infotext = info.text_frame.paragraphs[0]\n",
    "    info.text_frame.word_wrap = True\n",
    "    for (key,val) in sigID.iteritems():\n",
    "        if \"Link\" not in key or direction in key:\n",
    "            run1 = infotext.add_run()\n",
    "            run1.text = key + \"\\n\"\n",
    "            run1.font.size = Pt(12)\n",
    "            run1.font.bold = True\n",
    "            run1.font.underline = True\n",
    "            run2 = infotext.add_run();\n",
    "            if \"Link\" in key and \"N/A\" not in val:\n",
    "                run2.hyperlink.address = val\n",
    "            run2.text =  val + \"\\n\"\n",
    "            run2.font.size = Pt(12)\n",
    "    run3 = infotext.add_run()\n",
    "    run3.text = \"Cardinal Direction: \"\n",
    "    run3.font.bold = True\n",
    "    run3.font.underline = True  \n",
    "    run3.font.size = Pt(12)\n",
    "    c = infotext.add_run()\n",
    "    if direction is \"N\":\n",
    "        c.text = \"North\"\n",
    "    elif (direction is \"S\"):\n",
    "        c.text = \"South\"\n",
    "    elif (direction is \"E\"):\n",
    "        c.text = \"East\"\n",
    "    elif (direction is \"W\"):\n",
    "        c.text = \"West\"\n",
    "    c.font.size = Pt(12)   "
   ]
  },
  {
   "cell_type": "code",
   "execution_count": 7,
   "metadata": {},
   "outputs": [],
   "source": [
    "# For changing table font sizes\n",
    "def iter_cells(table):\n",
    "    for row in table.rows:\n",
    "        for cell in row.cells:\n",
    "            yield cell\n",
    "# Create list of Sign Overheads\n",
    "def makeSignTable(sigID,nSlide,direction,signs):\n",
    "    # row/column/left/top/width/height\n",
    "    table = nSlide.add_table(6,4,Inches(0.25),Inches(5.2),170,1000).table\n",
    "    table.cell(0,0).text = \"Sign Type\"\n",
    "    table.cell(0,1).text = \"Street Sign\"\n",
    "    table.cell(0,2).text = \"Bottom Text\"\n",
    "    table.cell(0,3).text = \"Install/Remove\"\n",
    "    \n",
    "    table.columns[0].width = Inches(5)\n",
    "    table.columns[1].width = Inches(1.75)\n",
    "    table.columns[2].width = Inches(1.5)\n",
    "    table.columns[3].width = Inches(1.3)\n",
    "    \n",
    "    index = 1\n",
    "    for x in signs:\n",
    "        if x[\"Signal ID\"] == sigID and x[\"Direction\"] == direction:\n",
    "            table.cell(index,0).text = x[\"Sign Type\"]\n",
    "            table.cell(index,1).text = x[\"Street Sign\"]\n",
    "            table.cell(index,2).text = x[\"Bottom Text (Optional)\"]\n",
    "            table.cell(index,3).text = x[\"Install/Remove\"]\n",
    "            index +=1\n",
    "    for cell in iter_cells(table):\n",
    "        for paragraph in cell.text_frame.paragraphs:\n",
    "            for run in paragraph.runs:\n",
    "                run.font.size = Pt(12)"
   ]
  },
  {
   "cell_type": "code",
   "execution_count": 8,
   "metadata": {},
   "outputs": [],
   "source": [
    "# Converts Powerpoint file to PDF file\n",
    "def convertPDF(path,name):\n",
    "    in_file = path + \"/\" + name\n",
    "    out_file = path + \"PDF\\\\\" + name[:-5] + \".pdf\"\n",
    "    powerpoint = win32com.client.Dispatch(\"Powerpoint.Application\")\n",
    "    pdf = powerpoint.Presentations.Open(in_file,WithWindow=False)\n",
    "    pdf.SaveCopyAs(out_file,32)\n",
    "    pdf.Close()\n",
    "    powerpoint.Quit()"
   ]
  },
  {
   "cell_type": "code",
   "execution_count": 9,
   "metadata": {
    "scrolled": true
   },
   "outputs": [],
   "source": [
    "dirs = [\"N\",\"S\",\"E\",\"W\"]\n",
    "path = \"G:\\\\ATD\\\\ATD_GIS\\\\Signs\\\\123_Signs_Maintenance_Plan\\\\Operational_Maintenance_Areas_Sign_Maintenance_Plan\\\\WorkOrderSignsOverheadFY2019\"\n",
    "imagePath = \"G:/ATD/ATD_GIS/Signs/123_Signs_Maintenance_Plan/Operational_Maintenance_Areas_Sign_Maintenance_Plan/SignsFY2019Imagery\"\n",
    "\n",
    "for valueDictionary in signalID:\n",
    "    workOrder = Presentation()\n",
    "    dirindex = 0\n",
    "    for direction in dirs:\n",
    "        if \"N/A\" not in valueDictionary[\"Link (\"+ direction + \")\"]:\n",
    "            blank_slide_layout = workOrder.slide_layouts[6]\n",
    "            slide = workOrder.slides.add_slide(blank_slide_layout)\n",
    "            nSlide = slide.shapes\n",
    "            makeImg(valueDictionary[\"Signal ID\"], nSlide)\n",
    "            makeSignTable(valueDictionary[\"Signal ID\"],nSlide,direction,signs)\n",
    "            makeHead(nSlide)\n",
    "            makeInfo(valueDictionary, nSlide, direction)\n",
    "        dirindex += 1\n",
    "    name = \"ATDSignsWorkOrders_\" + valueDictionary[\"Signal ID\"] + \".pptx\"\n",
    "    workOrder.save(str(path) + \"/\" + name)\n",
    "    convertPDF(path,name)"
   ]
  },
  {
   "cell_type": "code",
   "execution_count": null,
   "metadata": {},
   "outputs": [],
   "source": []
  }
 ],
 "metadata": {
  "kernelspec": {
   "display_name": "Python 3",
   "language": "python",
   "name": "python3"
  },
  "language_info": {
   "codemirror_mode": {
    "name": "ipython",
    "version": 3
   },
   "file_extension": ".py",
   "mimetype": "text/x-python",
   "name": "python",
   "nbconvert_exporter": "python",
   "pygments_lexer": "ipython3",
   "version": "3.8.2"
  },
  "toc": {
   "base_numbering": 1,
   "nav_menu": {},
   "number_sections": true,
   "sideBar": true,
   "skip_h1_title": false,
   "title_cell": "Table of Contents",
   "title_sidebar": "Contents",
   "toc_cell": false,
   "toc_position": {},
   "toc_section_display": true,
   "toc_window_display": false
  }
 },
 "nbformat": 4,
 "nbformat_minor": 4
}
