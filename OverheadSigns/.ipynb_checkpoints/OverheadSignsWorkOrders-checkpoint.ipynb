{
 "cells": [
  {
   "cell_type": "markdown",
   "metadata": {},
   "source": [
    "# Overhead Signs Work Order Creation\n",
    "--------------------------------------------------\n",
    "The purpose of this script is to create work orders of overhead street name signs. The information for work orders are created from a feature layer of operational maintenance areas intersecting signalized intersections.\n"
   ]
  },
  {
   "cell_type": "markdown",
   "metadata": {},
   "source": [
    "## Imports"
   ]
  },
  {
   "cell_type": "code",
   "execution_count": 36,
   "metadata": {},
   "outputs": [],
   "source": [
    "from arcgis.gis import GIS\n",
    "from arcgis.features import FeatureLayer,GeoAccessor, GeoSeriesAccessor\n",
    "from arcgis.features.manage_data import overlay_layers\n",
    "import pandas as pd\n",
    "import openpyxl\n",
    "from selenium import webdriver\n",
    "from pathlib import Path\n",
    "import math"
   ]
  },
  {
   "cell_type": "markdown",
   "metadata": {},
   "source": [
    "Access the COA login"
   ]
  },
  {
   "cell_type": "code",
   "execution_count": null,
   "metadata": {},
   "outputs": [],
   "source": [
    "gis = GIS(\"https://austin.maps.arcgis.com/home/index.html\", client_id='CrnxPfTcm7Y7ZGl7')"
   ]
  },
  {
   "cell_type": "markdown",
   "metadata": {},
   "source": [
    "Set variables for url, file path, author, and analysis layer."
   ]
  },
  {
   "cell_type": "code",
   "execution_count": 32,
   "metadata": {},
   "outputs": [],
   "source": [
    "url = r\"https://services.arcgis.com/0L95CJ0VTaxqcmED/arcgis/rest/services/{}/FeatureServer/0\"\n",
    "file_path = str(Path.cwd())\n",
    "author = \"Susanne Gov\"\n",
    "overhead = \"Signs Markings Maintenance\"\n",
    "directions = list(\"NSEW\")\n",
    "col = ['COA_INTERSECTION_ID','FY_OVERHEAD_SIGN_MAINT','LOCATION_NAME','LATITUDE','LONGITUDE']"
   ]
  },
  {
   "cell_type": "markdown",
   "metadata": {},
   "source": [
    "Retrieve locations of signalized intersections intersecting operational maintenance areas to publish into a folder and excel worksheet."
   ]
  },
  {
   "cell_type": "code",
   "execution_count": null,
   "metadata": {},
   "outputs": [],
   "source": [
    "# This intersect analysis has already been completed\n",
    "#signals = FeatureLayer(url.format(\"TRANSPORTATION_signals2\"))\n",
    "#oma = FeatureLayer(url.format(\"Signs_Markings_OMA\")) #OMA layer will be on AGOL\n",
    "#analysis = overlay_layers(oma,signals,overlay_type=\"Intersect\", output_name=overhead)"
   ]
  },
  {
   "cell_type": "markdown",
   "metadata": {},
   "source": [
    "Create overhead feature layer"
   ]
  },
  {
   "cell_type": "code",
   "execution_count": 4,
   "metadata": {},
   "outputs": [],
   "source": [
    "fl = pd.DataFrame.spatial.from_layer(FeatureLayer(url.format(overhead))).set_index(\"SIGNAL_ID\")"
   ]
  },
  {
   "cell_type": "markdown",
   "metadata": {},
   "source": [
    "Query and filter dataset. Add columns for Google URL, N,S,E,W, and Created By."
   ]
  },
  {
   "cell_type": "code",
   "execution_count": 33,
   "metadata": {},
   "outputs": [
    {
     "data": {
      "text/html": [
       "<div>\n",
       "<style scoped>\n",
       "    .dataframe tbody tr th:only-of-type {\n",
       "        vertical-align: middle;\n",
       "    }\n",
       "\n",
       "    .dataframe tbody tr th {\n",
       "        vertical-align: top;\n",
       "    }\n",
       "\n",
       "    .dataframe thead th {\n",
       "        text-align: right;\n",
       "    }\n",
       "</style>\n",
       "<table border=\"1\" class=\"dataframe\">\n",
       "  <thead>\n",
       "    <tr style=\"text-align: right;\">\n",
       "      <th></th>\n",
       "      <th>COA_INTERSECTION_ID</th>\n",
       "      <th>FY_OVERHEAD_SIGN_MAINT</th>\n",
       "      <th>LOCATION_NAME</th>\n",
       "      <th>LATITUDE</th>\n",
       "      <th>LONGITUDE</th>\n",
       "      <th>GOOGLE_URL</th>\n",
       "      <th>N</th>\n",
       "      <th>S</th>\n",
       "      <th>E</th>\n",
       "      <th>W</th>\n",
       "      <th>CREATED_BY</th>\n",
       "    </tr>\n",
       "  </thead>\n",
       "  <tbody>\n",
       "    <tr>\n",
       "      <th>88</th>\n",
       "      <td>5157283.0</td>\n",
       "      <td>2020</td>\n",
       "      <td>BURNET RD / HANCOCK DR</td>\n",
       "      <td>None</td>\n",
       "      <td>None</td>\n",
       "      <td>https://www.google.com/maps/place/BURNET+RD+%2...</td>\n",
       "      <td>NaN</td>\n",
       "      <td>NaN</td>\n",
       "      <td>NaN</td>\n",
       "      <td>NaN</td>\n",
       "      <td>Susanne Gov</td>\n",
       "    </tr>\n",
       "    <tr>\n",
       "      <th>104</th>\n",
       "      <td>5155653.0</td>\n",
       "      <td>2020</td>\n",
       "      <td>LAMAR BLVD / PARKWAY</td>\n",
       "      <td>None</td>\n",
       "      <td>None</td>\n",
       "      <td>https://www.google.com/maps/place/LAMAR+BLVD+%...</td>\n",
       "      <td>NaN</td>\n",
       "      <td>NaN</td>\n",
       "      <td>NaN</td>\n",
       "      <td>NaN</td>\n",
       "      <td>Susanne Gov</td>\n",
       "    </tr>\n",
       "    <tr>\n",
       "      <th>111</th>\n",
       "      <td>5155479.0</td>\n",
       "      <td>2020</td>\n",
       "      <td>35TH ST / JEFFERSON ST</td>\n",
       "      <td>None</td>\n",
       "      <td>None</td>\n",
       "      <td>https://www.google.com/maps/place/35TH+ST+%26+...</td>\n",
       "      <td>NaN</td>\n",
       "      <td>NaN</td>\n",
       "      <td>NaN</td>\n",
       "      <td>NaN</td>\n",
       "      <td>Susanne Gov</td>\n",
       "    </tr>\n",
       "    <tr>\n",
       "      <th>205</th>\n",
       "      <td>5153995.0</td>\n",
       "      <td>2020</td>\n",
       "      <td>6TH ST / CAMPBELL ST</td>\n",
       "      <td>None</td>\n",
       "      <td>None</td>\n",
       "      <td>https://www.google.com/maps/place/6TH+ST+%26+C...</td>\n",
       "      <td>NaN</td>\n",
       "      <td>NaN</td>\n",
       "      <td>NaN</td>\n",
       "      <td>NaN</td>\n",
       "      <td>Susanne Gov</td>\n",
       "    </tr>\n",
       "    <tr>\n",
       "      <th>209</th>\n",
       "      <td>5154661.0</td>\n",
       "      <td>2020</td>\n",
       "      <td>12TH ST / WEST LYNN ST</td>\n",
       "      <td>None</td>\n",
       "      <td>None</td>\n",
       "      <td>https://www.google.com/maps/place/12TH+ST+%26+...</td>\n",
       "      <td>NaN</td>\n",
       "      <td>NaN</td>\n",
       "      <td>NaN</td>\n",
       "      <td>NaN</td>\n",
       "      <td>Susanne Gov</td>\n",
       "    </tr>\n",
       "  </tbody>\n",
       "</table>\n",
       "</div>"
      ],
      "text/plain": [
       "     COA_INTERSECTION_ID FY_OVERHEAD_SIGN_MAINT            LOCATION_NAME  \\\n",
       "88             5157283.0                   2020   BURNET RD / HANCOCK DR   \n",
       "104            5155653.0                   2020    LAMAR BLVD / PARKWAY    \n",
       "111            5155479.0                   2020   35TH ST / JEFFERSON ST   \n",
       "205            5153995.0                   2020     6TH ST / CAMPBELL ST   \n",
       "209            5154661.0                   2020   12TH ST / WEST LYNN ST   \n",
       "\n",
       "    LATITUDE LONGITUDE                                         GOOGLE_URL  \\\n",
       "88      None      None  https://www.google.com/maps/place/BURNET+RD+%2...   \n",
       "104     None      None  https://www.google.com/maps/place/LAMAR+BLVD+%...   \n",
       "111     None      None  https://www.google.com/maps/place/35TH+ST+%26+...   \n",
       "205     None      None  https://www.google.com/maps/place/6TH+ST+%26+C...   \n",
       "209     None      None  https://www.google.com/maps/place/12TH+ST+%26+...   \n",
       "\n",
       "       N    S    E    W   CREATED_BY  \n",
       "88   NaN  NaN  NaN  NaN  Susanne Gov  \n",
       "104  NaN  NaN  NaN  NaN  Susanne Gov  \n",
       "111  NaN  NaN  NaN  NaN  Susanne Gov  \n",
       "205  NaN  NaN  NaN  NaN  Susanne Gov  \n",
       "209  NaN  NaN  NaN  NaN  Susanne Gov  "
      ]
     },
     "metadata": {},
     "output_type": "display_data"
    }
   ],
   "source": [
    "df = fl.query(\"FY_OVERHEAD_SIGN_MAINT == '2020'\").filter(items=col)\n",
    "g_url = \"https://www.google.com/maps/place/{},+Austin,+TX\"\n",
    "gmap = df['LOCATION_NAME'].apply(lambda x: g_url.format(x.lstrip().replace(\" / \",\"+%26+\").replace(\" \",\"+\").split(\"(\", 1)[0]))\n",
    "gmap = pd.DataFrame(gmap).rename(columns={\"LOCATION_NAME\":\"GOOGLE_URL\"})\n",
    "df = pd.concat([df.join(gmap),pd.DataFrame(columns=directions)],sort=False)\n",
    "df['CREATED_BY'] = author\n",
    "df.to_excel(file_path + r\"/OverheadSigns_FY2020.xlsx\", sheet_name='OMA_Signals')\n",
    "display(df.head()) # Display first 5 rows"
   ]
  },
  {
   "cell_type": "code",
   "execution_count": 29,
   "metadata": {},
   "outputs": [
    {
     "data": {
      "text/plain": [
       "548"
      ]
     },
     "execution_count": 29,
     "metadata": {},
     "output_type": "execute_result"
    }
   ],
   "source": [
    "# Estimate photos to to input manually. Multiplied by 4 by number of signal poles.\n",
    "df['GOOGLE_URL'].count() * 4"
   ]
  },
  {
   "cell_type": "code",
   "execution_count": null,
   "metadata": {},
   "outputs": [],
   "source": [
    "DRIVER = file_path + r'/chromedriver'\n",
    "df = pd.read_excel(file_path + r\"/OverheadSigns_FY2020.xlsx\")\n",
    "\n",
    "driver = webdriver.Chrome(DRIVER)\n",
    "driver.maximize_window()\n",
    "\n",
    "# for loop 548 links. expection if null link\n",
    "for index, row in df.iterrows():\n",
    "    for x in directions:\n",
    "        link = row[x]\n",
    "        if math.isnan(link) is False:\n",
    "            driver.get(link)\n",
    "            screenshot = driver.save_screenshot('{}_{}.png'.format(index,x))\n",
    "        break\n",
    "    \n",
    "driver.get('https://www.spotify.com')\n",
    "screenshot = driver.save_screenshot('screenshot.png')\n",
    "driver.quit()"
   ]
  },
  {
   "cell_type": "code",
   "execution_count": 18,
   "metadata": {},
   "outputs": [],
   "source": [
    "# Workflow for 2020\n",
    "# 1) Merge OMA and signals - waiting for OMA to be published on AGOL/GISMaint\n",
    "# 2) Filter df to 2020 Overhead maintenance\n",
    "# 3) Create dataset of all urls\n",
    "# 4) Input overhead photo urls\n",
    "# 5) Create for loop for screengrab, cropping, and input into Vision AI api\n",
    "# 6) Get JSON for each photo\n",
    "# 6) Create table of work orders from JSON\n",
    "#\n",
    "#\n",
    "# VVVV              BELOW IS PART OF OLD SCRIPT             VVVV\n",
    "\n",
    "from pptx import Presentation\n",
    "from pptx.util import Inches, Pt\n",
    "from pptx.dml.color import RGBColor\n",
    "from PIL import Image\n",
    "from resizeimage import resizeimage\n",
    "from collections import OrderedDict\n",
    "import datetime\n",
    "import sys\n",
    "import os\n",
    "import win32com.client"
   ]
  },
  {
   "cell_type": "code",
   "execution_count": 5,
   "metadata": {},
   "outputs": [],
   "source": [
    "# This will create the list of values for each intersection based on signal ID\n",
    "filePath = r\"G:\\ATD\\ATD_GIS\\Signs\\123_Signs_Maintenance_Plan\\Operational_Maintenance_Areas_Sign_Maintenance_Plan\"\n",
    "author = \"Susanne Gov\"\n",
    "\n",
    "df = pd.read_excel(filePath + r\"\\OverheadSigns_FY2019.xlsx\", sheet_name='Signs')  # sheetname is optional\n",
    "df.to_csv(filePath + r'\\OverheadSigns_FY2019_SIGNS.csv', index=False)\n",
    "\n",
    "work_orders = pd.read_excel(filePath + r\"\\OverheadSigns_FY2019.xlsx\", sheet_name='StreetView Link')  # sheetname is optional\n",
    "work_orders.to_csv(filePath + r'\\OverheadSigns_FY2019.csv', index=False)          \n",
    "signalID = []\n",
    "index = 1\n",
    "with open (filePath + r'\\OverheadSigns_FY2019.csv','r') as csvfile:\n",
    "    orderRow = csv.reader(csvfile, delimiter=',')\n",
    "    for row in orderRow:\n",
    "        values = OrderedDict()\n",
    "        if row[0] != \"SIGNAL_ID\":\n",
    "            values[\"Created Date\"] = row[15]\n",
    "            values[\"Created By\"] = author\n",
    "            values[\"Work Order ID\"] = row[14]\n",
    "            values[\"Signal ID\"] = row[0]\n",
    "            values[\"Intersection ID\"] = row[1]\n",
    "            values[\"Primary Street\"] = row[2]\n",
    "            values[\"Cross Street\"] = row[3]\n",
    "            values[\"Link (N)\"] = row[10]\n",
    "            values[\"Link (S)\"] = row[11]\n",
    "            values[\"Link (E)\"] = row[12]\n",
    "            values[\"Link (W)\"] = row[13]\n",
    "            signalID.append(values)\n",
    "            index +=1\n",
    "    index = 1\n",
    "    csvfile.close()"
   ]
  },
  {
   "cell_type": "code",
   "execution_count": 3,
   "metadata": {},
   "outputs": [],
   "source": [
    "signs = []\n",
    "\n",
    "with open (filePath + r'\\OverheadSigns_FY2019_SIGNS.csv','rU') as csvfile:\n",
    "    csv = csv.reader(csvfile, delimiter=',')\n",
    "    for row in csv:\n",
    "        sign = OrderedDict()\n",
    "        sign[\"Signal ID\"] = row[0]\n",
    "        sign[\"Direction\"] = row[1]\n",
    "        sign[\"Sign Type\"] = row[2] \n",
    "        sign[\"Street Sign\"] = row[3]\n",
    "        sign[\"Bottom Text (Optional)\"] = row[6]\n",
    "        sign[\"Install/Remove\"] = row[7]\n",
    "        signs.append(sign)"
   ]
  },
  {
   "cell_type": "code",
   "execution_count": 4,
   "metadata": {},
   "outputs": [],
   "source": [
    "# Take an existing image of the streetview imagery and will resize the image to fit the work order template\n",
    "def makeImg (sigId, nSlide):\n",
    "    imgname = sigId + \"_\" + direction\n",
    "    imagery = imagePath + \"/\" + imgname + \".png\"\n",
    "    try:\n",
    "        with open(imagery, 'r+b') as f:\n",
    "            with Image.open(f) as image:\n",
    "                cover = resizeimage.resize_contain(image, [560, 280])\n",
    "                cover.save(imagePath + \"Cropped/\" + imgname + \".png\", image.format)\n",
    "        pic = nSlide.add_picture(imagePath + \"Cropped/\" + imgname + \".png\",Inches(0.25),Inches(1.1))\n",
    "        line = pic.line\n",
    "        line.color.rgb = RGBColor(0,0,0)\n",
    "        line.width = Inches(0.05)\n",
    "    except IOError:\n",
    "        return None        "
   ]
  },
  {
   "cell_type": "code",
   "execution_count": 5,
   "metadata": {},
   "outputs": [],
   "source": [
    "# Create a pretty header\n",
    "def makeHead(nSlide):\n",
    "    title = nSlide.add_textbox(Inches(0.25),Inches(0.4),Inches(7.5),Inches(0.75))\n",
    "    tf = title.text_frame\n",
    "    tf.clear()\n",
    "    p = tf.paragraphs[0]\n",
    "    run = p.add_run()\n",
    "    run.text = \"Austin Transportation Department Signs Work Orders\"\n",
    "    font = run.font\n",
    "    font.name = 'Arial'\n",
    "    font.size = Pt(20)\n",
    "    font.bold = True\n",
    "    seal = \"G:/ATD/ATD_GIS/03_RESOURCES/Seals_Logos/cityseal_60_x_60.jpg\"\n",
    "    pic = nSlide.add_picture(seal,Inches(8.5),Inches(0.25))"
   ]
  },
  {
   "cell_type": "code",
   "execution_count": 6,
   "metadata": {},
   "outputs": [],
   "source": [
    "# Create information box for work orders\n",
    "def makeInfo(sigID, nSlide, direction):\n",
    "    info = nSlide.add_textbox(Inches(8.25),Inches(1.15),Inches(1.5),Inches(4.5))\n",
    "    infotext = info.text_frame.paragraphs[0]\n",
    "    info.text_frame.word_wrap = True\n",
    "    for (key,val) in sigID.iteritems():\n",
    "        if \"Link\" not in key or direction in key:\n",
    "            run1 = infotext.add_run()\n",
    "            run1.text = key + \"\\n\"\n",
    "            run1.font.size = Pt(12)\n",
    "            run1.font.bold = True\n",
    "            run1.font.underline = True\n",
    "            run2 = infotext.add_run();\n",
    "            if \"Link\" in key and \"N/A\" not in val:\n",
    "                run2.hyperlink.address = val\n",
    "            run2.text =  val + \"\\n\"\n",
    "            run2.font.size = Pt(12)\n",
    "    run3 = infotext.add_run()\n",
    "    run3.text = \"Cardinal Direction: \"\n",
    "    run3.font.bold = True\n",
    "    run3.font.underline = True  \n",
    "    run3.font.size = Pt(12)\n",
    "    c = infotext.add_run()\n",
    "    if direction is \"N\":\n",
    "        c.text = \"North\"\n",
    "    elif (direction is \"S\"):\n",
    "        c.text = \"South\"\n",
    "    elif (direction is \"E\"):\n",
    "        c.text = \"East\"\n",
    "    elif (direction is \"W\"):\n",
    "        c.text = \"West\"\n",
    "    c.font.size = Pt(12)   "
   ]
  },
  {
   "cell_type": "code",
   "execution_count": 7,
   "metadata": {},
   "outputs": [],
   "source": [
    "# For changing table font sizes\n",
    "def iter_cells(table):\n",
    "    for row in table.rows:\n",
    "        for cell in row.cells:\n",
    "            yield cell\n",
    "# Create list of Sign Overheads\n",
    "def makeSignTable(sigID,nSlide,direction,signs):\n",
    "    # row/column/left/top/width/height\n",
    "    table = nSlide.add_table(6,4,Inches(0.25),Inches(5.2),170,1000).table\n",
    "    table.cell(0,0).text = \"Sign Type\"\n",
    "    table.cell(0,1).text = \"Street Sign\"\n",
    "    table.cell(0,2).text = \"Bottom Text\"\n",
    "    table.cell(0,3).text = \"Install/Remove\"\n",
    "    \n",
    "    table.columns[0].width = Inches(5)\n",
    "    table.columns[1].width = Inches(1.75)\n",
    "    table.columns[2].width = Inches(1.5)\n",
    "    table.columns[3].width = Inches(1.3)\n",
    "    \n",
    "    index = 1\n",
    "    for x in signs:\n",
    "        if x[\"Signal ID\"] == sigID and x[\"Direction\"] == direction:\n",
    "            table.cell(index,0).text = x[\"Sign Type\"]\n",
    "            table.cell(index,1).text = x[\"Street Sign\"]\n",
    "            table.cell(index,2).text = x[\"Bottom Text (Optional)\"]\n",
    "            table.cell(index,3).text = x[\"Install/Remove\"]\n",
    "            index +=1\n",
    "    for cell in iter_cells(table):\n",
    "        for paragraph in cell.text_frame.paragraphs:\n",
    "            for run in paragraph.runs:\n",
    "                run.font.size = Pt(12)"
   ]
  },
  {
   "cell_type": "code",
   "execution_count": 8,
   "metadata": {},
   "outputs": [],
   "source": [
    "# Converts Powerpoint file to PDF file\n",
    "def convertPDF(path,name):\n",
    "    in_file = path + \"/\" + name\n",
    "    out_file = path + \"PDF\\\\\" + name[:-5] + \".pdf\"\n",
    "    powerpoint = win32com.client.Dispatch(\"Powerpoint.Application\")\n",
    "    pdf = powerpoint.Presentations.Open(in_file,WithWindow=False)\n",
    "    pdf.SaveCopyAs(out_file,32)\n",
    "    pdf.Close()\n",
    "    powerpoint.Quit()"
   ]
  },
  {
   "cell_type": "code",
   "execution_count": 9,
   "metadata": {
    "scrolled": true
   },
   "outputs": [],
   "source": [
    "dirs = [\"N\",\"S\",\"E\",\"W\"]\n",
    "path = \"G:\\\\ATD\\\\ATD_GIS\\\\Signs\\\\123_Signs_Maintenance_Plan\\\\Operational_Maintenance_Areas_Sign_Maintenance_Plan\\\\WorkOrderSignsOverheadFY2019\"\n",
    "imagePath = \"G:/ATD/ATD_GIS/Signs/123_Signs_Maintenance_Plan/Operational_Maintenance_Areas_Sign_Maintenance_Plan/SignsFY2019Imagery\"\n",
    "\n",
    "for valueDictionary in signalID:\n",
    "    workOrder = Presentation()\n",
    "    dirindex = 0\n",
    "    for direction in dirs:\n",
    "        if \"N/A\" not in valueDictionary[\"Link (\"+ direction + \")\"]:\n",
    "            blank_slide_layout = workOrder.slide_layouts[6]\n",
    "            slide = workOrder.slides.add_slide(blank_slide_layout)\n",
    "            nSlide = slide.shapes\n",
    "            makeImg(valueDictionary[\"Signal ID\"], nSlide)\n",
    "            makeSignTable(valueDictionary[\"Signal ID\"],nSlide,direction,signs)\n",
    "            makeHead(nSlide)\n",
    "            makeInfo(valueDictionary, nSlide, direction)\n",
    "        dirindex += 1\n",
    "    name = \"ATDSignsWorkOrders_\" + valueDictionary[\"Signal ID\"] + \".pptx\"\n",
    "    workOrder.save(str(path) + \"/\" + name)\n",
    "    convertPDF(path,name)"
   ]
  },
  {
   "cell_type": "code",
   "execution_count": null,
   "metadata": {},
   "outputs": [],
   "source": []
  }
 ],
 "metadata": {
  "kernelspec": {
   "display_name": "Python 3",
   "language": "python",
   "name": "python3"
  },
  "language_info": {
   "codemirror_mode": {
    "name": "ipython",
    "version": 3
   },
   "file_extension": ".py",
   "mimetype": "text/x-python",
   "name": "python",
   "nbconvert_exporter": "python",
   "pygments_lexer": "ipython3",
   "version": "3.5.6"
  },
  "toc": {
   "base_numbering": 1,
   "nav_menu": {},
   "number_sections": true,
   "sideBar": true,
   "skip_h1_title": false,
   "title_cell": "Table of Contents",
   "title_sidebar": "Contents",
   "toc_cell": false,
   "toc_position": {},
   "toc_section_display": true,
   "toc_window_display": false
  }
 },
 "nbformat": 4,
 "nbformat_minor": 4
}
